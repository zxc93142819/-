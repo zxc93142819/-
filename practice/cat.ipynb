{
 "cells": [
  {
   "cell_type": "code",
   "execution_count": 1,
   "metadata": {},
   "outputs": [],
   "source": [
    "# import necessary modules\n",
    "import sys\n",
    "import numpy as np\n",
    "import pandas as pd\n",
    "import torch\n",
    "from torchsummary import summary\n",
    "from torch import nn, optim\n",
    "from torch.utils.data import DataLoader, TensorDataset\n",
    "from sklearn.datasets import make_regression, make_circles, make_blobs\n",
    "from sklearn.preprocessing import StandardScaler\n",
    "from sklearn.linear_model import LinearRegression"
   ]
  },
  {
   "cell_type": "code",
   "execution_count": 21,
   "metadata": {},
   "outputs": [],
   "source": [
    "class Cat () : \n",
    "    def __init__(self , name , color , weight) -> None:\n",
    "        self.name = name\n",
    "        self.color = color\n",
    "        self.weight = weight\n",
    "    def __str__(self) :\n",
    "        s = f\"The cat's name is {self.name}, its color is {self.color} and its weight is {self.weight}kg.\"\n",
    "        return s\n",
    "    def __repr__(self) :\n",
    "        s = f\"[{self.name}, {self.color}, {self.weight}]\"\n",
    "        return s\n",
    "    def loss_weight(self , weight) :\n",
    "        self.weight -= weight\n",
    "    def feed(self , another_cat , weight) :\n",
    "        another_cat.weight += weight\n",
    "        print(f\"{self.name} fed {weight}kg of food to {another_cat.name}\")"
   ]
  },
  {
   "cell_type": "code",
   "execution_count": 22,
   "metadata": {},
   "outputs": [
    {
     "name": "stdout",
     "output_type": "stream",
     "text": [
      "The cat's name is ChiChi, its color is white and its weight is 10kg.\n"
     ]
    }
   ],
   "source": [
    "cat1 = Cat(\"ChiChi\" , \"white\" , 10)\n",
    "cat2 = Cat(\"BaBa\" , \"black\" , 16)\n",
    "print(cat1)"
   ]
  },
  {
   "cell_type": "code",
   "execution_count": 23,
   "metadata": {},
   "outputs": [
    {
     "data": {
      "text/plain": [
       "[ChiChi, white, 10]"
      ]
     },
     "execution_count": 23,
     "metadata": {},
     "output_type": "execute_result"
    }
   ],
   "source": [
    "cat1"
   ]
  },
  {
   "cell_type": "code",
   "execution_count": 24,
   "metadata": {},
   "outputs": [
    {
     "data": {
      "text/plain": [
       "[ChiChi, white, 7]"
      ]
     },
     "execution_count": 24,
     "metadata": {},
     "output_type": "execute_result"
    }
   ],
   "source": [
    "cat1.loss_weight(3)\n",
    "cat1"
   ]
  },
  {
   "cell_type": "code",
   "execution_count": 25,
   "metadata": {},
   "outputs": [
    {
     "data": {
      "text/plain": [
       "[BaBa, black, 16]"
      ]
     },
     "execution_count": 25,
     "metadata": {},
     "output_type": "execute_result"
    }
   ],
   "source": [
    "cat2"
   ]
  },
  {
   "cell_type": "code",
   "execution_count": 27,
   "metadata": {},
   "outputs": [
    {
     "name": "stdout",
     "output_type": "stream",
     "text": [
      "ChiChi fed 4kg of food to BaBa\n"
     ]
    },
    {
     "data": {
      "text/plain": [
       "[BaBa, black, 24]"
      ]
     },
     "execution_count": 27,
     "metadata": {},
     "output_type": "execute_result"
    }
   ],
   "source": [
    "cat1.feed(cat2 , 4)\n",
    "cat2"
   ]
  },
  {
   "cell_type": "code",
   "execution_count": 37,
   "metadata": {},
   "outputs": [
    {
     "name": "stdout",
     "output_type": "stream",
     "text": [
      "0.8485148518443663\n",
      "0.12853739804389944\n"
     ]
    }
   ],
   "source": [
    "import math\n",
    "x = 1.723\n",
    "g_x = 1 / (1 + math.exp(-x))\n",
    "print( g_x )\n",
    "print( g_x * (1 - g_x) )"
   ]
  },
  {
   "cell_type": "code",
   "execution_count": null,
   "metadata": {},
   "outputs": [],
   "source": []
  }
 ],
 "metadata": {
  "kernelspec": {
   "display_name": "Python 3",
   "language": "python",
   "name": "python3"
  },
  "language_info": {
   "codemirror_mode": {
    "name": "ipython",
    "version": 3
   },
   "file_extension": ".py",
   "mimetype": "text/x-python",
   "name": "python",
   "nbconvert_exporter": "python",
   "pygments_lexer": "ipython3",
   "version": "3.12.2"
  }
 },
 "nbformat": 4,
 "nbformat_minor": 2
}
