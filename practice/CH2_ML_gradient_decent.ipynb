{
 "cells": [
  {
   "cell_type": "markdown",
   "id": "22bbbf9e-a76c-4b67-85a1-f8588bc7fc53",
   "metadata": {},
   "source": [
    "**Lecutre on Gradient decent"
   ]
  },
  {
   "cell_type": "code",
   "execution_count": 4,
   "id": "1e9427c9-ef45-4144-bac3-28fade932605",
   "metadata": {
    "tags": []
   },
   "outputs": [],
   "source": [
    "#import necessary modulus or packages\n",
    "import numpy as np\n",
    "import pandas as pd\n",
    "from scipy.optimize import minimize\n",
    "from sklearn.preprocessing import StandardScaler\n",
    "from sklearn.linear_model import LinearRegression, LogisticRegression\n",
    "from sklearn.metrics import mean_squared_error, mean_absolute_error\n",
    "from utils_pkg.utils.plotting import *"
   ]
  },
  {
   "cell_type": "code",
   "execution_count": 2,
   "id": "f4e214ef-e9c0-43cb-8e56-781536a53103",
   "metadata": {
    "tags": []
   },
   "outputs": [],
   "source": [
    "#load pokemon data\n",
    "#using pandas dataframe as our data container\n",
    "df=pd.read_csv(\"pokemon.csv\", usecols=['name','attack','defense'],index_col=0)"
   ]
  },
  {
   "cell_type": "code",
   "execution_count": 3,
   "id": "68c4b051-fd42-48d1-99fd-dc708a061b95",
   "metadata": {
    "tags": []
   },
   "outputs": [],
   "source": [
    "df = df.head(10).sort_values('defense').reset_index()"
   ]
  },
  {
   "cell_type": "code",
   "execution_count": 4,
   "id": "52e12c34-f869-4a8a-88f4-5763dd5c7e7e",
   "metadata": {
    "tags": []
   },
   "outputs": [],
   "source": [
    "#input feature : defense value of pokemon\n",
    "x = df['defense']"
   ]
  },
  {
   "cell_type": "code",
   "execution_count": 5,
   "id": "43288f96-d6f3-4f95-956c-16df650eb0f5",
   "metadata": {
    "tags": []
   },
   "outputs": [],
   "source": [
    "#labek : attach value of pokemon\n",
    "y = df['attack']"
   ]
  },
  {
   "cell_type": "code",
   "execution_count": 6,
   "id": "b1fc4cf5-38c3-4484-91af-f56c193df205",
   "metadata": {
    "tags": []
   },
   "outputs": [
    {
     "data": {
      "application/vnd.plotly.v1+json": {
       "config": {
        "plotlyServerURL": "https://plot.ly"
       },
       "data": [
        {
         "marker": {
          "size": 10
         },
         "mode": "markers",
         "name": "data",
         "type": "scatter",
         "x": [
          35,
          43,
          49,
          58,
          63,
          65,
          78,
          80,
          120,
          123
         ],
         "y": [
          30,
          52,
          49,
          64,
          62,
          48,
          104,
          63,
          103,
          100
         ]
        }
       ],
       "layout": {
        "height": 500,
        "margin": {
         "t": 60
        },
        "template": {
         "data": {
          "bar": [
           {
            "error_x": {
             "color": "#2a3f5f"
            },
            "error_y": {
             "color": "#2a3f5f"
            },
            "marker": {
             "line": {
              "color": "#E5ECF6",
              "width": 0.5
             },
             "pattern": {
              "fillmode": "overlay",
              "size": 10,
              "solidity": 0.2
             }
            },
            "type": "bar"
           }
          ],
          "barpolar": [
           {
            "marker": {
             "line": {
              "color": "#E5ECF6",
              "width": 0.5
             },
             "pattern": {
              "fillmode": "overlay",
              "size": 10,
              "solidity": 0.2
             }
            },
            "type": "barpolar"
           }
          ],
          "carpet": [
           {
            "aaxis": {
             "endlinecolor": "#2a3f5f",
             "gridcolor": "white",
             "linecolor": "white",
             "minorgridcolor": "white",
             "startlinecolor": "#2a3f5f"
            },
            "baxis": {
             "endlinecolor": "#2a3f5f",
             "gridcolor": "white",
             "linecolor": "white",
             "minorgridcolor": "white",
             "startlinecolor": "#2a3f5f"
            },
            "type": "carpet"
           }
          ],
          "choropleth": [
           {
            "colorbar": {
             "outlinewidth": 0,
             "ticks": ""
            },
            "type": "choropleth"
           }
          ],
          "contour": [
           {
            "colorbar": {
             "outlinewidth": 0,
             "ticks": ""
            },
            "colorscale": [
             [
              0,
              "#0d0887"
             ],
             [
              0.1111111111111111,
              "#46039f"
             ],
             [
              0.2222222222222222,
              "#7201a8"
             ],
             [
              0.3333333333333333,
              "#9c179e"
             ],
             [
              0.4444444444444444,
              "#bd3786"
             ],
             [
              0.5555555555555556,
              "#d8576b"
             ],
             [
              0.6666666666666666,
              "#ed7953"
             ],
             [
              0.7777777777777778,
              "#fb9f3a"
             ],
             [
              0.8888888888888888,
              "#fdca26"
             ],
             [
              1,
              "#f0f921"
             ]
            ],
            "type": "contour"
           }
          ],
          "contourcarpet": [
           {
            "colorbar": {
             "outlinewidth": 0,
             "ticks": ""
            },
            "type": "contourcarpet"
           }
          ],
          "heatmap": [
           {
            "colorbar": {
             "outlinewidth": 0,
             "ticks": ""
            },
            "colorscale": [
             [
              0,
              "#0d0887"
             ],
             [
              0.1111111111111111,
              "#46039f"
             ],
             [
              0.2222222222222222,
              "#7201a8"
             ],
             [
              0.3333333333333333,
              "#9c179e"
             ],
             [
              0.4444444444444444,
              "#bd3786"
             ],
             [
              0.5555555555555556,
              "#d8576b"
             ],
             [
              0.6666666666666666,
              "#ed7953"
             ],
             [
              0.7777777777777778,
              "#fb9f3a"
             ],
             [
              0.8888888888888888,
              "#fdca26"
             ],
             [
              1,
              "#f0f921"
             ]
            ],
            "type": "heatmap"
           }
          ],
          "heatmapgl": [
           {
            "colorbar": {
             "outlinewidth": 0,
             "ticks": ""
            },
            "colorscale": [
             [
              0,
              "#0d0887"
             ],
             [
              0.1111111111111111,
              "#46039f"
             ],
             [
              0.2222222222222222,
              "#7201a8"
             ],
             [
              0.3333333333333333,
              "#9c179e"
             ],
             [
              0.4444444444444444,
              "#bd3786"
             ],
             [
              0.5555555555555556,
              "#d8576b"
             ],
             [
              0.6666666666666666,
              "#ed7953"
             ],
             [
              0.7777777777777778,
              "#fb9f3a"
             ],
             [
              0.8888888888888888,
              "#fdca26"
             ],
             [
              1,
              "#f0f921"
             ]
            ],
            "type": "heatmapgl"
           }
          ],
          "histogram": [
           {
            "marker": {
             "pattern": {
              "fillmode": "overlay",
              "size": 10,
              "solidity": 0.2
             }
            },
            "type": "histogram"
           }
          ],
          "histogram2d": [
           {
            "colorbar": {
             "outlinewidth": 0,
             "ticks": ""
            },
            "colorscale": [
             [
              0,
              "#0d0887"
             ],
             [
              0.1111111111111111,
              "#46039f"
             ],
             [
              0.2222222222222222,
              "#7201a8"
             ],
             [
              0.3333333333333333,
              "#9c179e"
             ],
             [
              0.4444444444444444,
              "#bd3786"
             ],
             [
              0.5555555555555556,
              "#d8576b"
             ],
             [
              0.6666666666666666,
              "#ed7953"
             ],
             [
              0.7777777777777778,
              "#fb9f3a"
             ],
             [
              0.8888888888888888,
              "#fdca26"
             ],
             [
              1,
              "#f0f921"
             ]
            ],
            "type": "histogram2d"
           }
          ],
          "histogram2dcontour": [
           {
            "colorbar": {
             "outlinewidth": 0,
             "ticks": ""
            },
            "colorscale": [
             [
              0,
              "#0d0887"
             ],
             [
              0.1111111111111111,
              "#46039f"
             ],
             [
              0.2222222222222222,
              "#7201a8"
             ],
             [
              0.3333333333333333,
              "#9c179e"
             ],
             [
              0.4444444444444444,
              "#bd3786"
             ],
             [
              0.5555555555555556,
              "#d8576b"
             ],
             [
              0.6666666666666666,
              "#ed7953"
             ],
             [
              0.7777777777777778,
              "#fb9f3a"
             ],
             [
              0.8888888888888888,
              "#fdca26"
             ],
             [
              1,
              "#f0f921"
             ]
            ],
            "type": "histogram2dcontour"
           }
          ],
          "mesh3d": [
           {
            "colorbar": {
             "outlinewidth": 0,
             "ticks": ""
            },
            "type": "mesh3d"
           }
          ],
          "parcoords": [
           {
            "line": {
             "colorbar": {
              "outlinewidth": 0,
              "ticks": ""
             }
            },
            "type": "parcoords"
           }
          ],
          "pie": [
           {
            "automargin": true,
            "type": "pie"
           }
          ],
          "scatter": [
           {
            "fillpattern": {
             "fillmode": "overlay",
             "size": 10,
             "solidity": 0.2
            },
            "type": "scatter"
           }
          ],
          "scatter3d": [
           {
            "line": {
             "colorbar": {
              "outlinewidth": 0,
              "ticks": ""
             }
            },
            "marker": {
             "colorbar": {
              "outlinewidth": 0,
              "ticks": ""
             }
            },
            "type": "scatter3d"
           }
          ],
          "scattercarpet": [
           {
            "marker": {
             "colorbar": {
              "outlinewidth": 0,
              "ticks": ""
             }
            },
            "type": "scattercarpet"
           }
          ],
          "scattergeo": [
           {
            "marker": {
             "colorbar": {
              "outlinewidth": 0,
              "ticks": ""
             }
            },
            "type": "scattergeo"
           }
          ],
          "scattergl": [
           {
            "marker": {
             "colorbar": {
              "outlinewidth": 0,
              "ticks": ""
             }
            },
            "type": "scattergl"
           }
          ],
          "scattermapbox": [
           {
            "marker": {
             "colorbar": {
              "outlinewidth": 0,
              "ticks": ""
             }
            },
            "type": "scattermapbox"
           }
          ],
          "scatterpolar": [
           {
            "marker": {
             "colorbar": {
              "outlinewidth": 0,
              "ticks": ""
             }
            },
            "type": "scatterpolar"
           }
          ],
          "scatterpolargl": [
           {
            "marker": {
             "colorbar": {
              "outlinewidth": 0,
              "ticks": ""
             }
            },
            "type": "scatterpolargl"
           }
          ],
          "scatterternary": [
           {
            "marker": {
             "colorbar": {
              "outlinewidth": 0,
              "ticks": ""
             }
            },
            "type": "scatterternary"
           }
          ],
          "surface": [
           {
            "colorbar": {
             "outlinewidth": 0,
             "ticks": ""
            },
            "colorscale": [
             [
              0,
              "#0d0887"
             ],
             [
              0.1111111111111111,
              "#46039f"
             ],
             [
              0.2222222222222222,
              "#7201a8"
             ],
             [
              0.3333333333333333,
              "#9c179e"
             ],
             [
              0.4444444444444444,
              "#bd3786"
             ],
             [
              0.5555555555555556,
              "#d8576b"
             ],
             [
              0.6666666666666666,
              "#ed7953"
             ],
             [
              0.7777777777777778,
              "#fb9f3a"
             ],
             [
              0.8888888888888888,
              "#fdca26"
             ],
             [
              1,
              "#f0f921"
             ]
            ],
            "type": "surface"
           }
          ],
          "table": [
           {
            "cells": {
             "fill": {
              "color": "#EBF0F8"
             },
             "line": {
              "color": "white"
             }
            },
            "header": {
             "fill": {
              "color": "#C8D4E3"
             },
             "line": {
              "color": "white"
             }
            },
            "type": "table"
           }
          ]
         },
         "layout": {
          "annotationdefaults": {
           "arrowcolor": "#2a3f5f",
           "arrowhead": 0,
           "arrowwidth": 1
          },
          "autotypenumbers": "strict",
          "coloraxis": {
           "colorbar": {
            "outlinewidth": 0,
            "ticks": ""
           }
          },
          "colorscale": {
           "diverging": [
            [
             0,
             "#8e0152"
            ],
            [
             0.1,
             "#c51b7d"
            ],
            [
             0.2,
             "#de77ae"
            ],
            [
             0.3,
             "#f1b6da"
            ],
            [
             0.4,
             "#fde0ef"
            ],
            [
             0.5,
             "#f7f7f7"
            ],
            [
             0.6,
             "#e6f5d0"
            ],
            [
             0.7,
             "#b8e186"
            ],
            [
             0.8,
             "#7fbc41"
            ],
            [
             0.9,
             "#4d9221"
            ],
            [
             1,
             "#276419"
            ]
           ],
           "sequential": [
            [
             0,
             "#0d0887"
            ],
            [
             0.1111111111111111,
             "#46039f"
            ],
            [
             0.2222222222222222,
             "#7201a8"
            ],
            [
             0.3333333333333333,
             "#9c179e"
            ],
            [
             0.4444444444444444,
             "#bd3786"
            ],
            [
             0.5555555555555556,
             "#d8576b"
            ],
            [
             0.6666666666666666,
             "#ed7953"
            ],
            [
             0.7777777777777778,
             "#fb9f3a"
            ],
            [
             0.8888888888888888,
             "#fdca26"
            ],
            [
             1,
             "#f0f921"
            ]
           ],
           "sequentialminus": [
            [
             0,
             "#0d0887"
            ],
            [
             0.1111111111111111,
             "#46039f"
            ],
            [
             0.2222222222222222,
             "#7201a8"
            ],
            [
             0.3333333333333333,
             "#9c179e"
            ],
            [
             0.4444444444444444,
             "#bd3786"
            ],
            [
             0.5555555555555556,
             "#d8576b"
            ],
            [
             0.6666666666666666,
             "#ed7953"
            ],
            [
             0.7777777777777778,
             "#fb9f3a"
            ],
            [
             0.8888888888888888,
             "#fdca26"
            ],
            [
             1,
             "#f0f921"
            ]
           ]
          },
          "colorway": [
           "#636efa",
           "#EF553B",
           "#00cc96",
           "#ab63fa",
           "#FFA15A",
           "#19d3f3",
           "#FF6692",
           "#B6E880",
           "#FF97FF",
           "#FECB52"
          ],
          "font": {
           "color": "#2a3f5f"
          },
          "geo": {
           "bgcolor": "white",
           "lakecolor": "white",
           "landcolor": "#E5ECF6",
           "showlakes": true,
           "showland": true,
           "subunitcolor": "white"
          },
          "hoverlabel": {
           "align": "left"
          },
          "hovermode": "closest",
          "mapbox": {
           "style": "light"
          },
          "paper_bgcolor": "white",
          "plot_bgcolor": "#E5ECF6",
          "polar": {
           "angularaxis": {
            "gridcolor": "white",
            "linecolor": "white",
            "ticks": ""
           },
           "bgcolor": "#E5ECF6",
           "radialaxis": {
            "gridcolor": "white",
            "linecolor": "white",
            "ticks": ""
           }
          },
          "scene": {
           "xaxis": {
            "backgroundcolor": "#E5ECF6",
            "gridcolor": "white",
            "gridwidth": 2,
            "linecolor": "white",
            "showbackground": true,
            "ticks": "",
            "zerolinecolor": "white"
           },
           "yaxis": {
            "backgroundcolor": "#E5ECF6",
            "gridcolor": "white",
            "gridwidth": 2,
            "linecolor": "white",
            "showbackground": true,
            "ticks": "",
            "zerolinecolor": "white"
           },
           "zaxis": {
            "backgroundcolor": "#E5ECF6",
            "gridcolor": "white",
            "gridwidth": 2,
            "linecolor": "white",
            "showbackground": true,
            "ticks": "",
            "zerolinecolor": "white"
           }
          },
          "shapedefaults": {
           "line": {
            "color": "#2a3f5f"
           }
          },
          "ternary": {
           "aaxis": {
            "gridcolor": "white",
            "linecolor": "white",
            "ticks": ""
           },
           "baxis": {
            "gridcolor": "white",
            "linecolor": "white",
            "ticks": ""
           },
           "bgcolor": "#E5ECF6",
           "caxis": {
            "gridcolor": "white",
            "linecolor": "white",
            "ticks": ""
           }
          },
          "title": {
           "x": 0.05
          },
          "xaxis": {
           "automargin": true,
           "gridcolor": "white",
           "linecolor": "white",
           "ticks": "",
           "title": {
            "standoff": 15
           },
           "zerolinecolor": "white",
           "zerolinewidth": 2
          },
          "yaxis": {
           "automargin": true,
           "gridcolor": "white",
           "linecolor": "white",
           "ticks": "",
           "title": {
            "standoff": 15
           },
           "zerolinecolor": "white",
           "zerolinewidth": 2
          }
         }
        },
        "title": {
         "text": "Pokemon stats",
         "x": 0.5,
         "y": 0.93
        },
        "width": 500,
        "xaxis": {
         "dtick": 20,
         "range": [
          10,
          130
         ],
         "tick0": 10,
         "title": {
          "text": "defense"
         }
        },
        "yaxis": {
         "dtick": 20,
         "range": [
          10,
          130
         ],
         "tick0": 10,
         "title": {
          "text": "attack"
         }
        }
       }
      }
     },
     "metadata": {},
     "output_type": "display_data"
    }
   ],
   "source": [
    "plot_pokemon(x,y)"
   ]
  },
  {
   "cell_type": "code",
   "execution_count": 7,
   "id": "043e41c8-c601-4edb-bcdf-388ce068e074",
   "metadata": {
    "tags": []
   },
   "outputs": [],
   "source": [
    "#let's try the initial guess with w_0 : 10 and w_1 : 0.8\n",
    "w_0 = 10\n",
    "w_1 = 0.3\n",
    "y_pre = w_0 + w_1 * x"
   ]
  },
  {
   "cell_type": "code",
   "execution_count": 8,
   "id": "e56916ed-b9aa-4d43-b729-645d9bb65360",
   "metadata": {
    "tags": []
   },
   "outputs": [
    {
     "data": {
      "text/plain": [
       "0    20.5\n",
       "1    22.9\n",
       "2    24.7\n",
       "3    27.4\n",
       "4    28.9\n",
       "5    29.5\n",
       "6    33.4\n",
       "7    34.0\n",
       "8    46.0\n",
       "9    46.9\n",
       "Name: defense, dtype: float64"
      ]
     },
     "execution_count": 8,
     "metadata": {},
     "output_type": "execute_result"
    }
   ],
   "source": [
    "y_pre"
   ]
  },
  {
   "cell_type": "code",
   "execution_count": 9,
   "id": "c39c220c-1a8b-402e-a1bf-1d012e584511",
   "metadata": {
    "tags": []
   },
   "outputs": [
    {
     "data": {
      "application/vnd.plotly.v1+json": {
       "config": {
        "plotlyServerURL": "https://plot.ly"
       },
       "data": [
        {
         "marker": {
          "size": 10
         },
         "mode": "markers",
         "name": "data",
         "type": "scatter",
         "x": [
          35,
          43,
          49,
          58,
          63,
          65,
          78,
          80,
          120,
          123
         ],
         "y": [
          30,
          52,
          49,
          64,
          62,
          48,
          104,
          63,
          103,
          100
         ]
        },
        {
         "line": {
          "color": "red",
          "width": 3
         },
         "mode": "lines",
         "name": "Fitted line",
         "type": "scatter",
         "x": [
          35,
          43,
          49,
          58,
          63,
          65,
          78,
          80,
          120,
          123
         ],
         "y": [
          20.5,
          22.9,
          24.7,
          27.4,
          28.9,
          29.5,
          33.4,
          34,
          46,
          46.9
         ]
        }
       ],
       "layout": {
        "height": 500,
        "margin": {
         "t": 60
        },
        "template": {
         "data": {
          "bar": [
           {
            "error_x": {
             "color": "#2a3f5f"
            },
            "error_y": {
             "color": "#2a3f5f"
            },
            "marker": {
             "line": {
              "color": "#E5ECF6",
              "width": 0.5
             },
             "pattern": {
              "fillmode": "overlay",
              "size": 10,
              "solidity": 0.2
             }
            },
            "type": "bar"
           }
          ],
          "barpolar": [
           {
            "marker": {
             "line": {
              "color": "#E5ECF6",
              "width": 0.5
             },
             "pattern": {
              "fillmode": "overlay",
              "size": 10,
              "solidity": 0.2
             }
            },
            "type": "barpolar"
           }
          ],
          "carpet": [
           {
            "aaxis": {
             "endlinecolor": "#2a3f5f",
             "gridcolor": "white",
             "linecolor": "white",
             "minorgridcolor": "white",
             "startlinecolor": "#2a3f5f"
            },
            "baxis": {
             "endlinecolor": "#2a3f5f",
             "gridcolor": "white",
             "linecolor": "white",
             "minorgridcolor": "white",
             "startlinecolor": "#2a3f5f"
            },
            "type": "carpet"
           }
          ],
          "choropleth": [
           {
            "colorbar": {
             "outlinewidth": 0,
             "ticks": ""
            },
            "type": "choropleth"
           }
          ],
          "contour": [
           {
            "colorbar": {
             "outlinewidth": 0,
             "ticks": ""
            },
            "colorscale": [
             [
              0,
              "#0d0887"
             ],
             [
              0.1111111111111111,
              "#46039f"
             ],
             [
              0.2222222222222222,
              "#7201a8"
             ],
             [
              0.3333333333333333,
              "#9c179e"
             ],
             [
              0.4444444444444444,
              "#bd3786"
             ],
             [
              0.5555555555555556,
              "#d8576b"
             ],
             [
              0.6666666666666666,
              "#ed7953"
             ],
             [
              0.7777777777777778,
              "#fb9f3a"
             ],
             [
              0.8888888888888888,
              "#fdca26"
             ],
             [
              1,
              "#f0f921"
             ]
            ],
            "type": "contour"
           }
          ],
          "contourcarpet": [
           {
            "colorbar": {
             "outlinewidth": 0,
             "ticks": ""
            },
            "type": "contourcarpet"
           }
          ],
          "heatmap": [
           {
            "colorbar": {
             "outlinewidth": 0,
             "ticks": ""
            },
            "colorscale": [
             [
              0,
              "#0d0887"
             ],
             [
              0.1111111111111111,
              "#46039f"
             ],
             [
              0.2222222222222222,
              "#7201a8"
             ],
             [
              0.3333333333333333,
              "#9c179e"
             ],
             [
              0.4444444444444444,
              "#bd3786"
             ],
             [
              0.5555555555555556,
              "#d8576b"
             ],
             [
              0.6666666666666666,
              "#ed7953"
             ],
             [
              0.7777777777777778,
              "#fb9f3a"
             ],
             [
              0.8888888888888888,
              "#fdca26"
             ],
             [
              1,
              "#f0f921"
             ]
            ],
            "type": "heatmap"
           }
          ],
          "heatmapgl": [
           {
            "colorbar": {
             "outlinewidth": 0,
             "ticks": ""
            },
            "colorscale": [
             [
              0,
              "#0d0887"
             ],
             [
              0.1111111111111111,
              "#46039f"
             ],
             [
              0.2222222222222222,
              "#7201a8"
             ],
             [
              0.3333333333333333,
              "#9c179e"
             ],
             [
              0.4444444444444444,
              "#bd3786"
             ],
             [
              0.5555555555555556,
              "#d8576b"
             ],
             [
              0.6666666666666666,
              "#ed7953"
             ],
             [
              0.7777777777777778,
              "#fb9f3a"
             ],
             [
              0.8888888888888888,
              "#fdca26"
             ],
             [
              1,
              "#f0f921"
             ]
            ],
            "type": "heatmapgl"
           }
          ],
          "histogram": [
           {
            "marker": {
             "pattern": {
              "fillmode": "overlay",
              "size": 10,
              "solidity": 0.2
             }
            },
            "type": "histogram"
           }
          ],
          "histogram2d": [
           {
            "colorbar": {
             "outlinewidth": 0,
             "ticks": ""
            },
            "colorscale": [
             [
              0,
              "#0d0887"
             ],
             [
              0.1111111111111111,
              "#46039f"
             ],
             [
              0.2222222222222222,
              "#7201a8"
             ],
             [
              0.3333333333333333,
              "#9c179e"
             ],
             [
              0.4444444444444444,
              "#bd3786"
             ],
             [
              0.5555555555555556,
              "#d8576b"
             ],
             [
              0.6666666666666666,
              "#ed7953"
             ],
             [
              0.7777777777777778,
              "#fb9f3a"
             ],
             [
              0.8888888888888888,
              "#fdca26"
             ],
             [
              1,
              "#f0f921"
             ]
            ],
            "type": "histogram2d"
           }
          ],
          "histogram2dcontour": [
           {
            "colorbar": {
             "outlinewidth": 0,
             "ticks": ""
            },
            "colorscale": [
             [
              0,
              "#0d0887"
             ],
             [
              0.1111111111111111,
              "#46039f"
             ],
             [
              0.2222222222222222,
              "#7201a8"
             ],
             [
              0.3333333333333333,
              "#9c179e"
             ],
             [
              0.4444444444444444,
              "#bd3786"
             ],
             [
              0.5555555555555556,
              "#d8576b"
             ],
             [
              0.6666666666666666,
              "#ed7953"
             ],
             [
              0.7777777777777778,
              "#fb9f3a"
             ],
             [
              0.8888888888888888,
              "#fdca26"
             ],
             [
              1,
              "#f0f921"
             ]
            ],
            "type": "histogram2dcontour"
           }
          ],
          "mesh3d": [
           {
            "colorbar": {
             "outlinewidth": 0,
             "ticks": ""
            },
            "type": "mesh3d"
           }
          ],
          "parcoords": [
           {
            "line": {
             "colorbar": {
              "outlinewidth": 0,
              "ticks": ""
             }
            },
            "type": "parcoords"
           }
          ],
          "pie": [
           {
            "automargin": true,
            "type": "pie"
           }
          ],
          "scatter": [
           {
            "fillpattern": {
             "fillmode": "overlay",
             "size": 10,
             "solidity": 0.2
            },
            "type": "scatter"
           }
          ],
          "scatter3d": [
           {
            "line": {
             "colorbar": {
              "outlinewidth": 0,
              "ticks": ""
             }
            },
            "marker": {
             "colorbar": {
              "outlinewidth": 0,
              "ticks": ""
             }
            },
            "type": "scatter3d"
           }
          ],
          "scattercarpet": [
           {
            "marker": {
             "colorbar": {
              "outlinewidth": 0,
              "ticks": ""
             }
            },
            "type": "scattercarpet"
           }
          ],
          "scattergeo": [
           {
            "marker": {
             "colorbar": {
              "outlinewidth": 0,
              "ticks": ""
             }
            },
            "type": "scattergeo"
           }
          ],
          "scattergl": [
           {
            "marker": {
             "colorbar": {
              "outlinewidth": 0,
              "ticks": ""
             }
            },
            "type": "scattergl"
           }
          ],
          "scattermapbox": [
           {
            "marker": {
             "colorbar": {
              "outlinewidth": 0,
              "ticks": ""
             }
            },
            "type": "scattermapbox"
           }
          ],
          "scatterpolar": [
           {
            "marker": {
             "colorbar": {
              "outlinewidth": 0,
              "ticks": ""
             }
            },
            "type": "scatterpolar"
           }
          ],
          "scatterpolargl": [
           {
            "marker": {
             "colorbar": {
              "outlinewidth": 0,
              "ticks": ""
             }
            },
            "type": "scatterpolargl"
           }
          ],
          "scatterternary": [
           {
            "marker": {
             "colorbar": {
              "outlinewidth": 0,
              "ticks": ""
             }
            },
            "type": "scatterternary"
           }
          ],
          "surface": [
           {
            "colorbar": {
             "outlinewidth": 0,
             "ticks": ""
            },
            "colorscale": [
             [
              0,
              "#0d0887"
             ],
             [
              0.1111111111111111,
              "#46039f"
             ],
             [
              0.2222222222222222,
              "#7201a8"
             ],
             [
              0.3333333333333333,
              "#9c179e"
             ],
             [
              0.4444444444444444,
              "#bd3786"
             ],
             [
              0.5555555555555556,
              "#d8576b"
             ],
             [
              0.6666666666666666,
              "#ed7953"
             ],
             [
              0.7777777777777778,
              "#fb9f3a"
             ],
             [
              0.8888888888888888,
              "#fdca26"
             ],
             [
              1,
              "#f0f921"
             ]
            ],
            "type": "surface"
           }
          ],
          "table": [
           {
            "cells": {
             "fill": {
              "color": "#EBF0F8"
             },
             "line": {
              "color": "white"
             }
            },
            "header": {
             "fill": {
              "color": "#C8D4E3"
             },
             "line": {
              "color": "white"
             }
            },
            "type": "table"
           }
          ]
         },
         "layout": {
          "annotationdefaults": {
           "arrowcolor": "#2a3f5f",
           "arrowhead": 0,
           "arrowwidth": 1
          },
          "autotypenumbers": "strict",
          "coloraxis": {
           "colorbar": {
            "outlinewidth": 0,
            "ticks": ""
           }
          },
          "colorscale": {
           "diverging": [
            [
             0,
             "#8e0152"
            ],
            [
             0.1,
             "#c51b7d"
            ],
            [
             0.2,
             "#de77ae"
            ],
            [
             0.3,
             "#f1b6da"
            ],
            [
             0.4,
             "#fde0ef"
            ],
            [
             0.5,
             "#f7f7f7"
            ],
            [
             0.6,
             "#e6f5d0"
            ],
            [
             0.7,
             "#b8e186"
            ],
            [
             0.8,
             "#7fbc41"
            ],
            [
             0.9,
             "#4d9221"
            ],
            [
             1,
             "#276419"
            ]
           ],
           "sequential": [
            [
             0,
             "#0d0887"
            ],
            [
             0.1111111111111111,
             "#46039f"
            ],
            [
             0.2222222222222222,
             "#7201a8"
            ],
            [
             0.3333333333333333,
             "#9c179e"
            ],
            [
             0.4444444444444444,
             "#bd3786"
            ],
            [
             0.5555555555555556,
             "#d8576b"
            ],
            [
             0.6666666666666666,
             "#ed7953"
            ],
            [
             0.7777777777777778,
             "#fb9f3a"
            ],
            [
             0.8888888888888888,
             "#fdca26"
            ],
            [
             1,
             "#f0f921"
            ]
           ],
           "sequentialminus": [
            [
             0,
             "#0d0887"
            ],
            [
             0.1111111111111111,
             "#46039f"
            ],
            [
             0.2222222222222222,
             "#7201a8"
            ],
            [
             0.3333333333333333,
             "#9c179e"
            ],
            [
             0.4444444444444444,
             "#bd3786"
            ],
            [
             0.5555555555555556,
             "#d8576b"
            ],
            [
             0.6666666666666666,
             "#ed7953"
            ],
            [
             0.7777777777777778,
             "#fb9f3a"
            ],
            [
             0.8888888888888888,
             "#fdca26"
            ],
            [
             1,
             "#f0f921"
            ]
           ]
          },
          "colorway": [
           "#636efa",
           "#EF553B",
           "#00cc96",
           "#ab63fa",
           "#FFA15A",
           "#19d3f3",
           "#FF6692",
           "#B6E880",
           "#FF97FF",
           "#FECB52"
          ],
          "font": {
           "color": "#2a3f5f"
          },
          "geo": {
           "bgcolor": "white",
           "lakecolor": "white",
           "landcolor": "#E5ECF6",
           "showlakes": true,
           "showland": true,
           "subunitcolor": "white"
          },
          "hoverlabel": {
           "align": "left"
          },
          "hovermode": "closest",
          "mapbox": {
           "style": "light"
          },
          "paper_bgcolor": "white",
          "plot_bgcolor": "#E5ECF6",
          "polar": {
           "angularaxis": {
            "gridcolor": "white",
            "linecolor": "white",
            "ticks": ""
           },
           "bgcolor": "#E5ECF6",
           "radialaxis": {
            "gridcolor": "white",
            "linecolor": "white",
            "ticks": ""
           }
          },
          "scene": {
           "xaxis": {
            "backgroundcolor": "#E5ECF6",
            "gridcolor": "white",
            "gridwidth": 2,
            "linecolor": "white",
            "showbackground": true,
            "ticks": "",
            "zerolinecolor": "white"
           },
           "yaxis": {
            "backgroundcolor": "#E5ECF6",
            "gridcolor": "white",
            "gridwidth": 2,
            "linecolor": "white",
            "showbackground": true,
            "ticks": "",
            "zerolinecolor": "white"
           },
           "zaxis": {
            "backgroundcolor": "#E5ECF6",
            "gridcolor": "white",
            "gridwidth": 2,
            "linecolor": "white",
            "showbackground": true,
            "ticks": "",
            "zerolinecolor": "white"
           }
          },
          "shapedefaults": {
           "line": {
            "color": "#2a3f5f"
           }
          },
          "ternary": {
           "aaxis": {
            "gridcolor": "white",
            "linecolor": "white",
            "ticks": ""
           },
           "baxis": {
            "gridcolor": "white",
            "linecolor": "white",
            "ticks": ""
           },
           "bgcolor": "#E5ECF6",
           "caxis": {
            "gridcolor": "white",
            "linecolor": "white",
            "ticks": ""
           }
          },
          "title": {
           "x": 0.05
          },
          "xaxis": {
           "automargin": true,
           "gridcolor": "white",
           "linecolor": "white",
           "ticks": "",
           "title": {
            "standoff": 15
           },
           "zerolinecolor": "white",
           "zerolinewidth": 2
          },
          "yaxis": {
           "automargin": true,
           "gridcolor": "white",
           "linecolor": "white",
           "ticks": "",
           "title": {
            "standoff": 15
           },
           "zerolinecolor": "white",
           "zerolinewidth": 2
          }
         }
        },
        "title": {
         "text": "Pokemon stats",
         "x": 0.46,
         "y": 0.93
        },
        "width": 550,
        "xaxis": {
         "dtick": 20,
         "range": [
          10,
          130
         ],
         "tick0": 10,
         "title": {
          "text": "defense"
         }
        },
        "yaxis": {
         "dtick": 20,
         "range": [
          10,
          130
         ],
         "tick0": 10,
         "title": {
          "text": "attack"
         }
        }
       }
      }
     },
     "metadata": {},
     "output_type": "display_data"
    }
   ],
   "source": [
    "plot_pokemon(x,y,y_pre)"
   ]
  },
  {
   "cell_type": "code",
   "execution_count": 10,
   "id": "105711b1-e09e-43e6-a65a-90135eca83b4",
   "metadata": {
    "tags": []
   },
   "outputs": [
    {
     "data": {
      "text/plain": [
       "1619.894"
      ]
     },
     "execution_count": 10,
     "metadata": {},
     "output_type": "execute_result"
    }
   ],
   "source": [
    "mean_squared_error(y,y_pre)"
   ]
  },
  {
   "cell_type": "code",
   "execution_count": 11,
   "id": "9aca8330-0633-4998-86e0-7f7c1418497c",
   "metadata": {
    "tags": []
   },
   "outputs": [],
   "source": [
    "#lets assume w_0 is 0 for a comprehensive demo\n",
    "w_0 = 0\n",
    "y_pre = w_1 * x + w_0"
   ]
  },
  {
   "cell_type": "code",
   "execution_count": 12,
   "id": "6503897e-33d8-4d77-af01-fff70085535b",
   "metadata": {
    "tags": []
   },
   "outputs": [
    {
     "data": {
      "application/vnd.plotly.v1+json": {
       "config": {
        "plotlyServerURL": "https://plot.ly"
       },
       "data": [
        {
         "marker": {
          "size": 10
         },
         "mode": "markers",
         "name": "data",
         "type": "scatter",
         "x": [
          35,
          43,
          49,
          58,
          63,
          65,
          78,
          80,
          120,
          123
         ],
         "y": [
          30,
          52,
          49,
          64,
          62,
          48,
          104,
          63,
          103,
          100
         ]
        },
        {
         "line": {
          "color": "red",
          "width": 3
         },
         "mode": "lines",
         "name": "Fitted line",
         "type": "scatter",
         "x": [
          35,
          43,
          49,
          58,
          63,
          65,
          78,
          80,
          120,
          123
         ],
         "y": [
          10.5,
          12.9,
          14.7,
          17.4,
          18.9,
          19.5,
          23.4,
          24,
          36,
          36.9
         ]
        }
       ],
       "layout": {
        "height": 500,
        "margin": {
         "t": 60
        },
        "template": {
         "data": {
          "bar": [
           {
            "error_x": {
             "color": "#2a3f5f"
            },
            "error_y": {
             "color": "#2a3f5f"
            },
            "marker": {
             "line": {
              "color": "#E5ECF6",
              "width": 0.5
             },
             "pattern": {
              "fillmode": "overlay",
              "size": 10,
              "solidity": 0.2
             }
            },
            "type": "bar"
           }
          ],
          "barpolar": [
           {
            "marker": {
             "line": {
              "color": "#E5ECF6",
              "width": 0.5
             },
             "pattern": {
              "fillmode": "overlay",
              "size": 10,
              "solidity": 0.2
             }
            },
            "type": "barpolar"
           }
          ],
          "carpet": [
           {
            "aaxis": {
             "endlinecolor": "#2a3f5f",
             "gridcolor": "white",
             "linecolor": "white",
             "minorgridcolor": "white",
             "startlinecolor": "#2a3f5f"
            },
            "baxis": {
             "endlinecolor": "#2a3f5f",
             "gridcolor": "white",
             "linecolor": "white",
             "minorgridcolor": "white",
             "startlinecolor": "#2a3f5f"
            },
            "type": "carpet"
           }
          ],
          "choropleth": [
           {
            "colorbar": {
             "outlinewidth": 0,
             "ticks": ""
            },
            "type": "choropleth"
           }
          ],
          "contour": [
           {
            "colorbar": {
             "outlinewidth": 0,
             "ticks": ""
            },
            "colorscale": [
             [
              0,
              "#0d0887"
             ],
             [
              0.1111111111111111,
              "#46039f"
             ],
             [
              0.2222222222222222,
              "#7201a8"
             ],
             [
              0.3333333333333333,
              "#9c179e"
             ],
             [
              0.4444444444444444,
              "#bd3786"
             ],
             [
              0.5555555555555556,
              "#d8576b"
             ],
             [
              0.6666666666666666,
              "#ed7953"
             ],
             [
              0.7777777777777778,
              "#fb9f3a"
             ],
             [
              0.8888888888888888,
              "#fdca26"
             ],
             [
              1,
              "#f0f921"
             ]
            ],
            "type": "contour"
           }
          ],
          "contourcarpet": [
           {
            "colorbar": {
             "outlinewidth": 0,
             "ticks": ""
            },
            "type": "contourcarpet"
           }
          ],
          "heatmap": [
           {
            "colorbar": {
             "outlinewidth": 0,
             "ticks": ""
            },
            "colorscale": [
             [
              0,
              "#0d0887"
             ],
             [
              0.1111111111111111,
              "#46039f"
             ],
             [
              0.2222222222222222,
              "#7201a8"
             ],
             [
              0.3333333333333333,
              "#9c179e"
             ],
             [
              0.4444444444444444,
              "#bd3786"
             ],
             [
              0.5555555555555556,
              "#d8576b"
             ],
             [
              0.6666666666666666,
              "#ed7953"
             ],
             [
              0.7777777777777778,
              "#fb9f3a"
             ],
             [
              0.8888888888888888,
              "#fdca26"
             ],
             [
              1,
              "#f0f921"
             ]
            ],
            "type": "heatmap"
           }
          ],
          "heatmapgl": [
           {
            "colorbar": {
             "outlinewidth": 0,
             "ticks": ""
            },
            "colorscale": [
             [
              0,
              "#0d0887"
             ],
             [
              0.1111111111111111,
              "#46039f"
             ],
             [
              0.2222222222222222,
              "#7201a8"
             ],
             [
              0.3333333333333333,
              "#9c179e"
             ],
             [
              0.4444444444444444,
              "#bd3786"
             ],
             [
              0.5555555555555556,
              "#d8576b"
             ],
             [
              0.6666666666666666,
              "#ed7953"
             ],
             [
              0.7777777777777778,
              "#fb9f3a"
             ],
             [
              0.8888888888888888,
              "#fdca26"
             ],
             [
              1,
              "#f0f921"
             ]
            ],
            "type": "heatmapgl"
           }
          ],
          "histogram": [
           {
            "marker": {
             "pattern": {
              "fillmode": "overlay",
              "size": 10,
              "solidity": 0.2
             }
            },
            "type": "histogram"
           }
          ],
          "histogram2d": [
           {
            "colorbar": {
             "outlinewidth": 0,
             "ticks": ""
            },
            "colorscale": [
             [
              0,
              "#0d0887"
             ],
             [
              0.1111111111111111,
              "#46039f"
             ],
             [
              0.2222222222222222,
              "#7201a8"
             ],
             [
              0.3333333333333333,
              "#9c179e"
             ],
             [
              0.4444444444444444,
              "#bd3786"
             ],
             [
              0.5555555555555556,
              "#d8576b"
             ],
             [
              0.6666666666666666,
              "#ed7953"
             ],
             [
              0.7777777777777778,
              "#fb9f3a"
             ],
             [
              0.8888888888888888,
              "#fdca26"
             ],
             [
              1,
              "#f0f921"
             ]
            ],
            "type": "histogram2d"
           }
          ],
          "histogram2dcontour": [
           {
            "colorbar": {
             "outlinewidth": 0,
             "ticks": ""
            },
            "colorscale": [
             [
              0,
              "#0d0887"
             ],
             [
              0.1111111111111111,
              "#46039f"
             ],
             [
              0.2222222222222222,
              "#7201a8"
             ],
             [
              0.3333333333333333,
              "#9c179e"
             ],
             [
              0.4444444444444444,
              "#bd3786"
             ],
             [
              0.5555555555555556,
              "#d8576b"
             ],
             [
              0.6666666666666666,
              "#ed7953"
             ],
             [
              0.7777777777777778,
              "#fb9f3a"
             ],
             [
              0.8888888888888888,
              "#fdca26"
             ],
             [
              1,
              "#f0f921"
             ]
            ],
            "type": "histogram2dcontour"
           }
          ],
          "mesh3d": [
           {
            "colorbar": {
             "outlinewidth": 0,
             "ticks": ""
            },
            "type": "mesh3d"
           }
          ],
          "parcoords": [
           {
            "line": {
             "colorbar": {
              "outlinewidth": 0,
              "ticks": ""
             }
            },
            "type": "parcoords"
           }
          ],
          "pie": [
           {
            "automargin": true,
            "type": "pie"
           }
          ],
          "scatter": [
           {
            "fillpattern": {
             "fillmode": "overlay",
             "size": 10,
             "solidity": 0.2
            },
            "type": "scatter"
           }
          ],
          "scatter3d": [
           {
            "line": {
             "colorbar": {
              "outlinewidth": 0,
              "ticks": ""
             }
            },
            "marker": {
             "colorbar": {
              "outlinewidth": 0,
              "ticks": ""
             }
            },
            "type": "scatter3d"
           }
          ],
          "scattercarpet": [
           {
            "marker": {
             "colorbar": {
              "outlinewidth": 0,
              "ticks": ""
             }
            },
            "type": "scattercarpet"
           }
          ],
          "scattergeo": [
           {
            "marker": {
             "colorbar": {
              "outlinewidth": 0,
              "ticks": ""
             }
            },
            "type": "scattergeo"
           }
          ],
          "scattergl": [
           {
            "marker": {
             "colorbar": {
              "outlinewidth": 0,
              "ticks": ""
             }
            },
            "type": "scattergl"
           }
          ],
          "scattermapbox": [
           {
            "marker": {
             "colorbar": {
              "outlinewidth": 0,
              "ticks": ""
             }
            },
            "type": "scattermapbox"
           }
          ],
          "scatterpolar": [
           {
            "marker": {
             "colorbar": {
              "outlinewidth": 0,
              "ticks": ""
             }
            },
            "type": "scatterpolar"
           }
          ],
          "scatterpolargl": [
           {
            "marker": {
             "colorbar": {
              "outlinewidth": 0,
              "ticks": ""
             }
            },
            "type": "scatterpolargl"
           }
          ],
          "scatterternary": [
           {
            "marker": {
             "colorbar": {
              "outlinewidth": 0,
              "ticks": ""
             }
            },
            "type": "scatterternary"
           }
          ],
          "surface": [
           {
            "colorbar": {
             "outlinewidth": 0,
             "ticks": ""
            },
            "colorscale": [
             [
              0,
              "#0d0887"
             ],
             [
              0.1111111111111111,
              "#46039f"
             ],
             [
              0.2222222222222222,
              "#7201a8"
             ],
             [
              0.3333333333333333,
              "#9c179e"
             ],
             [
              0.4444444444444444,
              "#bd3786"
             ],
             [
              0.5555555555555556,
              "#d8576b"
             ],
             [
              0.6666666666666666,
              "#ed7953"
             ],
             [
              0.7777777777777778,
              "#fb9f3a"
             ],
             [
              0.8888888888888888,
              "#fdca26"
             ],
             [
              1,
              "#f0f921"
             ]
            ],
            "type": "surface"
           }
          ],
          "table": [
           {
            "cells": {
             "fill": {
              "color": "#EBF0F8"
             },
             "line": {
              "color": "white"
             }
            },
            "header": {
             "fill": {
              "color": "#C8D4E3"
             },
             "line": {
              "color": "white"
             }
            },
            "type": "table"
           }
          ]
         },
         "layout": {
          "annotationdefaults": {
           "arrowcolor": "#2a3f5f",
           "arrowhead": 0,
           "arrowwidth": 1
          },
          "autotypenumbers": "strict",
          "coloraxis": {
           "colorbar": {
            "outlinewidth": 0,
            "ticks": ""
           }
          },
          "colorscale": {
           "diverging": [
            [
             0,
             "#8e0152"
            ],
            [
             0.1,
             "#c51b7d"
            ],
            [
             0.2,
             "#de77ae"
            ],
            [
             0.3,
             "#f1b6da"
            ],
            [
             0.4,
             "#fde0ef"
            ],
            [
             0.5,
             "#f7f7f7"
            ],
            [
             0.6,
             "#e6f5d0"
            ],
            [
             0.7,
             "#b8e186"
            ],
            [
             0.8,
             "#7fbc41"
            ],
            [
             0.9,
             "#4d9221"
            ],
            [
             1,
             "#276419"
            ]
           ],
           "sequential": [
            [
             0,
             "#0d0887"
            ],
            [
             0.1111111111111111,
             "#46039f"
            ],
            [
             0.2222222222222222,
             "#7201a8"
            ],
            [
             0.3333333333333333,
             "#9c179e"
            ],
            [
             0.4444444444444444,
             "#bd3786"
            ],
            [
             0.5555555555555556,
             "#d8576b"
            ],
            [
             0.6666666666666666,
             "#ed7953"
            ],
            [
             0.7777777777777778,
             "#fb9f3a"
            ],
            [
             0.8888888888888888,
             "#fdca26"
            ],
            [
             1,
             "#f0f921"
            ]
           ],
           "sequentialminus": [
            [
             0,
             "#0d0887"
            ],
            [
             0.1111111111111111,
             "#46039f"
            ],
            [
             0.2222222222222222,
             "#7201a8"
            ],
            [
             0.3333333333333333,
             "#9c179e"
            ],
            [
             0.4444444444444444,
             "#bd3786"
            ],
            [
             0.5555555555555556,
             "#d8576b"
            ],
            [
             0.6666666666666666,
             "#ed7953"
            ],
            [
             0.7777777777777778,
             "#fb9f3a"
            ],
            [
             0.8888888888888888,
             "#fdca26"
            ],
            [
             1,
             "#f0f921"
            ]
           ]
          },
          "colorway": [
           "#636efa",
           "#EF553B",
           "#00cc96",
           "#ab63fa",
           "#FFA15A",
           "#19d3f3",
           "#FF6692",
           "#B6E880",
           "#FF97FF",
           "#FECB52"
          ],
          "font": {
           "color": "#2a3f5f"
          },
          "geo": {
           "bgcolor": "white",
           "lakecolor": "white",
           "landcolor": "#E5ECF6",
           "showlakes": true,
           "showland": true,
           "subunitcolor": "white"
          },
          "hoverlabel": {
           "align": "left"
          },
          "hovermode": "closest",
          "mapbox": {
           "style": "light"
          },
          "paper_bgcolor": "white",
          "plot_bgcolor": "#E5ECF6",
          "polar": {
           "angularaxis": {
            "gridcolor": "white",
            "linecolor": "white",
            "ticks": ""
           },
           "bgcolor": "#E5ECF6",
           "radialaxis": {
            "gridcolor": "white",
            "linecolor": "white",
            "ticks": ""
           }
          },
          "scene": {
           "xaxis": {
            "backgroundcolor": "#E5ECF6",
            "gridcolor": "white",
            "gridwidth": 2,
            "linecolor": "white",
            "showbackground": true,
            "ticks": "",
            "zerolinecolor": "white"
           },
           "yaxis": {
            "backgroundcolor": "#E5ECF6",
            "gridcolor": "white",
            "gridwidth": 2,
            "linecolor": "white",
            "showbackground": true,
            "ticks": "",
            "zerolinecolor": "white"
           },
           "zaxis": {
            "backgroundcolor": "#E5ECF6",
            "gridcolor": "white",
            "gridwidth": 2,
            "linecolor": "white",
            "showbackground": true,
            "ticks": "",
            "zerolinecolor": "white"
           }
          },
          "shapedefaults": {
           "line": {
            "color": "#2a3f5f"
           }
          },
          "ternary": {
           "aaxis": {
            "gridcolor": "white",
            "linecolor": "white",
            "ticks": ""
           },
           "baxis": {
            "gridcolor": "white",
            "linecolor": "white",
            "ticks": ""
           },
           "bgcolor": "#E5ECF6",
           "caxis": {
            "gridcolor": "white",
            "linecolor": "white",
            "ticks": ""
           }
          },
          "title": {
           "x": 0.05
          },
          "xaxis": {
           "automargin": true,
           "gridcolor": "white",
           "linecolor": "white",
           "ticks": "",
           "title": {
            "standoff": 15
           },
           "zerolinecolor": "white",
           "zerolinewidth": 2
          },
          "yaxis": {
           "automargin": true,
           "gridcolor": "white",
           "linecolor": "white",
           "ticks": "",
           "title": {
            "standoff": 15
           },
           "zerolinecolor": "white",
           "zerolinewidth": 2
          }
         }
        },
        "title": {
         "text": "Pokemon stats",
         "x": 0.46,
         "y": 0.93
        },
        "width": 550,
        "xaxis": {
         "dtick": 20,
         "range": [
          10,
          130
         ],
         "tick0": 10,
         "title": {
          "text": "defense"
         }
        },
        "yaxis": {
         "dtick": 20,
         "range": [
          10,
          130
         ],
         "tick0": 10,
         "title": {
          "text": "attack"
         }
        }
       }
      }
     },
     "metadata": {},
     "output_type": "display_data"
    }
   ],
   "source": [
    "plot_pokemon(x,y,y_pre)"
   ]
  },
  {
   "cell_type": "code",
   "execution_count": 13,
   "id": "c03cb33b-2964-4924-abf9-013d2d4e49f6",
   "metadata": {
    "tags": []
   },
   "outputs": [
    {
     "data": {
      "text/html": [
       "<div>\n",
       "<style scoped>\n",
       "    .dataframe tbody tr th:only-of-type {\n",
       "        vertical-align: middle;\n",
       "    }\n",
       "\n",
       "    .dataframe tbody tr th {\n",
       "        vertical-align: top;\n",
       "    }\n",
       "\n",
       "    .dataframe thead th {\n",
       "        text-align: right;\n",
       "    }\n",
       "</style>\n",
       "<table border=\"1\" class=\"dataframe\">\n",
       "  <thead>\n",
       "    <tr style=\"text-align: right;\">\n",
       "      <th></th>\n",
       "      <th>w_1</th>\n",
       "      <th>MSE</th>\n",
       "    </tr>\n",
       "  </thead>\n",
       "  <tbody>\n",
       "    <tr>\n",
       "      <th>0</th>\n",
       "      <td>0.30</td>\n",
       "      <td>2441.4940</td>\n",
       "    </tr>\n",
       "    <tr>\n",
       "      <th>1</th>\n",
       "      <td>0.35</td>\n",
       "      <td>2091.0235</td>\n",
       "    </tr>\n",
       "    <tr>\n",
       "      <th>2</th>\n",
       "      <td>0.40</td>\n",
       "      <td>1770.0760</td>\n",
       "    </tr>\n",
       "    <tr>\n",
       "      <th>3</th>\n",
       "      <td>0.45</td>\n",
       "      <td>1478.6515</td>\n",
       "    </tr>\n",
       "    <tr>\n",
       "      <th>4</th>\n",
       "      <td>0.50</td>\n",
       "      <td>1216.7500</td>\n",
       "    </tr>\n",
       "    <tr>\n",
       "      <th>5</th>\n",
       "      <td>0.55</td>\n",
       "      <td>984.3715</td>\n",
       "    </tr>\n",
       "    <tr>\n",
       "      <th>6</th>\n",
       "      <td>0.60</td>\n",
       "      <td>781.5160</td>\n",
       "    </tr>\n",
       "    <tr>\n",
       "      <th>7</th>\n",
       "      <td>0.65</td>\n",
       "      <td>608.1835</td>\n",
       "    </tr>\n",
       "    <tr>\n",
       "      <th>8</th>\n",
       "      <td>0.70</td>\n",
       "      <td>464.3740</td>\n",
       "    </tr>\n",
       "    <tr>\n",
       "      <th>9</th>\n",
       "      <td>0.75</td>\n",
       "      <td>350.0875</td>\n",
       "    </tr>\n",
       "    <tr>\n",
       "      <th>10</th>\n",
       "      <td>0.80</td>\n",
       "      <td>265.3240</td>\n",
       "    </tr>\n",
       "    <tr>\n",
       "      <th>11</th>\n",
       "      <td>0.85</td>\n",
       "      <td>210.0835</td>\n",
       "    </tr>\n",
       "    <tr>\n",
       "      <th>12</th>\n",
       "      <td>0.90</td>\n",
       "      <td>184.3660</td>\n",
       "    </tr>\n",
       "    <tr>\n",
       "      <th>13</th>\n",
       "      <td>0.95</td>\n",
       "      <td>188.1715</td>\n",
       "    </tr>\n",
       "    <tr>\n",
       "      <th>14</th>\n",
       "      <td>1.00</td>\n",
       "      <td>221.5000</td>\n",
       "    </tr>\n",
       "    <tr>\n",
       "      <th>15</th>\n",
       "      <td>1.05</td>\n",
       "      <td>284.3515</td>\n",
       "    </tr>\n",
       "    <tr>\n",
       "      <th>16</th>\n",
       "      <td>1.10</td>\n",
       "      <td>376.7260</td>\n",
       "    </tr>\n",
       "    <tr>\n",
       "      <th>17</th>\n",
       "      <td>1.15</td>\n",
       "      <td>498.6235</td>\n",
       "    </tr>\n",
       "    <tr>\n",
       "      <th>18</th>\n",
       "      <td>1.20</td>\n",
       "      <td>650.0440</td>\n",
       "    </tr>\n",
       "    <tr>\n",
       "      <th>19</th>\n",
       "      <td>1.25</td>\n",
       "      <td>830.9875</td>\n",
       "    </tr>\n",
       "    <tr>\n",
       "      <th>20</th>\n",
       "      <td>1.30</td>\n",
       "      <td>1041.4540</td>\n",
       "    </tr>\n",
       "    <tr>\n",
       "      <th>21</th>\n",
       "      <td>1.35</td>\n",
       "      <td>1281.4435</td>\n",
       "    </tr>\n",
       "    <tr>\n",
       "      <th>22</th>\n",
       "      <td>1.40</td>\n",
       "      <td>1550.9560</td>\n",
       "    </tr>\n",
       "    <tr>\n",
       "      <th>23</th>\n",
       "      <td>1.45</td>\n",
       "      <td>1849.9915</td>\n",
       "    </tr>\n",
       "    <tr>\n",
       "      <th>24</th>\n",
       "      <td>1.50</td>\n",
       "      <td>2178.5500</td>\n",
       "    </tr>\n",
       "    <tr>\n",
       "      <th>25</th>\n",
       "      <td>1.55</td>\n",
       "      <td>2536.6315</td>\n",
       "    </tr>\n",
       "    <tr>\n",
       "      <th>26</th>\n",
       "      <td>1.60</td>\n",
       "      <td>2924.2360</td>\n",
       "    </tr>\n",
       "    <tr>\n",
       "      <th>27</th>\n",
       "      <td>1.65</td>\n",
       "      <td>3341.3635</td>\n",
       "    </tr>\n",
       "    <tr>\n",
       "      <th>28</th>\n",
       "      <td>1.70</td>\n",
       "      <td>3788.0140</td>\n",
       "    </tr>\n",
       "    <tr>\n",
       "      <th>29</th>\n",
       "      <td>1.75</td>\n",
       "      <td>4264.1875</td>\n",
       "    </tr>\n",
       "    <tr>\n",
       "      <th>30</th>\n",
       "      <td>1.80</td>\n",
       "      <td>4769.8840</td>\n",
       "    </tr>\n",
       "    <tr>\n",
       "      <th>31</th>\n",
       "      <td>1.85</td>\n",
       "      <td>5305.1035</td>\n",
       "    </tr>\n",
       "    <tr>\n",
       "      <th>32</th>\n",
       "      <td>1.90</td>\n",
       "      <td>5869.8460</td>\n",
       "    </tr>\n",
       "    <tr>\n",
       "      <th>33</th>\n",
       "      <td>1.95</td>\n",
       "      <td>6464.1115</td>\n",
       "    </tr>\n",
       "  </tbody>\n",
       "</table>\n",
       "</div>"
      ],
      "text/plain": [
       "     w_1        MSE\n",
       "0   0.30  2441.4940\n",
       "1   0.35  2091.0235\n",
       "2   0.40  1770.0760\n",
       "3   0.45  1478.6515\n",
       "4   0.50  1216.7500\n",
       "5   0.55   984.3715\n",
       "6   0.60   781.5160\n",
       "7   0.65   608.1835\n",
       "8   0.70   464.3740\n",
       "9   0.75   350.0875\n",
       "10  0.80   265.3240\n",
       "11  0.85   210.0835\n",
       "12  0.90   184.3660\n",
       "13  0.95   188.1715\n",
       "14  1.00   221.5000\n",
       "15  1.05   284.3515\n",
       "16  1.10   376.7260\n",
       "17  1.15   498.6235\n",
       "18  1.20   650.0440\n",
       "19  1.25   830.9875\n",
       "20  1.30  1041.4540\n",
       "21  1.35  1281.4435\n",
       "22  1.40  1550.9560\n",
       "23  1.45  1849.9915\n",
       "24  1.50  2178.5500\n",
       "25  1.55  2536.6315\n",
       "26  1.60  2924.2360\n",
       "27  1.65  3341.3635\n",
       "28  1.70  3788.0140\n",
       "29  1.75  4264.1875\n",
       "30  1.80  4769.8840\n",
       "31  1.85  5305.1035\n",
       "32  1.90  5869.8460\n",
       "33  1.95  6464.1115"
      ]
     },
     "execution_count": 13,
     "metadata": {},
     "output_type": "execute_result"
    }
   ],
   "source": [
    "#lets exlpore the range of slopes and the changes made to our predictions\n",
    "w_1 = np.arange(0.3, 2.0, 0.05) # initial value, end value and step values\n",
    "mse = pd.DataFrame({\"w_1\" : w_1,\n",
    "                    \"MSE\" : [mean_squared_error(y, m * x + w_0) for m in w_1]} )\n",
    "mse"
   ]
  },
  {
   "cell_type": "code",
   "execution_count": 14,
   "id": "a0743aa6-dd01-4ba2-8b64-058dfae3b457",
   "metadata": {
    "tags": []
   },
   "outputs": [
    {
     "data": {
      "application/vnd.plotly.v1+json": {
       "config": {
        "plotlyServerURL": "https://plot.ly"
       },
       "data": [
        {
         "marker": {
          "size": 10
         },
         "mode": "markers",
         "name": "Data",
         "type": "scatter",
         "x": [
          35,
          43,
          49,
          58,
          63,
          65,
          78,
          80,
          120,
          123
         ],
         "xaxis": "x",
         "y": [
          30,
          52,
          49,
          64,
          62,
          48,
          104,
          63,
          103,
          100
         ],
         "yaxis": "y"
        },
        {
         "line": {
          "color": "red",
          "width": 3
         },
         "mode": "lines",
         "name": "Fitted line",
         "type": "scatter",
         "x": [
          35,
          43,
          49,
          58,
          63,
          65,
          78,
          80,
          120,
          123
         ],
         "xaxis": "x",
         "y": [
          10.5,
          12.9,
          14.7,
          17.4,
          18.9,
          19.5,
          23.4,
          24,
          36,
          36.9
         ],
         "yaxis": "y"
        },
        {
         "marker": {
          "size": 7
         },
         "mode": "markers",
         "name": "MSE",
         "type": "scatter",
         "x": [
          0.3,
          0.35,
          0.39999999999999997,
          0.44999999999999996,
          0.49999999999999994,
          0.5499999999999999,
          0.5999999999999999,
          0.6499999999999999,
          0.7,
          0.7499999999999999,
          0.7999999999999998,
          0.8499999999999999,
          0.8999999999999999,
          0.95,
          0.9999999999999998,
          1.0499999999999998,
          1.0999999999999999,
          1.15,
          1.1999999999999997,
          1.2499999999999998,
          1.2999999999999998,
          1.3499999999999999,
          1.3999999999999997,
          1.4499999999999997,
          1.4999999999999998,
          1.5499999999999998,
          1.5999999999999999,
          1.6499999999999997,
          1.6999999999999997,
          1.7499999999999998,
          1.7999999999999996,
          1.8499999999999996,
          1.8999999999999997,
          1.9499999999999997
         ],
         "xaxis": "x2",
         "y": [
          2441.4939999999997,
          2091.0235000000002,
          1770.0760000000002,
          1478.6515000000004,
          1216.75,
          984.3715000000005,
          781.5160000000004,
          608.1835000000003,
          464.37400000000014,
          350.08750000000015,
          265.32400000000024,
          210.08350000000013,
          184.36600000000004,
          188.1715,
          221.49999999999983,
          284.35149999999965,
          376.7259999999996,
          498.62349999999986,
          650.0439999999992,
          830.987499999999,
          1041.453999999999,
          1281.443499999999,
          1550.9559999999983,
          1849.9914999999983,
          2178.5499999999984,
          2536.6314999999986,
          2924.2359999999985,
          3341.363499999997,
          3788.013999999997,
          4264.187499999997,
          4769.8839999999955,
          5305.103499999996,
          5869.845999999996,
          6464.111499999997
         ],
         "yaxis": "y2"
        },
        {
         "line": {
          "color": "red"
         },
         "marker": {
          "line": {
           "color": "DarkSlateGrey",
           "width": 1
          },
          "size": 14
         },
         "mode": "markers",
         "name": "MSE for line",
         "type": "scatter",
         "x": [
          0.3
         ],
         "xaxis": "x2",
         "y": [
          2441.4939999999997
         ],
         "yaxis": "y2"
        }
       ],
       "frames": [
        {
         "data": [
          {
           "type": "scatter",
           "x": [
            35,
            43,
            49,
            58,
            63,
            65,
            78,
            80,
            120,
            123
           ],
           "y": [
            30,
            52,
            49,
            64,
            62,
            48,
            104,
            63,
            103,
            100
           ]
          },
          {
           "type": "scatter",
           "x": [
            35,
            43,
            49,
            58,
            63,
            65,
            78,
            80,
            120,
            123
           ],
           "y": [
            10.5,
            12.9,
            14.7,
            17.4,
            18.9,
            19.5,
            23.4,
            24,
            36,
            36.9
           ]
          },
          {
           "type": "scatter",
           "x": [
            0.3,
            0.35,
            0.39999999999999997,
            0.44999999999999996,
            0.49999999999999994,
            0.5499999999999999,
            0.5999999999999999,
            0.6499999999999999,
            0.7,
            0.7499999999999999,
            0.7999999999999998,
            0.8499999999999999,
            0.8999999999999999,
            0.95,
            0.9999999999999998,
            1.0499999999999998,
            1.0999999999999999,
            1.15,
            1.1999999999999997,
            1.2499999999999998,
            1.2999999999999998,
            1.3499999999999999,
            1.3999999999999997,
            1.4499999999999997,
            1.4999999999999998,
            1.5499999999999998,
            1.5999999999999999,
            1.6499999999999997,
            1.6999999999999997,
            1.7499999999999998,
            1.7999999999999996,
            1.8499999999999996,
            1.8999999999999997,
            1.9499999999999997
           ],
           "y": [
            2441.4939999999997,
            2091.0235000000002,
            1770.0760000000002,
            1478.6515000000004,
            1216.75,
            984.3715000000005,
            781.5160000000004,
            608.1835000000003,
            464.37400000000014,
            350.08750000000015,
            265.32400000000024,
            210.08350000000013,
            184.36600000000004,
            188.1715,
            221.49999999999983,
            284.35149999999965,
            376.7259999999996,
            498.62349999999986,
            650.0439999999992,
            830.987499999999,
            1041.453999999999,
            1281.443499999999,
            1550.9559999999983,
            1849.9914999999983,
            2178.5499999999984,
            2536.6314999999986,
            2924.2359999999985,
            3341.363499999997,
            3788.013999999997,
            4264.187499999997,
            4769.8839999999955,
            5305.103499999996,
            5869.845999999996,
            6464.111499999997
           ]
          },
          {
           "type": "scatter",
           "x": [
            0.3
           ],
           "y": [
            2441.4939999999997
           ]
          }
         ],
         "name": "0.30",
         "traces": [
          0,
          1,
          2,
          3
         ]
        },
        {
         "data": [
          {
           "type": "scatter",
           "x": [
            35,
            43,
            49,
            58,
            63,
            65,
            78,
            80,
            120,
            123
           ],
           "y": [
            30,
            52,
            49,
            64,
            62,
            48,
            104,
            63,
            103,
            100
           ]
          },
          {
           "type": "scatter",
           "x": [
            35,
            43,
            49,
            58,
            63,
            65,
            78,
            80,
            120,
            123
           ],
           "y": [
            12.25,
            15.049999999999999,
            17.15,
            20.299999999999997,
            22.049999999999997,
            22.75,
            27.299999999999997,
            28,
            42,
            43.05
           ]
          },
          {
           "type": "scatter",
           "x": [
            0.3,
            0.35,
            0.39999999999999997,
            0.44999999999999996,
            0.49999999999999994,
            0.5499999999999999,
            0.5999999999999999,
            0.6499999999999999,
            0.7,
            0.7499999999999999,
            0.7999999999999998,
            0.8499999999999999,
            0.8999999999999999,
            0.95,
            0.9999999999999998,
            1.0499999999999998,
            1.0999999999999999,
            1.15,
            1.1999999999999997,
            1.2499999999999998,
            1.2999999999999998,
            1.3499999999999999,
            1.3999999999999997,
            1.4499999999999997,
            1.4999999999999998,
            1.5499999999999998,
            1.5999999999999999,
            1.6499999999999997,
            1.6999999999999997,
            1.7499999999999998,
            1.7999999999999996,
            1.8499999999999996,
            1.8999999999999997,
            1.9499999999999997
           ],
           "y": [
            2441.4939999999997,
            2091.0235000000002,
            1770.0760000000002,
            1478.6515000000004,
            1216.75,
            984.3715000000005,
            781.5160000000004,
            608.1835000000003,
            464.37400000000014,
            350.08750000000015,
            265.32400000000024,
            210.08350000000013,
            184.36600000000004,
            188.1715,
            221.49999999999983,
            284.35149999999965,
            376.7259999999996,
            498.62349999999986,
            650.0439999999992,
            830.987499999999,
            1041.453999999999,
            1281.443499999999,
            1550.9559999999983,
            1849.9914999999983,
            2178.5499999999984,
            2536.6314999999986,
            2924.2359999999985,
            3341.363499999997,
            3788.013999999997,
            4264.187499999997,
            4769.8839999999955,
            5305.103499999996,
            5869.845999999996,
            6464.111499999997
           ]
          },
          {
           "type": "scatter",
           "x": [
            0.35
           ],
           "y": [
            2091.0235000000002
           ]
          }
         ],
         "name": "0.35",
         "traces": [
          0,
          1,
          2,
          3
         ]
        },
        {
         "data": [
          {
           "type": "scatter",
           "x": [
            35,
            43,
            49,
            58,
            63,
            65,
            78,
            80,
            120,
            123
           ],
           "y": [
            30,
            52,
            49,
            64,
            62,
            48,
            104,
            63,
            103,
            100
           ]
          },
          {
           "type": "scatter",
           "x": [
            35,
            43,
            49,
            58,
            63,
            65,
            78,
            80,
            120,
            123
           ],
           "y": [
            13.999999999999998,
            17.2,
            19.599999999999998,
            23.2,
            25.2,
            25.999999999999996,
            31.199999999999996,
            31.999999999999996,
            47.99999999999999,
            49.199999999999996
           ]
          },
          {
           "type": "scatter",
           "x": [
            0.3,
            0.35,
            0.39999999999999997,
            0.44999999999999996,
            0.49999999999999994,
            0.5499999999999999,
            0.5999999999999999,
            0.6499999999999999,
            0.7,
            0.7499999999999999,
            0.7999999999999998,
            0.8499999999999999,
            0.8999999999999999,
            0.95,
            0.9999999999999998,
            1.0499999999999998,
            1.0999999999999999,
            1.15,
            1.1999999999999997,
            1.2499999999999998,
            1.2999999999999998,
            1.3499999999999999,
            1.3999999999999997,
            1.4499999999999997,
            1.4999999999999998,
            1.5499999999999998,
            1.5999999999999999,
            1.6499999999999997,
            1.6999999999999997,
            1.7499999999999998,
            1.7999999999999996,
            1.8499999999999996,
            1.8999999999999997,
            1.9499999999999997
           ],
           "y": [
            2441.4939999999997,
            2091.0235000000002,
            1770.0760000000002,
            1478.6515000000004,
            1216.75,
            984.3715000000005,
            781.5160000000004,
            608.1835000000003,
            464.37400000000014,
            350.08750000000015,
            265.32400000000024,
            210.08350000000013,
            184.36600000000004,
            188.1715,
            221.49999999999983,
            284.35149999999965,
            376.7259999999996,
            498.62349999999986,
            650.0439999999992,
            830.987499999999,
            1041.453999999999,
            1281.443499999999,
            1550.9559999999983,
            1849.9914999999983,
            2178.5499999999984,
            2536.6314999999986,
            2924.2359999999985,
            3341.363499999997,
            3788.013999999997,
            4264.187499999997,
            4769.8839999999955,
            5305.103499999996,
            5869.845999999996,
            6464.111499999997
           ]
          },
          {
           "type": "scatter",
           "x": [
            0.39999999999999997
           ],
           "y": [
            1770.0760000000002
           ]
          }
         ],
         "name": "0.40",
         "traces": [
          0,
          1,
          2,
          3
         ]
        },
        {
         "data": [
          {
           "type": "scatter",
           "x": [
            35,
            43,
            49,
            58,
            63,
            65,
            78,
            80,
            120,
            123
           ],
           "y": [
            30,
            52,
            49,
            64,
            62,
            48,
            104,
            63,
            103,
            100
           ]
          },
          {
           "type": "scatter",
           "x": [
            35,
            43,
            49,
            58,
            63,
            65,
            78,
            80,
            120,
            123
           ],
           "y": [
            15.749999999999998,
            19.349999999999998,
            22.049999999999997,
            26.099999999999998,
            28.349999999999998,
            29.249999999999996,
            35.099999999999994,
            36,
            53.99999999999999,
            55.349999999999994
           ]
          },
          {
           "type": "scatter",
           "x": [
            0.3,
            0.35,
            0.39999999999999997,
            0.44999999999999996,
            0.49999999999999994,
            0.5499999999999999,
            0.5999999999999999,
            0.6499999999999999,
            0.7,
            0.7499999999999999,
            0.7999999999999998,
            0.8499999999999999,
            0.8999999999999999,
            0.95,
            0.9999999999999998,
            1.0499999999999998,
            1.0999999999999999,
            1.15,
            1.1999999999999997,
            1.2499999999999998,
            1.2999999999999998,
            1.3499999999999999,
            1.3999999999999997,
            1.4499999999999997,
            1.4999999999999998,
            1.5499999999999998,
            1.5999999999999999,
            1.6499999999999997,
            1.6999999999999997,
            1.7499999999999998,
            1.7999999999999996,
            1.8499999999999996,
            1.8999999999999997,
            1.9499999999999997
           ],
           "y": [
            2441.4939999999997,
            2091.0235000000002,
            1770.0760000000002,
            1478.6515000000004,
            1216.75,
            984.3715000000005,
            781.5160000000004,
            608.1835000000003,
            464.37400000000014,
            350.08750000000015,
            265.32400000000024,
            210.08350000000013,
            184.36600000000004,
            188.1715,
            221.49999999999983,
            284.35149999999965,
            376.7259999999996,
            498.62349999999986,
            650.0439999999992,
            830.987499999999,
            1041.453999999999,
            1281.443499999999,
            1550.9559999999983,
            1849.9914999999983,
            2178.5499999999984,
            2536.6314999999986,
            2924.2359999999985,
            3341.363499999997,
            3788.013999999997,
            4264.187499999997,
            4769.8839999999955,
            5305.103499999996,
            5869.845999999996,
            6464.111499999997
           ]
          },
          {
           "type": "scatter",
           "x": [
            0.44999999999999996
           ],
           "y": [
            1478.6515000000004
           ]
          }
         ],
         "name": "0.45",
         "traces": [
          0,
          1,
          2,
          3
         ]
        },
        {
         "data": [
          {
           "type": "scatter",
           "x": [
            35,
            43,
            49,
            58,
            63,
            65,
            78,
            80,
            120,
            123
           ],
           "y": [
            30,
            52,
            49,
            64,
            62,
            48,
            104,
            63,
            103,
            100
           ]
          },
          {
           "type": "scatter",
           "x": [
            35,
            43,
            49,
            58,
            63,
            65,
            78,
            80,
            120,
            123
           ],
           "y": [
            17.499999999999996,
            21.499999999999996,
            24.499999999999996,
            28.999999999999996,
            31.499999999999996,
            32.49999999999999,
            38.99999999999999,
            39.99999999999999,
            59.99999999999999,
            61.49999999999999
           ]
          },
          {
           "type": "scatter",
           "x": [
            0.3,
            0.35,
            0.39999999999999997,
            0.44999999999999996,
            0.49999999999999994,
            0.5499999999999999,
            0.5999999999999999,
            0.6499999999999999,
            0.7,
            0.7499999999999999,
            0.7999999999999998,
            0.8499999999999999,
            0.8999999999999999,
            0.95,
            0.9999999999999998,
            1.0499999999999998,
            1.0999999999999999,
            1.15,
            1.1999999999999997,
            1.2499999999999998,
            1.2999999999999998,
            1.3499999999999999,
            1.3999999999999997,
            1.4499999999999997,
            1.4999999999999998,
            1.5499999999999998,
            1.5999999999999999,
            1.6499999999999997,
            1.6999999999999997,
            1.7499999999999998,
            1.7999999999999996,
            1.8499999999999996,
            1.8999999999999997,
            1.9499999999999997
           ],
           "y": [
            2441.4939999999997,
            2091.0235000000002,
            1770.0760000000002,
            1478.6515000000004,
            1216.75,
            984.3715000000005,
            781.5160000000004,
            608.1835000000003,
            464.37400000000014,
            350.08750000000015,
            265.32400000000024,
            210.08350000000013,
            184.36600000000004,
            188.1715,
            221.49999999999983,
            284.35149999999965,
            376.7259999999996,
            498.62349999999986,
            650.0439999999992,
            830.987499999999,
            1041.453999999999,
            1281.443499999999,
            1550.9559999999983,
            1849.9914999999983,
            2178.5499999999984,
            2536.6314999999986,
            2924.2359999999985,
            3341.363499999997,
            3788.013999999997,
            4264.187499999997,
            4769.8839999999955,
            5305.103499999996,
            5869.845999999996,
            6464.111499999997
           ]
          },
          {
           "type": "scatter",
           "x": [
            0.49999999999999994
           ],
           "y": [
            1216.75
           ]
          }
         ],
         "name": "0.50",
         "traces": [
          0,
          1,
          2,
          3
         ]
        },
        {
         "data": [
          {
           "type": "scatter",
           "x": [
            35,
            43,
            49,
            58,
            63,
            65,
            78,
            80,
            120,
            123
           ],
           "y": [
            30,
            52,
            49,
            64,
            62,
            48,
            104,
            63,
            103,
            100
           ]
          },
          {
           "type": "scatter",
           "x": [
            35,
            43,
            49,
            58,
            63,
            65,
            78,
            80,
            120,
            123
           ],
           "y": [
            19.249999999999996,
            23.65,
            26.949999999999996,
            31.899999999999995,
            34.65,
            35.74999999999999,
            42.89999999999999,
            43.99999999999999,
            65.99999999999999,
            67.64999999999999
           ]
          },
          {
           "type": "scatter",
           "x": [
            0.3,
            0.35,
            0.39999999999999997,
            0.44999999999999996,
            0.49999999999999994,
            0.5499999999999999,
            0.5999999999999999,
            0.6499999999999999,
            0.7,
            0.7499999999999999,
            0.7999999999999998,
            0.8499999999999999,
            0.8999999999999999,
            0.95,
            0.9999999999999998,
            1.0499999999999998,
            1.0999999999999999,
            1.15,
            1.1999999999999997,
            1.2499999999999998,
            1.2999999999999998,
            1.3499999999999999,
            1.3999999999999997,
            1.4499999999999997,
            1.4999999999999998,
            1.5499999999999998,
            1.5999999999999999,
            1.6499999999999997,
            1.6999999999999997,
            1.7499999999999998,
            1.7999999999999996,
            1.8499999999999996,
            1.8999999999999997,
            1.9499999999999997
           ],
           "y": [
            2441.4939999999997,
            2091.0235000000002,
            1770.0760000000002,
            1478.6515000000004,
            1216.75,
            984.3715000000005,
            781.5160000000004,
            608.1835000000003,
            464.37400000000014,
            350.08750000000015,
            265.32400000000024,
            210.08350000000013,
            184.36600000000004,
            188.1715,
            221.49999999999983,
            284.35149999999965,
            376.7259999999996,
            498.62349999999986,
            650.0439999999992,
            830.987499999999,
            1041.453999999999,
            1281.443499999999,
            1550.9559999999983,
            1849.9914999999983,
            2178.5499999999984,
            2536.6314999999986,
            2924.2359999999985,
            3341.363499999997,
            3788.013999999997,
            4264.187499999997,
            4769.8839999999955,
            5305.103499999996,
            5869.845999999996,
            6464.111499999997
           ]
          },
          {
           "type": "scatter",
           "x": [
            0.5499999999999999
           ],
           "y": [
            984.3715000000005
           ]
          }
         ],
         "name": "0.55",
         "traces": [
          0,
          1,
          2,
          3
         ]
        },
        {
         "data": [
          {
           "type": "scatter",
           "x": [
            35,
            43,
            49,
            58,
            63,
            65,
            78,
            80,
            120,
            123
           ],
           "y": [
            30,
            52,
            49,
            64,
            62,
            48,
            104,
            63,
            103,
            100
           ]
          },
          {
           "type": "scatter",
           "x": [
            35,
            43,
            49,
            58,
            63,
            65,
            78,
            80,
            120,
            123
           ],
           "y": [
            20.999999999999996,
            25.799999999999994,
            29.399999999999995,
            34.79999999999999,
            37.79999999999999,
            38.99999999999999,
            46.79999999999999,
            47.999999999999986,
            71.99999999999999,
            73.79999999999998
           ]
          },
          {
           "type": "scatter",
           "x": [
            0.3,
            0.35,
            0.39999999999999997,
            0.44999999999999996,
            0.49999999999999994,
            0.5499999999999999,
            0.5999999999999999,
            0.6499999999999999,
            0.7,
            0.7499999999999999,
            0.7999999999999998,
            0.8499999999999999,
            0.8999999999999999,
            0.95,
            0.9999999999999998,
            1.0499999999999998,
            1.0999999999999999,
            1.15,
            1.1999999999999997,
            1.2499999999999998,
            1.2999999999999998,
            1.3499999999999999,
            1.3999999999999997,
            1.4499999999999997,
            1.4999999999999998,
            1.5499999999999998,
            1.5999999999999999,
            1.6499999999999997,
            1.6999999999999997,
            1.7499999999999998,
            1.7999999999999996,
            1.8499999999999996,
            1.8999999999999997,
            1.9499999999999997
           ],
           "y": [
            2441.4939999999997,
            2091.0235000000002,
            1770.0760000000002,
            1478.6515000000004,
            1216.75,
            984.3715000000005,
            781.5160000000004,
            608.1835000000003,
            464.37400000000014,
            350.08750000000015,
            265.32400000000024,
            210.08350000000013,
            184.36600000000004,
            188.1715,
            221.49999999999983,
            284.35149999999965,
            376.7259999999996,
            498.62349999999986,
            650.0439999999992,
            830.987499999999,
            1041.453999999999,
            1281.443499999999,
            1550.9559999999983,
            1849.9914999999983,
            2178.5499999999984,
            2536.6314999999986,
            2924.2359999999985,
            3341.363499999997,
            3788.013999999997,
            4264.187499999997,
            4769.8839999999955,
            5305.103499999996,
            5869.845999999996,
            6464.111499999997
           ]
          },
          {
           "type": "scatter",
           "x": [
            0.5999999999999999
           ],
           "y": [
            781.5160000000004
           ]
          }
         ],
         "name": "0.60",
         "traces": [
          0,
          1,
          2,
          3
         ]
        },
        {
         "data": [
          {
           "type": "scatter",
           "x": [
            35,
            43,
            49,
            58,
            63,
            65,
            78,
            80,
            120,
            123
           ],
           "y": [
            30,
            52,
            49,
            64,
            62,
            48,
            104,
            63,
            103,
            100
           ]
          },
          {
           "type": "scatter",
           "x": [
            35,
            43,
            49,
            58,
            63,
            65,
            78,
            80,
            120,
            123
           ],
           "y": [
            22.749999999999996,
            27.949999999999996,
            31.849999999999994,
            37.699999999999996,
            40.949999999999996,
            42.24999999999999,
            50.699999999999996,
            51.99999999999999,
            77.99999999999999,
            79.94999999999999
           ]
          },
          {
           "type": "scatter",
           "x": [
            0.3,
            0.35,
            0.39999999999999997,
            0.44999999999999996,
            0.49999999999999994,
            0.5499999999999999,
            0.5999999999999999,
            0.6499999999999999,
            0.7,
            0.7499999999999999,
            0.7999999999999998,
            0.8499999999999999,
            0.8999999999999999,
            0.95,
            0.9999999999999998,
            1.0499999999999998,
            1.0999999999999999,
            1.15,
            1.1999999999999997,
            1.2499999999999998,
            1.2999999999999998,
            1.3499999999999999,
            1.3999999999999997,
            1.4499999999999997,
            1.4999999999999998,
            1.5499999999999998,
            1.5999999999999999,
            1.6499999999999997,
            1.6999999999999997,
            1.7499999999999998,
            1.7999999999999996,
            1.8499999999999996,
            1.8999999999999997,
            1.9499999999999997
           ],
           "y": [
            2441.4939999999997,
            2091.0235000000002,
            1770.0760000000002,
            1478.6515000000004,
            1216.75,
            984.3715000000005,
            781.5160000000004,
            608.1835000000003,
            464.37400000000014,
            350.08750000000015,
            265.32400000000024,
            210.08350000000013,
            184.36600000000004,
            188.1715,
            221.49999999999983,
            284.35149999999965,
            376.7259999999996,
            498.62349999999986,
            650.0439999999992,
            830.987499999999,
            1041.453999999999,
            1281.443499999999,
            1550.9559999999983,
            1849.9914999999983,
            2178.5499999999984,
            2536.6314999999986,
            2924.2359999999985,
            3341.363499999997,
            3788.013999999997,
            4264.187499999997,
            4769.8839999999955,
            5305.103499999996,
            5869.845999999996,
            6464.111499999997
           ]
          },
          {
           "type": "scatter",
           "x": [
            0.6499999999999999
           ],
           "y": [
            608.1835000000003
           ]
          }
         ],
         "name": "0.65",
         "traces": [
          0,
          1,
          2,
          3
         ]
        },
        {
         "data": [
          {
           "type": "scatter",
           "x": [
            35,
            43,
            49,
            58,
            63,
            65,
            78,
            80,
            120,
            123
           ],
           "y": [
            30,
            52,
            49,
            64,
            62,
            48,
            104,
            63,
            103,
            100
           ]
          },
          {
           "type": "scatter",
           "x": [
            35,
            43,
            49,
            58,
            63,
            65,
            78,
            80,
            120,
            123
           ],
           "y": [
            24.5,
            30.099999999999998,
            34.3,
            40.599999999999994,
            44.099999999999994,
            45.5,
            54.599999999999994,
            56,
            84,
            86.1
           ]
          },
          {
           "type": "scatter",
           "x": [
            0.3,
            0.35,
            0.39999999999999997,
            0.44999999999999996,
            0.49999999999999994,
            0.5499999999999999,
            0.5999999999999999,
            0.6499999999999999,
            0.7,
            0.7499999999999999,
            0.7999999999999998,
            0.8499999999999999,
            0.8999999999999999,
            0.95,
            0.9999999999999998,
            1.0499999999999998,
            1.0999999999999999,
            1.15,
            1.1999999999999997,
            1.2499999999999998,
            1.2999999999999998,
            1.3499999999999999,
            1.3999999999999997,
            1.4499999999999997,
            1.4999999999999998,
            1.5499999999999998,
            1.5999999999999999,
            1.6499999999999997,
            1.6999999999999997,
            1.7499999999999998,
            1.7999999999999996,
            1.8499999999999996,
            1.8999999999999997,
            1.9499999999999997
           ],
           "y": [
            2441.4939999999997,
            2091.0235000000002,
            1770.0760000000002,
            1478.6515000000004,
            1216.75,
            984.3715000000005,
            781.5160000000004,
            608.1835000000003,
            464.37400000000014,
            350.08750000000015,
            265.32400000000024,
            210.08350000000013,
            184.36600000000004,
            188.1715,
            221.49999999999983,
            284.35149999999965,
            376.7259999999996,
            498.62349999999986,
            650.0439999999992,
            830.987499999999,
            1041.453999999999,
            1281.443499999999,
            1550.9559999999983,
            1849.9914999999983,
            2178.5499999999984,
            2536.6314999999986,
            2924.2359999999985,
            3341.363499999997,
            3788.013999999997,
            4264.187499999997,
            4769.8839999999955,
            5305.103499999996,
            5869.845999999996,
            6464.111499999997
           ]
          },
          {
           "type": "scatter",
           "x": [
            0.7
           ],
           "y": [
            464.37400000000014
           ]
          }
         ],
         "name": "0.70",
         "traces": [
          0,
          1,
          2,
          3
         ]
        },
        {
         "data": [
          {
           "type": "scatter",
           "x": [
            35,
            43,
            49,
            58,
            63,
            65,
            78,
            80,
            120,
            123
           ],
           "y": [
            30,
            52,
            49,
            64,
            62,
            48,
            104,
            63,
            103,
            100
           ]
          },
          {
           "type": "scatter",
           "x": [
            35,
            43,
            49,
            58,
            63,
            65,
            78,
            80,
            120,
            123
           ],
           "y": [
            26.249999999999996,
            32.24999999999999,
            36.74999999999999,
            43.49999999999999,
            47.24999999999999,
            48.74999999999999,
            58.49999999999999,
            59.99999999999999,
            89.99999999999999,
            92.24999999999999
           ]
          },
          {
           "type": "scatter",
           "x": [
            0.3,
            0.35,
            0.39999999999999997,
            0.44999999999999996,
            0.49999999999999994,
            0.5499999999999999,
            0.5999999999999999,
            0.6499999999999999,
            0.7,
            0.7499999999999999,
            0.7999999999999998,
            0.8499999999999999,
            0.8999999999999999,
            0.95,
            0.9999999999999998,
            1.0499999999999998,
            1.0999999999999999,
            1.15,
            1.1999999999999997,
            1.2499999999999998,
            1.2999999999999998,
            1.3499999999999999,
            1.3999999999999997,
            1.4499999999999997,
            1.4999999999999998,
            1.5499999999999998,
            1.5999999999999999,
            1.6499999999999997,
            1.6999999999999997,
            1.7499999999999998,
            1.7999999999999996,
            1.8499999999999996,
            1.8999999999999997,
            1.9499999999999997
           ],
           "y": [
            2441.4939999999997,
            2091.0235000000002,
            1770.0760000000002,
            1478.6515000000004,
            1216.75,
            984.3715000000005,
            781.5160000000004,
            608.1835000000003,
            464.37400000000014,
            350.08750000000015,
            265.32400000000024,
            210.08350000000013,
            184.36600000000004,
            188.1715,
            221.49999999999983,
            284.35149999999965,
            376.7259999999996,
            498.62349999999986,
            650.0439999999992,
            830.987499999999,
            1041.453999999999,
            1281.443499999999,
            1550.9559999999983,
            1849.9914999999983,
            2178.5499999999984,
            2536.6314999999986,
            2924.2359999999985,
            3341.363499999997,
            3788.013999999997,
            4264.187499999997,
            4769.8839999999955,
            5305.103499999996,
            5869.845999999996,
            6464.111499999997
           ]
          },
          {
           "type": "scatter",
           "x": [
            0.7499999999999999
           ],
           "y": [
            350.08750000000015
           ]
          }
         ],
         "name": "0.75",
         "traces": [
          0,
          1,
          2,
          3
         ]
        },
        {
         "data": [
          {
           "type": "scatter",
           "x": [
            35,
            43,
            49,
            58,
            63,
            65,
            78,
            80,
            120,
            123
           ],
           "y": [
            30,
            52,
            49,
            64,
            62,
            48,
            104,
            63,
            103,
            100
           ]
          },
          {
           "type": "scatter",
           "x": [
            35,
            43,
            49,
            58,
            63,
            65,
            78,
            80,
            120,
            123
           ],
           "y": [
            27.999999999999993,
            34.39999999999999,
            39.19999999999999,
            46.39999999999999,
            50.39999999999999,
            51.999999999999986,
            62.399999999999984,
            63.999999999999986,
            95.99999999999997,
            98.39999999999998
           ]
          },
          {
           "type": "scatter",
           "x": [
            0.3,
            0.35,
            0.39999999999999997,
            0.44999999999999996,
            0.49999999999999994,
            0.5499999999999999,
            0.5999999999999999,
            0.6499999999999999,
            0.7,
            0.7499999999999999,
            0.7999999999999998,
            0.8499999999999999,
            0.8999999999999999,
            0.95,
            0.9999999999999998,
            1.0499999999999998,
            1.0999999999999999,
            1.15,
            1.1999999999999997,
            1.2499999999999998,
            1.2999999999999998,
            1.3499999999999999,
            1.3999999999999997,
            1.4499999999999997,
            1.4999999999999998,
            1.5499999999999998,
            1.5999999999999999,
            1.6499999999999997,
            1.6999999999999997,
            1.7499999999999998,
            1.7999999999999996,
            1.8499999999999996,
            1.8999999999999997,
            1.9499999999999997
           ],
           "y": [
            2441.4939999999997,
            2091.0235000000002,
            1770.0760000000002,
            1478.6515000000004,
            1216.75,
            984.3715000000005,
            781.5160000000004,
            608.1835000000003,
            464.37400000000014,
            350.08750000000015,
            265.32400000000024,
            210.08350000000013,
            184.36600000000004,
            188.1715,
            221.49999999999983,
            284.35149999999965,
            376.7259999999996,
            498.62349999999986,
            650.0439999999992,
            830.987499999999,
            1041.453999999999,
            1281.443499999999,
            1550.9559999999983,
            1849.9914999999983,
            2178.5499999999984,
            2536.6314999999986,
            2924.2359999999985,
            3341.363499999997,
            3788.013999999997,
            4264.187499999997,
            4769.8839999999955,
            5305.103499999996,
            5869.845999999996,
            6464.111499999997
           ]
          },
          {
           "type": "scatter",
           "x": [
            0.7999999999999998
           ],
           "y": [
            265.32400000000024
           ]
          }
         ],
         "name": "0.80",
         "traces": [
          0,
          1,
          2,
          3
         ]
        },
        {
         "data": [
          {
           "type": "scatter",
           "x": [
            35,
            43,
            49,
            58,
            63,
            65,
            78,
            80,
            120,
            123
           ],
           "y": [
            30,
            52,
            49,
            64,
            62,
            48,
            104,
            63,
            103,
            100
           ]
          },
          {
           "type": "scatter",
           "x": [
            35,
            43,
            49,
            58,
            63,
            65,
            78,
            80,
            120,
            123
           ],
           "y": [
            29.749999999999996,
            36.55,
            41.64999999999999,
            49.29999999999999,
            53.54999999999999,
            55.24999999999999,
            66.29999999999998,
            67.99999999999999,
            101.99999999999999,
            104.54999999999998
           ]
          },
          {
           "type": "scatter",
           "x": [
            0.3,
            0.35,
            0.39999999999999997,
            0.44999999999999996,
            0.49999999999999994,
            0.5499999999999999,
            0.5999999999999999,
            0.6499999999999999,
            0.7,
            0.7499999999999999,
            0.7999999999999998,
            0.8499999999999999,
            0.8999999999999999,
            0.95,
            0.9999999999999998,
            1.0499999999999998,
            1.0999999999999999,
            1.15,
            1.1999999999999997,
            1.2499999999999998,
            1.2999999999999998,
            1.3499999999999999,
            1.3999999999999997,
            1.4499999999999997,
            1.4999999999999998,
            1.5499999999999998,
            1.5999999999999999,
            1.6499999999999997,
            1.6999999999999997,
            1.7499999999999998,
            1.7999999999999996,
            1.8499999999999996,
            1.8999999999999997,
            1.9499999999999997
           ],
           "y": [
            2441.4939999999997,
            2091.0235000000002,
            1770.0760000000002,
            1478.6515000000004,
            1216.75,
            984.3715000000005,
            781.5160000000004,
            608.1835000000003,
            464.37400000000014,
            350.08750000000015,
            265.32400000000024,
            210.08350000000013,
            184.36600000000004,
            188.1715,
            221.49999999999983,
            284.35149999999965,
            376.7259999999996,
            498.62349999999986,
            650.0439999999992,
            830.987499999999,
            1041.453999999999,
            1281.443499999999,
            1550.9559999999983,
            1849.9914999999983,
            2178.5499999999984,
            2536.6314999999986,
            2924.2359999999985,
            3341.363499999997,
            3788.013999999997,
            4264.187499999997,
            4769.8839999999955,
            5305.103499999996,
            5869.845999999996,
            6464.111499999997
           ]
          },
          {
           "type": "scatter",
           "x": [
            0.8499999999999999
           ],
           "y": [
            210.08350000000013
           ]
          }
         ],
         "name": "0.85",
         "traces": [
          0,
          1,
          2,
          3
         ]
        },
        {
         "data": [
          {
           "type": "scatter",
           "x": [
            35,
            43,
            49,
            58,
            63,
            65,
            78,
            80,
            120,
            123
           ],
           "y": [
            30,
            52,
            49,
            64,
            62,
            48,
            104,
            63,
            103,
            100
           ]
          },
          {
           "type": "scatter",
           "x": [
            35,
            43,
            49,
            58,
            63,
            65,
            78,
            80,
            120,
            123
           ],
           "y": [
            31.499999999999996,
            38.699999999999996,
            44.099999999999994,
            52.199999999999996,
            56.699999999999996,
            58.49999999999999,
            70.19999999999999,
            72,
            107.99999999999999,
            110.69999999999999
           ]
          },
          {
           "type": "scatter",
           "x": [
            0.3,
            0.35,
            0.39999999999999997,
            0.44999999999999996,
            0.49999999999999994,
            0.5499999999999999,
            0.5999999999999999,
            0.6499999999999999,
            0.7,
            0.7499999999999999,
            0.7999999999999998,
            0.8499999999999999,
            0.8999999999999999,
            0.95,
            0.9999999999999998,
            1.0499999999999998,
            1.0999999999999999,
            1.15,
            1.1999999999999997,
            1.2499999999999998,
            1.2999999999999998,
            1.3499999999999999,
            1.3999999999999997,
            1.4499999999999997,
            1.4999999999999998,
            1.5499999999999998,
            1.5999999999999999,
            1.6499999999999997,
            1.6999999999999997,
            1.7499999999999998,
            1.7999999999999996,
            1.8499999999999996,
            1.8999999999999997,
            1.9499999999999997
           ],
           "y": [
            2441.4939999999997,
            2091.0235000000002,
            1770.0760000000002,
            1478.6515000000004,
            1216.75,
            984.3715000000005,
            781.5160000000004,
            608.1835000000003,
            464.37400000000014,
            350.08750000000015,
            265.32400000000024,
            210.08350000000013,
            184.36600000000004,
            188.1715,
            221.49999999999983,
            284.35149999999965,
            376.7259999999996,
            498.62349999999986,
            650.0439999999992,
            830.987499999999,
            1041.453999999999,
            1281.443499999999,
            1550.9559999999983,
            1849.9914999999983,
            2178.5499999999984,
            2536.6314999999986,
            2924.2359999999985,
            3341.363499999997,
            3788.013999999997,
            4264.187499999997,
            4769.8839999999955,
            5305.103499999996,
            5869.845999999996,
            6464.111499999997
           ]
          },
          {
           "type": "scatter",
           "x": [
            0.8999999999999999
           ],
           "y": [
            184.36600000000004
           ]
          }
         ],
         "name": "0.90",
         "traces": [
          0,
          1,
          2,
          3
         ]
        },
        {
         "data": [
          {
           "type": "scatter",
           "x": [
            35,
            43,
            49,
            58,
            63,
            65,
            78,
            80,
            120,
            123
           ],
           "y": [
            30,
            52,
            49,
            64,
            62,
            48,
            104,
            63,
            103,
            100
           ]
          },
          {
           "type": "scatter",
           "x": [
            35,
            43,
            49,
            58,
            63,
            65,
            78,
            80,
            120,
            123
           ],
           "y": [
            33.25,
            40.85,
            46.55,
            55.099999999999994,
            59.849999999999994,
            61.75,
            74.1,
            76,
            114,
            116.85
           ]
          },
          {
           "type": "scatter",
           "x": [
            0.3,
            0.35,
            0.39999999999999997,
            0.44999999999999996,
            0.49999999999999994,
            0.5499999999999999,
            0.5999999999999999,
            0.6499999999999999,
            0.7,
            0.7499999999999999,
            0.7999999999999998,
            0.8499999999999999,
            0.8999999999999999,
            0.95,
            0.9999999999999998,
            1.0499999999999998,
            1.0999999999999999,
            1.15,
            1.1999999999999997,
            1.2499999999999998,
            1.2999999999999998,
            1.3499999999999999,
            1.3999999999999997,
            1.4499999999999997,
            1.4999999999999998,
            1.5499999999999998,
            1.5999999999999999,
            1.6499999999999997,
            1.6999999999999997,
            1.7499999999999998,
            1.7999999999999996,
            1.8499999999999996,
            1.8999999999999997,
            1.9499999999999997
           ],
           "y": [
            2441.4939999999997,
            2091.0235000000002,
            1770.0760000000002,
            1478.6515000000004,
            1216.75,
            984.3715000000005,
            781.5160000000004,
            608.1835000000003,
            464.37400000000014,
            350.08750000000015,
            265.32400000000024,
            210.08350000000013,
            184.36600000000004,
            188.1715,
            221.49999999999983,
            284.35149999999965,
            376.7259999999996,
            498.62349999999986,
            650.0439999999992,
            830.987499999999,
            1041.453999999999,
            1281.443499999999,
            1550.9559999999983,
            1849.9914999999983,
            2178.5499999999984,
            2536.6314999999986,
            2924.2359999999985,
            3341.363499999997,
            3788.013999999997,
            4264.187499999997,
            4769.8839999999955,
            5305.103499999996,
            5869.845999999996,
            6464.111499999997
           ]
          },
          {
           "type": "scatter",
           "x": [
            0.95
           ],
           "y": [
            188.1715
           ]
          }
         ],
         "name": "0.95",
         "traces": [
          0,
          1,
          2,
          3
         ]
        },
        {
         "data": [
          {
           "type": "scatter",
           "x": [
            35,
            43,
            49,
            58,
            63,
            65,
            78,
            80,
            120,
            123
           ],
           "y": [
            30,
            52,
            49,
            64,
            62,
            48,
            104,
            63,
            103,
            100
           ]
          },
          {
           "type": "scatter",
           "x": [
            35,
            43,
            49,
            58,
            63,
            65,
            78,
            80,
            120,
            123
           ],
           "y": [
            34.99999999999999,
            42.99999999999999,
            48.999999999999986,
            57.999999999999986,
            62.999999999999986,
            64.99999999999999,
            77.99999999999999,
            79.99999999999999,
            119.99999999999997,
            122.99999999999997
           ]
          },
          {
           "type": "scatter",
           "x": [
            0.3,
            0.35,
            0.39999999999999997,
            0.44999999999999996,
            0.49999999999999994,
            0.5499999999999999,
            0.5999999999999999,
            0.6499999999999999,
            0.7,
            0.7499999999999999,
            0.7999999999999998,
            0.8499999999999999,
            0.8999999999999999,
            0.95,
            0.9999999999999998,
            1.0499999999999998,
            1.0999999999999999,
            1.15,
            1.1999999999999997,
            1.2499999999999998,
            1.2999999999999998,
            1.3499999999999999,
            1.3999999999999997,
            1.4499999999999997,
            1.4999999999999998,
            1.5499999999999998,
            1.5999999999999999,
            1.6499999999999997,
            1.6999999999999997,
            1.7499999999999998,
            1.7999999999999996,
            1.8499999999999996,
            1.8999999999999997,
            1.9499999999999997
           ],
           "y": [
            2441.4939999999997,
            2091.0235000000002,
            1770.0760000000002,
            1478.6515000000004,
            1216.75,
            984.3715000000005,
            781.5160000000004,
            608.1835000000003,
            464.37400000000014,
            350.08750000000015,
            265.32400000000024,
            210.08350000000013,
            184.36600000000004,
            188.1715,
            221.49999999999983,
            284.35149999999965,
            376.7259999999996,
            498.62349999999986,
            650.0439999999992,
            830.987499999999,
            1041.453999999999,
            1281.443499999999,
            1550.9559999999983,
            1849.9914999999983,
            2178.5499999999984,
            2536.6314999999986,
            2924.2359999999985,
            3341.363499999997,
            3788.013999999997,
            4264.187499999997,
            4769.8839999999955,
            5305.103499999996,
            5869.845999999996,
            6464.111499999997
           ]
          },
          {
           "type": "scatter",
           "x": [
            0.9999999999999998
           ],
           "y": [
            221.49999999999983
           ]
          }
         ],
         "name": "1.00",
         "traces": [
          0,
          1,
          2,
          3
         ]
        },
        {
         "data": [
          {
           "type": "scatter",
           "x": [
            35,
            43,
            49,
            58,
            63,
            65,
            78,
            80,
            120,
            123
           ],
           "y": [
            30,
            52,
            49,
            64,
            62,
            48,
            104,
            63,
            103,
            100
           ]
          },
          {
           "type": "scatter",
           "x": [
            35,
            43,
            49,
            58,
            63,
            65,
            78,
            80,
            120,
            123
           ],
           "y": [
            36.74999999999999,
            45.14999999999999,
            51.44999999999999,
            60.89999999999999,
            66.14999999999999,
            68.24999999999999,
            81.89999999999999,
            83.99999999999999,
            125.99999999999997,
            129.14999999999998
           ]
          },
          {
           "type": "scatter",
           "x": [
            0.3,
            0.35,
            0.39999999999999997,
            0.44999999999999996,
            0.49999999999999994,
            0.5499999999999999,
            0.5999999999999999,
            0.6499999999999999,
            0.7,
            0.7499999999999999,
            0.7999999999999998,
            0.8499999999999999,
            0.8999999999999999,
            0.95,
            0.9999999999999998,
            1.0499999999999998,
            1.0999999999999999,
            1.15,
            1.1999999999999997,
            1.2499999999999998,
            1.2999999999999998,
            1.3499999999999999,
            1.3999999999999997,
            1.4499999999999997,
            1.4999999999999998,
            1.5499999999999998,
            1.5999999999999999,
            1.6499999999999997,
            1.6999999999999997,
            1.7499999999999998,
            1.7999999999999996,
            1.8499999999999996,
            1.8999999999999997,
            1.9499999999999997
           ],
           "y": [
            2441.4939999999997,
            2091.0235000000002,
            1770.0760000000002,
            1478.6515000000004,
            1216.75,
            984.3715000000005,
            781.5160000000004,
            608.1835000000003,
            464.37400000000014,
            350.08750000000015,
            265.32400000000024,
            210.08350000000013,
            184.36600000000004,
            188.1715,
            221.49999999999983,
            284.35149999999965,
            376.7259999999996,
            498.62349999999986,
            650.0439999999992,
            830.987499999999,
            1041.453999999999,
            1281.443499999999,
            1550.9559999999983,
            1849.9914999999983,
            2178.5499999999984,
            2536.6314999999986,
            2924.2359999999985,
            3341.363499999997,
            3788.013999999997,
            4264.187499999997,
            4769.8839999999955,
            5305.103499999996,
            5869.845999999996,
            6464.111499999997
           ]
          },
          {
           "type": "scatter",
           "x": [
            1.0499999999999998
           ],
           "y": [
            284.35149999999965
           ]
          }
         ],
         "name": "1.05",
         "traces": [
          0,
          1,
          2,
          3
         ]
        },
        {
         "data": [
          {
           "type": "scatter",
           "x": [
            35,
            43,
            49,
            58,
            63,
            65,
            78,
            80,
            120,
            123
           ],
           "y": [
            30,
            52,
            49,
            64,
            62,
            48,
            104,
            63,
            103,
            100
           ]
          },
          {
           "type": "scatter",
           "x": [
            35,
            43,
            49,
            58,
            63,
            65,
            78,
            80,
            120,
            123
           ],
           "y": [
            38.49999999999999,
            47.3,
            53.89999999999999,
            63.79999999999999,
            69.3,
            71.49999999999999,
            85.79999999999998,
            87.99999999999999,
            131.99999999999997,
            135.29999999999998
           ]
          },
          {
           "type": "scatter",
           "x": [
            0.3,
            0.35,
            0.39999999999999997,
            0.44999999999999996,
            0.49999999999999994,
            0.5499999999999999,
            0.5999999999999999,
            0.6499999999999999,
            0.7,
            0.7499999999999999,
            0.7999999999999998,
            0.8499999999999999,
            0.8999999999999999,
            0.95,
            0.9999999999999998,
            1.0499999999999998,
            1.0999999999999999,
            1.15,
            1.1999999999999997,
            1.2499999999999998,
            1.2999999999999998,
            1.3499999999999999,
            1.3999999999999997,
            1.4499999999999997,
            1.4999999999999998,
            1.5499999999999998,
            1.5999999999999999,
            1.6499999999999997,
            1.6999999999999997,
            1.7499999999999998,
            1.7999999999999996,
            1.8499999999999996,
            1.8999999999999997,
            1.9499999999999997
           ],
           "y": [
            2441.4939999999997,
            2091.0235000000002,
            1770.0760000000002,
            1478.6515000000004,
            1216.75,
            984.3715000000005,
            781.5160000000004,
            608.1835000000003,
            464.37400000000014,
            350.08750000000015,
            265.32400000000024,
            210.08350000000013,
            184.36600000000004,
            188.1715,
            221.49999999999983,
            284.35149999999965,
            376.7259999999996,
            498.62349999999986,
            650.0439999999992,
            830.987499999999,
            1041.453999999999,
            1281.443499999999,
            1550.9559999999983,
            1849.9914999999983,
            2178.5499999999984,
            2536.6314999999986,
            2924.2359999999985,
            3341.363499999997,
            3788.013999999997,
            4264.187499999997,
            4769.8839999999955,
            5305.103499999996,
            5869.845999999996,
            6464.111499999997
           ]
          },
          {
           "type": "scatter",
           "x": [
            1.0999999999999999
           ],
           "y": [
            376.7259999999996
           ]
          }
         ],
         "name": "1.10",
         "traces": [
          0,
          1,
          2,
          3
         ]
        },
        {
         "data": [
          {
           "type": "scatter",
           "x": [
            35,
            43,
            49,
            58,
            63,
            65,
            78,
            80,
            120,
            123
           ],
           "y": [
            30,
            52,
            49,
            64,
            62,
            48,
            104,
            63,
            103,
            100
           ]
          },
          {
           "type": "scatter",
           "x": [
            35,
            43,
            49,
            58,
            63,
            65,
            78,
            80,
            120,
            123
           ],
           "y": [
            40.25,
            49.449999999999996,
            56.349999999999994,
            66.69999999999999,
            72.44999999999999,
            74.75,
            89.69999999999999,
            92,
            138,
            141.45
           ]
          },
          {
           "type": "scatter",
           "x": [
            0.3,
            0.35,
            0.39999999999999997,
            0.44999999999999996,
            0.49999999999999994,
            0.5499999999999999,
            0.5999999999999999,
            0.6499999999999999,
            0.7,
            0.7499999999999999,
            0.7999999999999998,
            0.8499999999999999,
            0.8999999999999999,
            0.95,
            0.9999999999999998,
            1.0499999999999998,
            1.0999999999999999,
            1.15,
            1.1999999999999997,
            1.2499999999999998,
            1.2999999999999998,
            1.3499999999999999,
            1.3999999999999997,
            1.4499999999999997,
            1.4999999999999998,
            1.5499999999999998,
            1.5999999999999999,
            1.6499999999999997,
            1.6999999999999997,
            1.7499999999999998,
            1.7999999999999996,
            1.8499999999999996,
            1.8999999999999997,
            1.9499999999999997
           ],
           "y": [
            2441.4939999999997,
            2091.0235000000002,
            1770.0760000000002,
            1478.6515000000004,
            1216.75,
            984.3715000000005,
            781.5160000000004,
            608.1835000000003,
            464.37400000000014,
            350.08750000000015,
            265.32400000000024,
            210.08350000000013,
            184.36600000000004,
            188.1715,
            221.49999999999983,
            284.35149999999965,
            376.7259999999996,
            498.62349999999986,
            650.0439999999992,
            830.987499999999,
            1041.453999999999,
            1281.443499999999,
            1550.9559999999983,
            1849.9914999999983,
            2178.5499999999984,
            2536.6314999999986,
            2924.2359999999985,
            3341.363499999997,
            3788.013999999997,
            4264.187499999997,
            4769.8839999999955,
            5305.103499999996,
            5869.845999999996,
            6464.111499999997
           ]
          },
          {
           "type": "scatter",
           "x": [
            1.15
           ],
           "y": [
            498.62349999999986
           ]
          }
         ],
         "name": "1.15",
         "traces": [
          0,
          1,
          2,
          3
         ]
        },
        {
         "data": [
          {
           "type": "scatter",
           "x": [
            35,
            43,
            49,
            58,
            63,
            65,
            78,
            80,
            120,
            123
           ],
           "y": [
            30,
            52,
            49,
            64,
            62,
            48,
            104,
            63,
            103,
            100
           ]
          },
          {
           "type": "scatter",
           "x": [
            35,
            43,
            49,
            58,
            63,
            65,
            78,
            80,
            120,
            123
           ],
           "y": [
            41.99999999999999,
            51.59999999999999,
            58.79999999999999,
            69.59999999999998,
            75.59999999999998,
            77.99999999999999,
            93.59999999999998,
            95.99999999999997,
            143.99999999999997,
            147.59999999999997
           ]
          },
          {
           "type": "scatter",
           "x": [
            0.3,
            0.35,
            0.39999999999999997,
            0.44999999999999996,
            0.49999999999999994,
            0.5499999999999999,
            0.5999999999999999,
            0.6499999999999999,
            0.7,
            0.7499999999999999,
            0.7999999999999998,
            0.8499999999999999,
            0.8999999999999999,
            0.95,
            0.9999999999999998,
            1.0499999999999998,
            1.0999999999999999,
            1.15,
            1.1999999999999997,
            1.2499999999999998,
            1.2999999999999998,
            1.3499999999999999,
            1.3999999999999997,
            1.4499999999999997,
            1.4999999999999998,
            1.5499999999999998,
            1.5999999999999999,
            1.6499999999999997,
            1.6999999999999997,
            1.7499999999999998,
            1.7999999999999996,
            1.8499999999999996,
            1.8999999999999997,
            1.9499999999999997
           ],
           "y": [
            2441.4939999999997,
            2091.0235000000002,
            1770.0760000000002,
            1478.6515000000004,
            1216.75,
            984.3715000000005,
            781.5160000000004,
            608.1835000000003,
            464.37400000000014,
            350.08750000000015,
            265.32400000000024,
            210.08350000000013,
            184.36600000000004,
            188.1715,
            221.49999999999983,
            284.35149999999965,
            376.7259999999996,
            498.62349999999986,
            650.0439999999992,
            830.987499999999,
            1041.453999999999,
            1281.443499999999,
            1550.9559999999983,
            1849.9914999999983,
            2178.5499999999984,
            2536.6314999999986,
            2924.2359999999985,
            3341.363499999997,
            3788.013999999997,
            4264.187499999997,
            4769.8839999999955,
            5305.103499999996,
            5869.845999999996,
            6464.111499999997
           ]
          },
          {
           "type": "scatter",
           "x": [
            1.1999999999999997
           ],
           "y": [
            650.0439999999992
           ]
          }
         ],
         "name": "1.20",
         "traces": [
          0,
          1,
          2,
          3
         ]
        },
        {
         "data": [
          {
           "type": "scatter",
           "x": [
            35,
            43,
            49,
            58,
            63,
            65,
            78,
            80,
            120,
            123
           ],
           "y": [
            30,
            52,
            49,
            64,
            62,
            48,
            104,
            63,
            103,
            100
           ]
          },
          {
           "type": "scatter",
           "x": [
            35,
            43,
            49,
            58,
            63,
            65,
            78,
            80,
            120,
            123
           ],
           "y": [
            43.74999999999999,
            53.74999999999999,
            61.249999999999986,
            72.49999999999999,
            78.74999999999999,
            81.24999999999999,
            97.49999999999999,
            99.99999999999999,
            149.99999999999997,
            153.74999999999997
           ]
          },
          {
           "type": "scatter",
           "x": [
            0.3,
            0.35,
            0.39999999999999997,
            0.44999999999999996,
            0.49999999999999994,
            0.5499999999999999,
            0.5999999999999999,
            0.6499999999999999,
            0.7,
            0.7499999999999999,
            0.7999999999999998,
            0.8499999999999999,
            0.8999999999999999,
            0.95,
            0.9999999999999998,
            1.0499999999999998,
            1.0999999999999999,
            1.15,
            1.1999999999999997,
            1.2499999999999998,
            1.2999999999999998,
            1.3499999999999999,
            1.3999999999999997,
            1.4499999999999997,
            1.4999999999999998,
            1.5499999999999998,
            1.5999999999999999,
            1.6499999999999997,
            1.6999999999999997,
            1.7499999999999998,
            1.7999999999999996,
            1.8499999999999996,
            1.8999999999999997,
            1.9499999999999997
           ],
           "y": [
            2441.4939999999997,
            2091.0235000000002,
            1770.0760000000002,
            1478.6515000000004,
            1216.75,
            984.3715000000005,
            781.5160000000004,
            608.1835000000003,
            464.37400000000014,
            350.08750000000015,
            265.32400000000024,
            210.08350000000013,
            184.36600000000004,
            188.1715,
            221.49999999999983,
            284.35149999999965,
            376.7259999999996,
            498.62349999999986,
            650.0439999999992,
            830.987499999999,
            1041.453999999999,
            1281.443499999999,
            1550.9559999999983,
            1849.9914999999983,
            2178.5499999999984,
            2536.6314999999986,
            2924.2359999999985,
            3341.363499999997,
            3788.013999999997,
            4264.187499999997,
            4769.8839999999955,
            5305.103499999996,
            5869.845999999996,
            6464.111499999997
           ]
          },
          {
           "type": "scatter",
           "x": [
            1.2499999999999998
           ],
           "y": [
            830.987499999999
           ]
          }
         ],
         "name": "1.25",
         "traces": [
          0,
          1,
          2,
          3
         ]
        },
        {
         "data": [
          {
           "type": "scatter",
           "x": [
            35,
            43,
            49,
            58,
            63,
            65,
            78,
            80,
            120,
            123
           ],
           "y": [
            30,
            52,
            49,
            64,
            62,
            48,
            104,
            63,
            103,
            100
           ]
          },
          {
           "type": "scatter",
           "x": [
            35,
            43,
            49,
            58,
            63,
            65,
            78,
            80,
            120,
            123
           ],
           "y": [
            45.49999999999999,
            55.89999999999999,
            63.69999999999999,
            75.39999999999999,
            81.89999999999999,
            84.49999999999999,
            101.39999999999999,
            103.99999999999999,
            155.99999999999997,
            159.89999999999998
           ]
          },
          {
           "type": "scatter",
           "x": [
            0.3,
            0.35,
            0.39999999999999997,
            0.44999999999999996,
            0.49999999999999994,
            0.5499999999999999,
            0.5999999999999999,
            0.6499999999999999,
            0.7,
            0.7499999999999999,
            0.7999999999999998,
            0.8499999999999999,
            0.8999999999999999,
            0.95,
            0.9999999999999998,
            1.0499999999999998,
            1.0999999999999999,
            1.15,
            1.1999999999999997,
            1.2499999999999998,
            1.2999999999999998,
            1.3499999999999999,
            1.3999999999999997,
            1.4499999999999997,
            1.4999999999999998,
            1.5499999999999998,
            1.5999999999999999,
            1.6499999999999997,
            1.6999999999999997,
            1.7499999999999998,
            1.7999999999999996,
            1.8499999999999996,
            1.8999999999999997,
            1.9499999999999997
           ],
           "y": [
            2441.4939999999997,
            2091.0235000000002,
            1770.0760000000002,
            1478.6515000000004,
            1216.75,
            984.3715000000005,
            781.5160000000004,
            608.1835000000003,
            464.37400000000014,
            350.08750000000015,
            265.32400000000024,
            210.08350000000013,
            184.36600000000004,
            188.1715,
            221.49999999999983,
            284.35149999999965,
            376.7259999999996,
            498.62349999999986,
            650.0439999999992,
            830.987499999999,
            1041.453999999999,
            1281.443499999999,
            1550.9559999999983,
            1849.9914999999983,
            2178.5499999999984,
            2536.6314999999986,
            2924.2359999999985,
            3341.363499999997,
            3788.013999999997,
            4264.187499999997,
            4769.8839999999955,
            5305.103499999996,
            5869.845999999996,
            6464.111499999997
           ]
          },
          {
           "type": "scatter",
           "x": [
            1.2999999999999998
           ],
           "y": [
            1041.453999999999
           ]
          }
         ],
         "name": "1.30",
         "traces": [
          0,
          1,
          2,
          3
         ]
        },
        {
         "data": [
          {
           "type": "scatter",
           "x": [
            35,
            43,
            49,
            58,
            63,
            65,
            78,
            80,
            120,
            123
           ],
           "y": [
            30,
            52,
            49,
            64,
            62,
            48,
            104,
            63,
            103,
            100
           ]
          },
          {
           "type": "scatter",
           "x": [
            35,
            43,
            49,
            58,
            63,
            65,
            78,
            80,
            120,
            123
           ],
           "y": [
            47.24999999999999,
            58.05,
            66.14999999999999,
            78.3,
            85.05,
            87.74999999999999,
            105.29999999999998,
            107.99999999999999,
            161.99999999999997,
            166.04999999999998
           ]
          },
          {
           "type": "scatter",
           "x": [
            0.3,
            0.35,
            0.39999999999999997,
            0.44999999999999996,
            0.49999999999999994,
            0.5499999999999999,
            0.5999999999999999,
            0.6499999999999999,
            0.7,
            0.7499999999999999,
            0.7999999999999998,
            0.8499999999999999,
            0.8999999999999999,
            0.95,
            0.9999999999999998,
            1.0499999999999998,
            1.0999999999999999,
            1.15,
            1.1999999999999997,
            1.2499999999999998,
            1.2999999999999998,
            1.3499999999999999,
            1.3999999999999997,
            1.4499999999999997,
            1.4999999999999998,
            1.5499999999999998,
            1.5999999999999999,
            1.6499999999999997,
            1.6999999999999997,
            1.7499999999999998,
            1.7999999999999996,
            1.8499999999999996,
            1.8999999999999997,
            1.9499999999999997
           ],
           "y": [
            2441.4939999999997,
            2091.0235000000002,
            1770.0760000000002,
            1478.6515000000004,
            1216.75,
            984.3715000000005,
            781.5160000000004,
            608.1835000000003,
            464.37400000000014,
            350.08750000000015,
            265.32400000000024,
            210.08350000000013,
            184.36600000000004,
            188.1715,
            221.49999999999983,
            284.35149999999965,
            376.7259999999996,
            498.62349999999986,
            650.0439999999992,
            830.987499999999,
            1041.453999999999,
            1281.443499999999,
            1550.9559999999983,
            1849.9914999999983,
            2178.5499999999984,
            2536.6314999999986,
            2924.2359999999985,
            3341.363499999997,
            3788.013999999997,
            4264.187499999997,
            4769.8839999999955,
            5305.103499999996,
            5869.845999999996,
            6464.111499999997
           ]
          },
          {
           "type": "scatter",
           "x": [
            1.3499999999999999
           ],
           "y": [
            1281.443499999999
           ]
          }
         ],
         "name": "1.35",
         "traces": [
          0,
          1,
          2,
          3
         ]
        },
        {
         "data": [
          {
           "type": "scatter",
           "x": [
            35,
            43,
            49,
            58,
            63,
            65,
            78,
            80,
            120,
            123
           ],
           "y": [
            30,
            52,
            49,
            64,
            62,
            48,
            104,
            63,
            103,
            100
           ]
          },
          {
           "type": "scatter",
           "x": [
            35,
            43,
            49,
            58,
            63,
            65,
            78,
            80,
            120,
            123
           ],
           "y": [
            48.999999999999986,
            60.19999999999999,
            68.59999999999998,
            81.19999999999999,
            88.19999999999997,
            90.99999999999999,
            109.19999999999997,
            111.99999999999997,
            167.99999999999997,
            172.19999999999996
           ]
          },
          {
           "type": "scatter",
           "x": [
            0.3,
            0.35,
            0.39999999999999997,
            0.44999999999999996,
            0.49999999999999994,
            0.5499999999999999,
            0.5999999999999999,
            0.6499999999999999,
            0.7,
            0.7499999999999999,
            0.7999999999999998,
            0.8499999999999999,
            0.8999999999999999,
            0.95,
            0.9999999999999998,
            1.0499999999999998,
            1.0999999999999999,
            1.15,
            1.1999999999999997,
            1.2499999999999998,
            1.2999999999999998,
            1.3499999999999999,
            1.3999999999999997,
            1.4499999999999997,
            1.4999999999999998,
            1.5499999999999998,
            1.5999999999999999,
            1.6499999999999997,
            1.6999999999999997,
            1.7499999999999998,
            1.7999999999999996,
            1.8499999999999996,
            1.8999999999999997,
            1.9499999999999997
           ],
           "y": [
            2441.4939999999997,
            2091.0235000000002,
            1770.0760000000002,
            1478.6515000000004,
            1216.75,
            984.3715000000005,
            781.5160000000004,
            608.1835000000003,
            464.37400000000014,
            350.08750000000015,
            265.32400000000024,
            210.08350000000013,
            184.36600000000004,
            188.1715,
            221.49999999999983,
            284.35149999999965,
            376.7259999999996,
            498.62349999999986,
            650.0439999999992,
            830.987499999999,
            1041.453999999999,
            1281.443499999999,
            1550.9559999999983,
            1849.9914999999983,
            2178.5499999999984,
            2536.6314999999986,
            2924.2359999999985,
            3341.363499999997,
            3788.013999999997,
            4264.187499999997,
            4769.8839999999955,
            5305.103499999996,
            5869.845999999996,
            6464.111499999997
           ]
          },
          {
           "type": "scatter",
           "x": [
            1.3999999999999997
           ],
           "y": [
            1550.9559999999983
           ]
          }
         ],
         "name": "1.40",
         "traces": [
          0,
          1,
          2,
          3
         ]
        },
        {
         "data": [
          {
           "type": "scatter",
           "x": [
            35,
            43,
            49,
            58,
            63,
            65,
            78,
            80,
            120,
            123
           ],
           "y": [
            30,
            52,
            49,
            64,
            62,
            48,
            104,
            63,
            103,
            100
           ]
          },
          {
           "type": "scatter",
           "x": [
            35,
            43,
            49,
            58,
            63,
            65,
            78,
            80,
            120,
            123
           ],
           "y": [
            50.74999999999999,
            62.34999999999999,
            71.04999999999998,
            84.09999999999998,
            91.34999999999998,
            94.24999999999999,
            113.09999999999998,
            115.99999999999997,
            173.99999999999997,
            178.34999999999997
           ]
          },
          {
           "type": "scatter",
           "x": [
            0.3,
            0.35,
            0.39999999999999997,
            0.44999999999999996,
            0.49999999999999994,
            0.5499999999999999,
            0.5999999999999999,
            0.6499999999999999,
            0.7,
            0.7499999999999999,
            0.7999999999999998,
            0.8499999999999999,
            0.8999999999999999,
            0.95,
            0.9999999999999998,
            1.0499999999999998,
            1.0999999999999999,
            1.15,
            1.1999999999999997,
            1.2499999999999998,
            1.2999999999999998,
            1.3499999999999999,
            1.3999999999999997,
            1.4499999999999997,
            1.4999999999999998,
            1.5499999999999998,
            1.5999999999999999,
            1.6499999999999997,
            1.6999999999999997,
            1.7499999999999998,
            1.7999999999999996,
            1.8499999999999996,
            1.8999999999999997,
            1.9499999999999997
           ],
           "y": [
            2441.4939999999997,
            2091.0235000000002,
            1770.0760000000002,
            1478.6515000000004,
            1216.75,
            984.3715000000005,
            781.5160000000004,
            608.1835000000003,
            464.37400000000014,
            350.08750000000015,
            265.32400000000024,
            210.08350000000013,
            184.36600000000004,
            188.1715,
            221.49999999999983,
            284.35149999999965,
            376.7259999999996,
            498.62349999999986,
            650.0439999999992,
            830.987499999999,
            1041.453999999999,
            1281.443499999999,
            1550.9559999999983,
            1849.9914999999983,
            2178.5499999999984,
            2536.6314999999986,
            2924.2359999999985,
            3341.363499999997,
            3788.013999999997,
            4264.187499999997,
            4769.8839999999955,
            5305.103499999996,
            5869.845999999996,
            6464.111499999997
           ]
          },
          {
           "type": "scatter",
           "x": [
            1.4499999999999997
           ],
           "y": [
            1849.9914999999983
           ]
          }
         ],
         "name": "1.45",
         "traces": [
          0,
          1,
          2,
          3
         ]
        },
        {
         "data": [
          {
           "type": "scatter",
           "x": [
            35,
            43,
            49,
            58,
            63,
            65,
            78,
            80,
            120,
            123
           ],
           "y": [
            30,
            52,
            49,
            64,
            62,
            48,
            104,
            63,
            103,
            100
           ]
          },
          {
           "type": "scatter",
           "x": [
            35,
            43,
            49,
            58,
            63,
            65,
            78,
            80,
            120,
            123
           ],
           "y": [
            52.49999999999999,
            64.49999999999999,
            73.49999999999999,
            86.99999999999999,
            94.49999999999999,
            97.49999999999999,
            116.99999999999999,
            119.99999999999999,
            179.99999999999997,
            184.49999999999997
           ]
          },
          {
           "type": "scatter",
           "x": [
            0.3,
            0.35,
            0.39999999999999997,
            0.44999999999999996,
            0.49999999999999994,
            0.5499999999999999,
            0.5999999999999999,
            0.6499999999999999,
            0.7,
            0.7499999999999999,
            0.7999999999999998,
            0.8499999999999999,
            0.8999999999999999,
            0.95,
            0.9999999999999998,
            1.0499999999999998,
            1.0999999999999999,
            1.15,
            1.1999999999999997,
            1.2499999999999998,
            1.2999999999999998,
            1.3499999999999999,
            1.3999999999999997,
            1.4499999999999997,
            1.4999999999999998,
            1.5499999999999998,
            1.5999999999999999,
            1.6499999999999997,
            1.6999999999999997,
            1.7499999999999998,
            1.7999999999999996,
            1.8499999999999996,
            1.8999999999999997,
            1.9499999999999997
           ],
           "y": [
            2441.4939999999997,
            2091.0235000000002,
            1770.0760000000002,
            1478.6515000000004,
            1216.75,
            984.3715000000005,
            781.5160000000004,
            608.1835000000003,
            464.37400000000014,
            350.08750000000015,
            265.32400000000024,
            210.08350000000013,
            184.36600000000004,
            188.1715,
            221.49999999999983,
            284.35149999999965,
            376.7259999999996,
            498.62349999999986,
            650.0439999999992,
            830.987499999999,
            1041.453999999999,
            1281.443499999999,
            1550.9559999999983,
            1849.9914999999983,
            2178.5499999999984,
            2536.6314999999986,
            2924.2359999999985,
            3341.363499999997,
            3788.013999999997,
            4264.187499999997,
            4769.8839999999955,
            5305.103499999996,
            5869.845999999996,
            6464.111499999997
           ]
          },
          {
           "type": "scatter",
           "x": [
            1.4999999999999998
           ],
           "y": [
            2178.5499999999984
           ]
          }
         ],
         "name": "1.50",
         "traces": [
          0,
          1,
          2,
          3
         ]
        },
        {
         "data": [
          {
           "type": "scatter",
           "x": [
            35,
            43,
            49,
            58,
            63,
            65,
            78,
            80,
            120,
            123
           ],
           "y": [
            30,
            52,
            49,
            64,
            62,
            48,
            104,
            63,
            103,
            100
           ]
          },
          {
           "type": "scatter",
           "x": [
            35,
            43,
            49,
            58,
            63,
            65,
            78,
            80,
            120,
            123
           ],
           "y": [
            54.24999999999999,
            66.64999999999999,
            75.94999999999999,
            89.89999999999999,
            97.64999999999999,
            100.74999999999999,
            120.89999999999999,
            123.99999999999999,
            185.99999999999997,
            190.64999999999998
           ]
          },
          {
           "type": "scatter",
           "x": [
            0.3,
            0.35,
            0.39999999999999997,
            0.44999999999999996,
            0.49999999999999994,
            0.5499999999999999,
            0.5999999999999999,
            0.6499999999999999,
            0.7,
            0.7499999999999999,
            0.7999999999999998,
            0.8499999999999999,
            0.8999999999999999,
            0.95,
            0.9999999999999998,
            1.0499999999999998,
            1.0999999999999999,
            1.15,
            1.1999999999999997,
            1.2499999999999998,
            1.2999999999999998,
            1.3499999999999999,
            1.3999999999999997,
            1.4499999999999997,
            1.4999999999999998,
            1.5499999999999998,
            1.5999999999999999,
            1.6499999999999997,
            1.6999999999999997,
            1.7499999999999998,
            1.7999999999999996,
            1.8499999999999996,
            1.8999999999999997,
            1.9499999999999997
           ],
           "y": [
            2441.4939999999997,
            2091.0235000000002,
            1770.0760000000002,
            1478.6515000000004,
            1216.75,
            984.3715000000005,
            781.5160000000004,
            608.1835000000003,
            464.37400000000014,
            350.08750000000015,
            265.32400000000024,
            210.08350000000013,
            184.36600000000004,
            188.1715,
            221.49999999999983,
            284.35149999999965,
            376.7259999999996,
            498.62349999999986,
            650.0439999999992,
            830.987499999999,
            1041.453999999999,
            1281.443499999999,
            1550.9559999999983,
            1849.9914999999983,
            2178.5499999999984,
            2536.6314999999986,
            2924.2359999999985,
            3341.363499999997,
            3788.013999999997,
            4264.187499999997,
            4769.8839999999955,
            5305.103499999996,
            5869.845999999996,
            6464.111499999997
           ]
          },
          {
           "type": "scatter",
           "x": [
            1.5499999999999998
           ],
           "y": [
            2536.6314999999986
           ]
          }
         ],
         "name": "1.55",
         "traces": [
          0,
          1,
          2,
          3
         ]
        },
        {
         "data": [
          {
           "type": "scatter",
           "x": [
            35,
            43,
            49,
            58,
            63,
            65,
            78,
            80,
            120,
            123
           ],
           "y": [
            30,
            52,
            49,
            64,
            62,
            48,
            104,
            63,
            103,
            100
           ]
          },
          {
           "type": "scatter",
           "x": [
            35,
            43,
            49,
            58,
            63,
            65,
            78,
            80,
            120,
            123
           ],
           "y": [
            55.99999999999999,
            68.8,
            78.39999999999999,
            92.8,
            100.8,
            103.99999999999999,
            124.79999999999998,
            127.99999999999999,
            191.99999999999997,
            196.79999999999998
           ]
          },
          {
           "type": "scatter",
           "x": [
            0.3,
            0.35,
            0.39999999999999997,
            0.44999999999999996,
            0.49999999999999994,
            0.5499999999999999,
            0.5999999999999999,
            0.6499999999999999,
            0.7,
            0.7499999999999999,
            0.7999999999999998,
            0.8499999999999999,
            0.8999999999999999,
            0.95,
            0.9999999999999998,
            1.0499999999999998,
            1.0999999999999999,
            1.15,
            1.1999999999999997,
            1.2499999999999998,
            1.2999999999999998,
            1.3499999999999999,
            1.3999999999999997,
            1.4499999999999997,
            1.4999999999999998,
            1.5499999999999998,
            1.5999999999999999,
            1.6499999999999997,
            1.6999999999999997,
            1.7499999999999998,
            1.7999999999999996,
            1.8499999999999996,
            1.8999999999999997,
            1.9499999999999997
           ],
           "y": [
            2441.4939999999997,
            2091.0235000000002,
            1770.0760000000002,
            1478.6515000000004,
            1216.75,
            984.3715000000005,
            781.5160000000004,
            608.1835000000003,
            464.37400000000014,
            350.08750000000015,
            265.32400000000024,
            210.08350000000013,
            184.36600000000004,
            188.1715,
            221.49999999999983,
            284.35149999999965,
            376.7259999999996,
            498.62349999999986,
            650.0439999999992,
            830.987499999999,
            1041.453999999999,
            1281.443499999999,
            1550.9559999999983,
            1849.9914999999983,
            2178.5499999999984,
            2536.6314999999986,
            2924.2359999999985,
            3341.363499999997,
            3788.013999999997,
            4264.187499999997,
            4769.8839999999955,
            5305.103499999996,
            5869.845999999996,
            6464.111499999997
           ]
          },
          {
           "type": "scatter",
           "x": [
            1.5999999999999999
           ],
           "y": [
            2924.2359999999985
           ]
          }
         ],
         "name": "1.60",
         "traces": [
          0,
          1,
          2,
          3
         ]
        },
        {
         "data": [
          {
           "type": "scatter",
           "x": [
            35,
            43,
            49,
            58,
            63,
            65,
            78,
            80,
            120,
            123
           ],
           "y": [
            30,
            52,
            49,
            64,
            62,
            48,
            104,
            63,
            103,
            100
           ]
          },
          {
           "type": "scatter",
           "x": [
            35,
            43,
            49,
            58,
            63,
            65,
            78,
            80,
            120,
            123
           ],
           "y": [
            57.749999999999986,
            70.94999999999999,
            80.84999999999998,
            95.69999999999999,
            103.94999999999997,
            107.24999999999999,
            128.7,
            131.99999999999997,
            197.99999999999997,
            202.94999999999996
           ]
          },
          {
           "type": "scatter",
           "x": [
            0.3,
            0.35,
            0.39999999999999997,
            0.44999999999999996,
            0.49999999999999994,
            0.5499999999999999,
            0.5999999999999999,
            0.6499999999999999,
            0.7,
            0.7499999999999999,
            0.7999999999999998,
            0.8499999999999999,
            0.8999999999999999,
            0.95,
            0.9999999999999998,
            1.0499999999999998,
            1.0999999999999999,
            1.15,
            1.1999999999999997,
            1.2499999999999998,
            1.2999999999999998,
            1.3499999999999999,
            1.3999999999999997,
            1.4499999999999997,
            1.4999999999999998,
            1.5499999999999998,
            1.5999999999999999,
            1.6499999999999997,
            1.6999999999999997,
            1.7499999999999998,
            1.7999999999999996,
            1.8499999999999996,
            1.8999999999999997,
            1.9499999999999997
           ],
           "y": [
            2441.4939999999997,
            2091.0235000000002,
            1770.0760000000002,
            1478.6515000000004,
            1216.75,
            984.3715000000005,
            781.5160000000004,
            608.1835000000003,
            464.37400000000014,
            350.08750000000015,
            265.32400000000024,
            210.08350000000013,
            184.36600000000004,
            188.1715,
            221.49999999999983,
            284.35149999999965,
            376.7259999999996,
            498.62349999999986,
            650.0439999999992,
            830.987499999999,
            1041.453999999999,
            1281.443499999999,
            1550.9559999999983,
            1849.9914999999983,
            2178.5499999999984,
            2536.6314999999986,
            2924.2359999999985,
            3341.363499999997,
            3788.013999999997,
            4264.187499999997,
            4769.8839999999955,
            5305.103499999996,
            5869.845999999996,
            6464.111499999997
           ]
          },
          {
           "type": "scatter",
           "x": [
            1.6499999999999997
           ],
           "y": [
            3341.363499999997
           ]
          }
         ],
         "name": "1.65",
         "traces": [
          0,
          1,
          2,
          3
         ]
        },
        {
         "data": [
          {
           "type": "scatter",
           "x": [
            35,
            43,
            49,
            58,
            63,
            65,
            78,
            80,
            120,
            123
           ],
           "y": [
            30,
            52,
            49,
            64,
            62,
            48,
            104,
            63,
            103,
            100
           ]
          },
          {
           "type": "scatter",
           "x": [
            35,
            43,
            49,
            58,
            63,
            65,
            78,
            80,
            120,
            123
           ],
           "y": [
            59.49999999999999,
            73.1,
            83.29999999999998,
            98.59999999999998,
            107.09999999999998,
            110.49999999999999,
            132.59999999999997,
            135.99999999999997,
            203.99999999999997,
            209.09999999999997
           ]
          },
          {
           "type": "scatter",
           "x": [
            0.3,
            0.35,
            0.39999999999999997,
            0.44999999999999996,
            0.49999999999999994,
            0.5499999999999999,
            0.5999999999999999,
            0.6499999999999999,
            0.7,
            0.7499999999999999,
            0.7999999999999998,
            0.8499999999999999,
            0.8999999999999999,
            0.95,
            0.9999999999999998,
            1.0499999999999998,
            1.0999999999999999,
            1.15,
            1.1999999999999997,
            1.2499999999999998,
            1.2999999999999998,
            1.3499999999999999,
            1.3999999999999997,
            1.4499999999999997,
            1.4999999999999998,
            1.5499999999999998,
            1.5999999999999999,
            1.6499999999999997,
            1.6999999999999997,
            1.7499999999999998,
            1.7999999999999996,
            1.8499999999999996,
            1.8999999999999997,
            1.9499999999999997
           ],
           "y": [
            2441.4939999999997,
            2091.0235000000002,
            1770.0760000000002,
            1478.6515000000004,
            1216.75,
            984.3715000000005,
            781.5160000000004,
            608.1835000000003,
            464.37400000000014,
            350.08750000000015,
            265.32400000000024,
            210.08350000000013,
            184.36600000000004,
            188.1715,
            221.49999999999983,
            284.35149999999965,
            376.7259999999996,
            498.62349999999986,
            650.0439999999992,
            830.987499999999,
            1041.453999999999,
            1281.443499999999,
            1550.9559999999983,
            1849.9914999999983,
            2178.5499999999984,
            2536.6314999999986,
            2924.2359999999985,
            3341.363499999997,
            3788.013999999997,
            4264.187499999997,
            4769.8839999999955,
            5305.103499999996,
            5869.845999999996,
            6464.111499999997
           ]
          },
          {
           "type": "scatter",
           "x": [
            1.6999999999999997
           ],
           "y": [
            3788.013999999997
           ]
          }
         ],
         "name": "1.70",
         "traces": [
          0,
          1,
          2,
          3
         ]
        },
        {
         "data": [
          {
           "type": "scatter",
           "x": [
            35,
            43,
            49,
            58,
            63,
            65,
            78,
            80,
            120,
            123
           ],
           "y": [
            30,
            52,
            49,
            64,
            62,
            48,
            104,
            63,
            103,
            100
           ]
          },
          {
           "type": "scatter",
           "x": [
            35,
            43,
            49,
            58,
            63,
            65,
            78,
            80,
            120,
            123
           ],
           "y": [
            61.24999999999999,
            75.24999999999999,
            85.74999999999999,
            101.49999999999999,
            110.24999999999999,
            113.74999999999999,
            136.49999999999997,
            139.99999999999997,
            209.99999999999997,
            215.24999999999997
           ]
          },
          {
           "type": "scatter",
           "x": [
            0.3,
            0.35,
            0.39999999999999997,
            0.44999999999999996,
            0.49999999999999994,
            0.5499999999999999,
            0.5999999999999999,
            0.6499999999999999,
            0.7,
            0.7499999999999999,
            0.7999999999999998,
            0.8499999999999999,
            0.8999999999999999,
            0.95,
            0.9999999999999998,
            1.0499999999999998,
            1.0999999999999999,
            1.15,
            1.1999999999999997,
            1.2499999999999998,
            1.2999999999999998,
            1.3499999999999999,
            1.3999999999999997,
            1.4499999999999997,
            1.4999999999999998,
            1.5499999999999998,
            1.5999999999999999,
            1.6499999999999997,
            1.6999999999999997,
            1.7499999999999998,
            1.7999999999999996,
            1.8499999999999996,
            1.8999999999999997,
            1.9499999999999997
           ],
           "y": [
            2441.4939999999997,
            2091.0235000000002,
            1770.0760000000002,
            1478.6515000000004,
            1216.75,
            984.3715000000005,
            781.5160000000004,
            608.1835000000003,
            464.37400000000014,
            350.08750000000015,
            265.32400000000024,
            210.08350000000013,
            184.36600000000004,
            188.1715,
            221.49999999999983,
            284.35149999999965,
            376.7259999999996,
            498.62349999999986,
            650.0439999999992,
            830.987499999999,
            1041.453999999999,
            1281.443499999999,
            1550.9559999999983,
            1849.9914999999983,
            2178.5499999999984,
            2536.6314999999986,
            2924.2359999999985,
            3341.363499999997,
            3788.013999999997,
            4264.187499999997,
            4769.8839999999955,
            5305.103499999996,
            5869.845999999996,
            6464.111499999997
           ]
          },
          {
           "type": "scatter",
           "x": [
            1.7499999999999998
           ],
           "y": [
            4264.187499999997
           ]
          }
         ],
         "name": "1.75",
         "traces": [
          0,
          1,
          2,
          3
         ]
        },
        {
         "data": [
          {
           "type": "scatter",
           "x": [
            35,
            43,
            49,
            58,
            63,
            65,
            78,
            80,
            120,
            123
           ],
           "y": [
            30,
            52,
            49,
            64,
            62,
            48,
            104,
            63,
            103,
            100
           ]
          },
          {
           "type": "scatter",
           "x": [
            35,
            43,
            49,
            58,
            63,
            65,
            78,
            80,
            120,
            123
           ],
           "y": [
            62.999999999999986,
            77.39999999999998,
            88.19999999999997,
            104.39999999999998,
            113.39999999999998,
            116.99999999999997,
            140.39999999999998,
            143.99999999999997,
            215.99999999999994,
            221.39999999999995
           ]
          },
          {
           "type": "scatter",
           "x": [
            0.3,
            0.35,
            0.39999999999999997,
            0.44999999999999996,
            0.49999999999999994,
            0.5499999999999999,
            0.5999999999999999,
            0.6499999999999999,
            0.7,
            0.7499999999999999,
            0.7999999999999998,
            0.8499999999999999,
            0.8999999999999999,
            0.95,
            0.9999999999999998,
            1.0499999999999998,
            1.0999999999999999,
            1.15,
            1.1999999999999997,
            1.2499999999999998,
            1.2999999999999998,
            1.3499999999999999,
            1.3999999999999997,
            1.4499999999999997,
            1.4999999999999998,
            1.5499999999999998,
            1.5999999999999999,
            1.6499999999999997,
            1.6999999999999997,
            1.7499999999999998,
            1.7999999999999996,
            1.8499999999999996,
            1.8999999999999997,
            1.9499999999999997
           ],
           "y": [
            2441.4939999999997,
            2091.0235000000002,
            1770.0760000000002,
            1478.6515000000004,
            1216.75,
            984.3715000000005,
            781.5160000000004,
            608.1835000000003,
            464.37400000000014,
            350.08750000000015,
            265.32400000000024,
            210.08350000000013,
            184.36600000000004,
            188.1715,
            221.49999999999983,
            284.35149999999965,
            376.7259999999996,
            498.62349999999986,
            650.0439999999992,
            830.987499999999,
            1041.453999999999,
            1281.443499999999,
            1550.9559999999983,
            1849.9914999999983,
            2178.5499999999984,
            2536.6314999999986,
            2924.2359999999985,
            3341.363499999997,
            3788.013999999997,
            4264.187499999997,
            4769.8839999999955,
            5305.103499999996,
            5869.845999999996,
            6464.111499999997
           ]
          },
          {
           "type": "scatter",
           "x": [
            1.7999999999999996
           ],
           "y": [
            4769.8839999999955
           ]
          }
         ],
         "name": "1.80",
         "traces": [
          0,
          1,
          2,
          3
         ]
        },
        {
         "data": [
          {
           "type": "scatter",
           "x": [
            35,
            43,
            49,
            58,
            63,
            65,
            78,
            80,
            120,
            123
           ],
           "y": [
            30,
            52,
            49,
            64,
            62,
            48,
            104,
            63,
            103,
            100
           ]
          },
          {
           "type": "scatter",
           "x": [
            35,
            43,
            49,
            58,
            63,
            65,
            78,
            80,
            120,
            123
           ],
           "y": [
            64.74999999999999,
            79.54999999999998,
            90.64999999999998,
            107.29999999999998,
            116.54999999999998,
            120.24999999999997,
            144.29999999999998,
            147.99999999999997,
            221.99999999999994,
            227.54999999999995
           ]
          },
          {
           "type": "scatter",
           "x": [
            0.3,
            0.35,
            0.39999999999999997,
            0.44999999999999996,
            0.49999999999999994,
            0.5499999999999999,
            0.5999999999999999,
            0.6499999999999999,
            0.7,
            0.7499999999999999,
            0.7999999999999998,
            0.8499999999999999,
            0.8999999999999999,
            0.95,
            0.9999999999999998,
            1.0499999999999998,
            1.0999999999999999,
            1.15,
            1.1999999999999997,
            1.2499999999999998,
            1.2999999999999998,
            1.3499999999999999,
            1.3999999999999997,
            1.4499999999999997,
            1.4999999999999998,
            1.5499999999999998,
            1.5999999999999999,
            1.6499999999999997,
            1.6999999999999997,
            1.7499999999999998,
            1.7999999999999996,
            1.8499999999999996,
            1.8999999999999997,
            1.9499999999999997
           ],
           "y": [
            2441.4939999999997,
            2091.0235000000002,
            1770.0760000000002,
            1478.6515000000004,
            1216.75,
            984.3715000000005,
            781.5160000000004,
            608.1835000000003,
            464.37400000000014,
            350.08750000000015,
            265.32400000000024,
            210.08350000000013,
            184.36600000000004,
            188.1715,
            221.49999999999983,
            284.35149999999965,
            376.7259999999996,
            498.62349999999986,
            650.0439999999992,
            830.987499999999,
            1041.453999999999,
            1281.443499999999,
            1550.9559999999983,
            1849.9914999999983,
            2178.5499999999984,
            2536.6314999999986,
            2924.2359999999985,
            3341.363499999997,
            3788.013999999997,
            4264.187499999997,
            4769.8839999999955,
            5305.103499999996,
            5869.845999999996,
            6464.111499999997
           ]
          },
          {
           "type": "scatter",
           "x": [
            1.8499999999999996
           ],
           "y": [
            5305.103499999996
           ]
          }
         ],
         "name": "1.85",
         "traces": [
          0,
          1,
          2,
          3
         ]
        },
        {
         "data": [
          {
           "type": "scatter",
           "x": [
            35,
            43,
            49,
            58,
            63,
            65,
            78,
            80,
            120,
            123
           ],
           "y": [
            30,
            52,
            49,
            64,
            62,
            48,
            104,
            63,
            103,
            100
           ]
          },
          {
           "type": "scatter",
           "x": [
            35,
            43,
            49,
            58,
            63,
            65,
            78,
            80,
            120,
            123
           ],
           "y": [
            66.49999999999999,
            81.69999999999999,
            93.09999999999998,
            110.19999999999999,
            119.69999999999997,
            123.49999999999999,
            148.2,
            151.99999999999997,
            227.99999999999997,
            233.69999999999996
           ]
          },
          {
           "type": "scatter",
           "x": [
            0.3,
            0.35,
            0.39999999999999997,
            0.44999999999999996,
            0.49999999999999994,
            0.5499999999999999,
            0.5999999999999999,
            0.6499999999999999,
            0.7,
            0.7499999999999999,
            0.7999999999999998,
            0.8499999999999999,
            0.8999999999999999,
            0.95,
            0.9999999999999998,
            1.0499999999999998,
            1.0999999999999999,
            1.15,
            1.1999999999999997,
            1.2499999999999998,
            1.2999999999999998,
            1.3499999999999999,
            1.3999999999999997,
            1.4499999999999997,
            1.4999999999999998,
            1.5499999999999998,
            1.5999999999999999,
            1.6499999999999997,
            1.6999999999999997,
            1.7499999999999998,
            1.7999999999999996,
            1.8499999999999996,
            1.8999999999999997,
            1.9499999999999997
           ],
           "y": [
            2441.4939999999997,
            2091.0235000000002,
            1770.0760000000002,
            1478.6515000000004,
            1216.75,
            984.3715000000005,
            781.5160000000004,
            608.1835000000003,
            464.37400000000014,
            350.08750000000015,
            265.32400000000024,
            210.08350000000013,
            184.36600000000004,
            188.1715,
            221.49999999999983,
            284.35149999999965,
            376.7259999999996,
            498.62349999999986,
            650.0439999999992,
            830.987499999999,
            1041.453999999999,
            1281.443499999999,
            1550.9559999999983,
            1849.9914999999983,
            2178.5499999999984,
            2536.6314999999986,
            2924.2359999999985,
            3341.363499999997,
            3788.013999999997,
            4264.187499999997,
            4769.8839999999955,
            5305.103499999996,
            5869.845999999996,
            6464.111499999997
           ]
          },
          {
           "type": "scatter",
           "x": [
            1.8999999999999997
           ],
           "y": [
            5869.845999999996
           ]
          }
         ],
         "name": "1.90",
         "traces": [
          0,
          1,
          2,
          3
         ]
        },
        {
         "data": [
          {
           "type": "scatter",
           "x": [
            35,
            43,
            49,
            58,
            63,
            65,
            78,
            80,
            120,
            123
           ],
           "y": [
            30,
            52,
            49,
            64,
            62,
            48,
            104,
            63,
            103,
            100
           ]
          },
          {
           "type": "scatter",
           "x": [
            35,
            43,
            49,
            58,
            63,
            65,
            78,
            80,
            120,
            123
           ],
           "y": [
            68.24999999999999,
            83.85,
            95.54999999999998,
            113.09999999999998,
            122.84999999999998,
            126.74999999999999,
            152.09999999999997,
            155.99999999999997,
            233.99999999999997,
            239.84999999999997
           ]
          },
          {
           "type": "scatter",
           "x": [
            0.3,
            0.35,
            0.39999999999999997,
            0.44999999999999996,
            0.49999999999999994,
            0.5499999999999999,
            0.5999999999999999,
            0.6499999999999999,
            0.7,
            0.7499999999999999,
            0.7999999999999998,
            0.8499999999999999,
            0.8999999999999999,
            0.95,
            0.9999999999999998,
            1.0499999999999998,
            1.0999999999999999,
            1.15,
            1.1999999999999997,
            1.2499999999999998,
            1.2999999999999998,
            1.3499999999999999,
            1.3999999999999997,
            1.4499999999999997,
            1.4999999999999998,
            1.5499999999999998,
            1.5999999999999999,
            1.6499999999999997,
            1.6999999999999997,
            1.7499999999999998,
            1.7999999999999996,
            1.8499999999999996,
            1.8999999999999997,
            1.9499999999999997
           ],
           "y": [
            2441.4939999999997,
            2091.0235000000002,
            1770.0760000000002,
            1478.6515000000004,
            1216.75,
            984.3715000000005,
            781.5160000000004,
            608.1835000000003,
            464.37400000000014,
            350.08750000000015,
            265.32400000000024,
            210.08350000000013,
            184.36600000000004,
            188.1715,
            221.49999999999983,
            284.35149999999965,
            376.7259999999996,
            498.62349999999986,
            650.0439999999992,
            830.987499999999,
            1041.453999999999,
            1281.443499999999,
            1550.9559999999983,
            1849.9914999999983,
            2178.5499999999984,
            2536.6314999999986,
            2924.2359999999985,
            3341.363499999997,
            3788.013999999997,
            4264.187499999997,
            4769.8839999999955,
            5305.103499999996,
            5869.845999999996,
            6464.111499999997
           ]
          },
          {
           "type": "scatter",
           "x": [
            1.9499999999999997
           ],
           "y": [
            6464.111499999997
           ]
          }
         ],
         "name": "1.95",
         "traces": [
          0,
          1,
          2,
          3
         ]
        }
       ],
       "layout": {
        "annotations": [
         {
          "font": {
           "size": 16
          },
          "showarrow": false,
          "text": "Data & Fitted Line",
          "x": 0.225,
          "xanchor": "center",
          "xref": "paper",
          "y": 1,
          "yanchor": "bottom",
          "yref": "paper"
         },
         {
          "font": {
           "size": 16
          },
          "showarrow": false,
          "text": "Mean Squared Error",
          "x": 0.775,
          "xanchor": "center",
          "xref": "paper",
          "y": 1,
          "yanchor": "bottom",
          "yref": "paper"
         }
        ],
        "height": 475,
        "sliders": [
         {
          "currentvalue": {
           "font": {
            "size": 16
           },
           "prefix": "slope: ",
           "visible": true
          },
          "pad": {
           "b": 10,
           "t": 30
          },
          "steps": [
           {
            "args": [
             [
              "0.30"
             ],
             {
              "frame": {
               "duration": 0,
               "easing": "linear",
               "redraw": false
              },
              "transition": {
               "duration": 0,
               "easing": "linear"
              }
             }
            ],
            "label": "0.30",
            "method": "animate"
           },
           {
            "args": [
             [
              "0.35"
             ],
             {
              "frame": {
               "duration": 0,
               "easing": "linear",
               "redraw": false
              },
              "transition": {
               "duration": 0,
               "easing": "linear"
              }
             }
            ],
            "label": "0.35",
            "method": "animate"
           },
           {
            "args": [
             [
              "0.40"
             ],
             {
              "frame": {
               "duration": 0,
               "easing": "linear",
               "redraw": false
              },
              "transition": {
               "duration": 0,
               "easing": "linear"
              }
             }
            ],
            "label": "0.40",
            "method": "animate"
           },
           {
            "args": [
             [
              "0.45"
             ],
             {
              "frame": {
               "duration": 0,
               "easing": "linear",
               "redraw": false
              },
              "transition": {
               "duration": 0,
               "easing": "linear"
              }
             }
            ],
            "label": "0.45",
            "method": "animate"
           },
           {
            "args": [
             [
              "0.50"
             ],
             {
              "frame": {
               "duration": 0,
               "easing": "linear",
               "redraw": false
              },
              "transition": {
               "duration": 0,
               "easing": "linear"
              }
             }
            ],
            "label": "0.50",
            "method": "animate"
           },
           {
            "args": [
             [
              "0.55"
             ],
             {
              "frame": {
               "duration": 0,
               "easing": "linear",
               "redraw": false
              },
              "transition": {
               "duration": 0,
               "easing": "linear"
              }
             }
            ],
            "label": "0.55",
            "method": "animate"
           },
           {
            "args": [
             [
              "0.60"
             ],
             {
              "frame": {
               "duration": 0,
               "easing": "linear",
               "redraw": false
              },
              "transition": {
               "duration": 0,
               "easing": "linear"
              }
             }
            ],
            "label": "0.60",
            "method": "animate"
           },
           {
            "args": [
             [
              "0.65"
             ],
             {
              "frame": {
               "duration": 0,
               "easing": "linear",
               "redraw": false
              },
              "transition": {
               "duration": 0,
               "easing": "linear"
              }
             }
            ],
            "label": "0.65",
            "method": "animate"
           },
           {
            "args": [
             [
              "0.70"
             ],
             {
              "frame": {
               "duration": 0,
               "easing": "linear",
               "redraw": false
              },
              "transition": {
               "duration": 0,
               "easing": "linear"
              }
             }
            ],
            "label": "0.70",
            "method": "animate"
           },
           {
            "args": [
             [
              "0.75"
             ],
             {
              "frame": {
               "duration": 0,
               "easing": "linear",
               "redraw": false
              },
              "transition": {
               "duration": 0,
               "easing": "linear"
              }
             }
            ],
            "label": "0.75",
            "method": "animate"
           },
           {
            "args": [
             [
              "0.80"
             ],
             {
              "frame": {
               "duration": 0,
               "easing": "linear",
               "redraw": false
              },
              "transition": {
               "duration": 0,
               "easing": "linear"
              }
             }
            ],
            "label": "0.80",
            "method": "animate"
           },
           {
            "args": [
             [
              "0.85"
             ],
             {
              "frame": {
               "duration": 0,
               "easing": "linear",
               "redraw": false
              },
              "transition": {
               "duration": 0,
               "easing": "linear"
              }
             }
            ],
            "label": "0.85",
            "method": "animate"
           },
           {
            "args": [
             [
              "0.90"
             ],
             {
              "frame": {
               "duration": 0,
               "easing": "linear",
               "redraw": false
              },
              "transition": {
               "duration": 0,
               "easing": "linear"
              }
             }
            ],
            "label": "0.90",
            "method": "animate"
           },
           {
            "args": [
             [
              "0.95"
             ],
             {
              "frame": {
               "duration": 0,
               "easing": "linear",
               "redraw": false
              },
              "transition": {
               "duration": 0,
               "easing": "linear"
              }
             }
            ],
            "label": "0.95",
            "method": "animate"
           },
           {
            "args": [
             [
              "1.00"
             ],
             {
              "frame": {
               "duration": 0,
               "easing": "linear",
               "redraw": false
              },
              "transition": {
               "duration": 0,
               "easing": "linear"
              }
             }
            ],
            "label": "1.00",
            "method": "animate"
           },
           {
            "args": [
             [
              "1.05"
             ],
             {
              "frame": {
               "duration": 0,
               "easing": "linear",
               "redraw": false
              },
              "transition": {
               "duration": 0,
               "easing": "linear"
              }
             }
            ],
            "label": "1.05",
            "method": "animate"
           },
           {
            "args": [
             [
              "1.10"
             ],
             {
              "frame": {
               "duration": 0,
               "easing": "linear",
               "redraw": false
              },
              "transition": {
               "duration": 0,
               "easing": "linear"
              }
             }
            ],
            "label": "1.10",
            "method": "animate"
           },
           {
            "args": [
             [
              "1.15"
             ],
             {
              "frame": {
               "duration": 0,
               "easing": "linear",
               "redraw": false
              },
              "transition": {
               "duration": 0,
               "easing": "linear"
              }
             }
            ],
            "label": "1.15",
            "method": "animate"
           },
           {
            "args": [
             [
              "1.20"
             ],
             {
              "frame": {
               "duration": 0,
               "easing": "linear",
               "redraw": false
              },
              "transition": {
               "duration": 0,
               "easing": "linear"
              }
             }
            ],
            "label": "1.20",
            "method": "animate"
           },
           {
            "args": [
             [
              "1.25"
             ],
             {
              "frame": {
               "duration": 0,
               "easing": "linear",
               "redraw": false
              },
              "transition": {
               "duration": 0,
               "easing": "linear"
              }
             }
            ],
            "label": "1.25",
            "method": "animate"
           },
           {
            "args": [
             [
              "1.30"
             ],
             {
              "frame": {
               "duration": 0,
               "easing": "linear",
               "redraw": false
              },
              "transition": {
               "duration": 0,
               "easing": "linear"
              }
             }
            ],
            "label": "1.30",
            "method": "animate"
           },
           {
            "args": [
             [
              "1.35"
             ],
             {
              "frame": {
               "duration": 0,
               "easing": "linear",
               "redraw": false
              },
              "transition": {
               "duration": 0,
               "easing": "linear"
              }
             }
            ],
            "label": "1.35",
            "method": "animate"
           },
           {
            "args": [
             [
              "1.40"
             ],
             {
              "frame": {
               "duration": 0,
               "easing": "linear",
               "redraw": false
              },
              "transition": {
               "duration": 0,
               "easing": "linear"
              }
             }
            ],
            "label": "1.40",
            "method": "animate"
           },
           {
            "args": [
             [
              "1.45"
             ],
             {
              "frame": {
               "duration": 0,
               "easing": "linear",
               "redraw": false
              },
              "transition": {
               "duration": 0,
               "easing": "linear"
              }
             }
            ],
            "label": "1.45",
            "method": "animate"
           },
           {
            "args": [
             [
              "1.50"
             ],
             {
              "frame": {
               "duration": 0,
               "easing": "linear",
               "redraw": false
              },
              "transition": {
               "duration": 0,
               "easing": "linear"
              }
             }
            ],
            "label": "1.50",
            "method": "animate"
           },
           {
            "args": [
             [
              "1.55"
             ],
             {
              "frame": {
               "duration": 0,
               "easing": "linear",
               "redraw": false
              },
              "transition": {
               "duration": 0,
               "easing": "linear"
              }
             }
            ],
            "label": "1.55",
            "method": "animate"
           },
           {
            "args": [
             [
              "1.60"
             ],
             {
              "frame": {
               "duration": 0,
               "easing": "linear",
               "redraw": false
              },
              "transition": {
               "duration": 0,
               "easing": "linear"
              }
             }
            ],
            "label": "1.60",
            "method": "animate"
           },
           {
            "args": [
             [
              "1.65"
             ],
             {
              "frame": {
               "duration": 0,
               "easing": "linear",
               "redraw": false
              },
              "transition": {
               "duration": 0,
               "easing": "linear"
              }
             }
            ],
            "label": "1.65",
            "method": "animate"
           },
           {
            "args": [
             [
              "1.70"
             ],
             {
              "frame": {
               "duration": 0,
               "easing": "linear",
               "redraw": false
              },
              "transition": {
               "duration": 0,
               "easing": "linear"
              }
             }
            ],
            "label": "1.70",
            "method": "animate"
           },
           {
            "args": [
             [
              "1.75"
             ],
             {
              "frame": {
               "duration": 0,
               "easing": "linear",
               "redraw": false
              },
              "transition": {
               "duration": 0,
               "easing": "linear"
              }
             }
            ],
            "label": "1.75",
            "method": "animate"
           },
           {
            "args": [
             [
              "1.80"
             ],
             {
              "frame": {
               "duration": 0,
               "easing": "linear",
               "redraw": false
              },
              "transition": {
               "duration": 0,
               "easing": "linear"
              }
             }
            ],
            "label": "1.80",
            "method": "animate"
           },
           {
            "args": [
             [
              "1.85"
             ],
             {
              "frame": {
               "duration": 0,
               "easing": "linear",
               "redraw": false
              },
              "transition": {
               "duration": 0,
               "easing": "linear"
              }
             }
            ],
            "label": "1.85",
            "method": "animate"
           },
           {
            "args": [
             [
              "1.90"
             ],
             {
              "frame": {
               "duration": 0,
               "easing": "linear",
               "redraw": false
              },
              "transition": {
               "duration": 0,
               "easing": "linear"
              }
             }
            ],
            "label": "1.90",
            "method": "animate"
           },
           {
            "args": [
             [
              "1.95"
             ],
             {
              "frame": {
               "duration": 0,
               "easing": "linear",
               "redraw": false
              },
              "transition": {
               "duration": 0,
               "easing": "linear"
              }
             }
            ],
            "label": "1.95",
            "method": "animate"
           }
          ]
         }
        ],
        "template": {
         "data": {
          "bar": [
           {
            "error_x": {
             "color": "#2a3f5f"
            },
            "error_y": {
             "color": "#2a3f5f"
            },
            "marker": {
             "line": {
              "color": "#E5ECF6",
              "width": 0.5
             },
             "pattern": {
              "fillmode": "overlay",
              "size": 10,
              "solidity": 0.2
             }
            },
            "type": "bar"
           }
          ],
          "barpolar": [
           {
            "marker": {
             "line": {
              "color": "#E5ECF6",
              "width": 0.5
             },
             "pattern": {
              "fillmode": "overlay",
              "size": 10,
              "solidity": 0.2
             }
            },
            "type": "barpolar"
           }
          ],
          "carpet": [
           {
            "aaxis": {
             "endlinecolor": "#2a3f5f",
             "gridcolor": "white",
             "linecolor": "white",
             "minorgridcolor": "white",
             "startlinecolor": "#2a3f5f"
            },
            "baxis": {
             "endlinecolor": "#2a3f5f",
             "gridcolor": "white",
             "linecolor": "white",
             "minorgridcolor": "white",
             "startlinecolor": "#2a3f5f"
            },
            "type": "carpet"
           }
          ],
          "choropleth": [
           {
            "colorbar": {
             "outlinewidth": 0,
             "ticks": ""
            },
            "type": "choropleth"
           }
          ],
          "contour": [
           {
            "colorbar": {
             "outlinewidth": 0,
             "ticks": ""
            },
            "colorscale": [
             [
              0,
              "#0d0887"
             ],
             [
              0.1111111111111111,
              "#46039f"
             ],
             [
              0.2222222222222222,
              "#7201a8"
             ],
             [
              0.3333333333333333,
              "#9c179e"
             ],
             [
              0.4444444444444444,
              "#bd3786"
             ],
             [
              0.5555555555555556,
              "#d8576b"
             ],
             [
              0.6666666666666666,
              "#ed7953"
             ],
             [
              0.7777777777777778,
              "#fb9f3a"
             ],
             [
              0.8888888888888888,
              "#fdca26"
             ],
             [
              1,
              "#f0f921"
             ]
            ],
            "type": "contour"
           }
          ],
          "contourcarpet": [
           {
            "colorbar": {
             "outlinewidth": 0,
             "ticks": ""
            },
            "type": "contourcarpet"
           }
          ],
          "heatmap": [
           {
            "colorbar": {
             "outlinewidth": 0,
             "ticks": ""
            },
            "colorscale": [
             [
              0,
              "#0d0887"
             ],
             [
              0.1111111111111111,
              "#46039f"
             ],
             [
              0.2222222222222222,
              "#7201a8"
             ],
             [
              0.3333333333333333,
              "#9c179e"
             ],
             [
              0.4444444444444444,
              "#bd3786"
             ],
             [
              0.5555555555555556,
              "#d8576b"
             ],
             [
              0.6666666666666666,
              "#ed7953"
             ],
             [
              0.7777777777777778,
              "#fb9f3a"
             ],
             [
              0.8888888888888888,
              "#fdca26"
             ],
             [
              1,
              "#f0f921"
             ]
            ],
            "type": "heatmap"
           }
          ],
          "heatmapgl": [
           {
            "colorbar": {
             "outlinewidth": 0,
             "ticks": ""
            },
            "colorscale": [
             [
              0,
              "#0d0887"
             ],
             [
              0.1111111111111111,
              "#46039f"
             ],
             [
              0.2222222222222222,
              "#7201a8"
             ],
             [
              0.3333333333333333,
              "#9c179e"
             ],
             [
              0.4444444444444444,
              "#bd3786"
             ],
             [
              0.5555555555555556,
              "#d8576b"
             ],
             [
              0.6666666666666666,
              "#ed7953"
             ],
             [
              0.7777777777777778,
              "#fb9f3a"
             ],
             [
              0.8888888888888888,
              "#fdca26"
             ],
             [
              1,
              "#f0f921"
             ]
            ],
            "type": "heatmapgl"
           }
          ],
          "histogram": [
           {
            "marker": {
             "pattern": {
              "fillmode": "overlay",
              "size": 10,
              "solidity": 0.2
             }
            },
            "type": "histogram"
           }
          ],
          "histogram2d": [
           {
            "colorbar": {
             "outlinewidth": 0,
             "ticks": ""
            },
            "colorscale": [
             [
              0,
              "#0d0887"
             ],
             [
              0.1111111111111111,
              "#46039f"
             ],
             [
              0.2222222222222222,
              "#7201a8"
             ],
             [
              0.3333333333333333,
              "#9c179e"
             ],
             [
              0.4444444444444444,
              "#bd3786"
             ],
             [
              0.5555555555555556,
              "#d8576b"
             ],
             [
              0.6666666666666666,
              "#ed7953"
             ],
             [
              0.7777777777777778,
              "#fb9f3a"
             ],
             [
              0.8888888888888888,
              "#fdca26"
             ],
             [
              1,
              "#f0f921"
             ]
            ],
            "type": "histogram2d"
           }
          ],
          "histogram2dcontour": [
           {
            "colorbar": {
             "outlinewidth": 0,
             "ticks": ""
            },
            "colorscale": [
             [
              0,
              "#0d0887"
             ],
             [
              0.1111111111111111,
              "#46039f"
             ],
             [
              0.2222222222222222,
              "#7201a8"
             ],
             [
              0.3333333333333333,
              "#9c179e"
             ],
             [
              0.4444444444444444,
              "#bd3786"
             ],
             [
              0.5555555555555556,
              "#d8576b"
             ],
             [
              0.6666666666666666,
              "#ed7953"
             ],
             [
              0.7777777777777778,
              "#fb9f3a"
             ],
             [
              0.8888888888888888,
              "#fdca26"
             ],
             [
              1,
              "#f0f921"
             ]
            ],
            "type": "histogram2dcontour"
           }
          ],
          "mesh3d": [
           {
            "colorbar": {
             "outlinewidth": 0,
             "ticks": ""
            },
            "type": "mesh3d"
           }
          ],
          "parcoords": [
           {
            "line": {
             "colorbar": {
              "outlinewidth": 0,
              "ticks": ""
             }
            },
            "type": "parcoords"
           }
          ],
          "pie": [
           {
            "automargin": true,
            "type": "pie"
           }
          ],
          "scatter": [
           {
            "fillpattern": {
             "fillmode": "overlay",
             "size": 10,
             "solidity": 0.2
            },
            "type": "scatter"
           }
          ],
          "scatter3d": [
           {
            "line": {
             "colorbar": {
              "outlinewidth": 0,
              "ticks": ""
             }
            },
            "marker": {
             "colorbar": {
              "outlinewidth": 0,
              "ticks": ""
             }
            },
            "type": "scatter3d"
           }
          ],
          "scattercarpet": [
           {
            "marker": {
             "colorbar": {
              "outlinewidth": 0,
              "ticks": ""
             }
            },
            "type": "scattercarpet"
           }
          ],
          "scattergeo": [
           {
            "marker": {
             "colorbar": {
              "outlinewidth": 0,
              "ticks": ""
             }
            },
            "type": "scattergeo"
           }
          ],
          "scattergl": [
           {
            "marker": {
             "colorbar": {
              "outlinewidth": 0,
              "ticks": ""
             }
            },
            "type": "scattergl"
           }
          ],
          "scattermapbox": [
           {
            "marker": {
             "colorbar": {
              "outlinewidth": 0,
              "ticks": ""
             }
            },
            "type": "scattermapbox"
           }
          ],
          "scatterpolar": [
           {
            "marker": {
             "colorbar": {
              "outlinewidth": 0,
              "ticks": ""
             }
            },
            "type": "scatterpolar"
           }
          ],
          "scatterpolargl": [
           {
            "marker": {
             "colorbar": {
              "outlinewidth": 0,
              "ticks": ""
             }
            },
            "type": "scatterpolargl"
           }
          ],
          "scatterternary": [
           {
            "marker": {
             "colorbar": {
              "outlinewidth": 0,
              "ticks": ""
             }
            },
            "type": "scatterternary"
           }
          ],
          "surface": [
           {
            "colorbar": {
             "outlinewidth": 0,
             "ticks": ""
            },
            "colorscale": [
             [
              0,
              "#0d0887"
             ],
             [
              0.1111111111111111,
              "#46039f"
             ],
             [
              0.2222222222222222,
              "#7201a8"
             ],
             [
              0.3333333333333333,
              "#9c179e"
             ],
             [
              0.4444444444444444,
              "#bd3786"
             ],
             [
              0.5555555555555556,
              "#d8576b"
             ],
             [
              0.6666666666666666,
              "#ed7953"
             ],
             [
              0.7777777777777778,
              "#fb9f3a"
             ],
             [
              0.8888888888888888,
              "#fdca26"
             ],
             [
              1,
              "#f0f921"
             ]
            ],
            "type": "surface"
           }
          ],
          "table": [
           {
            "cells": {
             "fill": {
              "color": "#EBF0F8"
             },
             "line": {
              "color": "white"
             }
            },
            "header": {
             "fill": {
              "color": "#C8D4E3"
             },
             "line": {
              "color": "white"
             }
            },
            "type": "table"
           }
          ]
         },
         "layout": {
          "annotationdefaults": {
           "arrowcolor": "#2a3f5f",
           "arrowhead": 0,
           "arrowwidth": 1
          },
          "autotypenumbers": "strict",
          "coloraxis": {
           "colorbar": {
            "outlinewidth": 0,
            "ticks": ""
           }
          },
          "colorscale": {
           "diverging": [
            [
             0,
             "#8e0152"
            ],
            [
             0.1,
             "#c51b7d"
            ],
            [
             0.2,
             "#de77ae"
            ],
            [
             0.3,
             "#f1b6da"
            ],
            [
             0.4,
             "#fde0ef"
            ],
            [
             0.5,
             "#f7f7f7"
            ],
            [
             0.6,
             "#e6f5d0"
            ],
            [
             0.7,
             "#b8e186"
            ],
            [
             0.8,
             "#7fbc41"
            ],
            [
             0.9,
             "#4d9221"
            ],
            [
             1,
             "#276419"
            ]
           ],
           "sequential": [
            [
             0,
             "#0d0887"
            ],
            [
             0.1111111111111111,
             "#46039f"
            ],
            [
             0.2222222222222222,
             "#7201a8"
            ],
            [
             0.3333333333333333,
             "#9c179e"
            ],
            [
             0.4444444444444444,
             "#bd3786"
            ],
            [
             0.5555555555555556,
             "#d8576b"
            ],
            [
             0.6666666666666666,
             "#ed7953"
            ],
            [
             0.7777777777777778,
             "#fb9f3a"
            ],
            [
             0.8888888888888888,
             "#fdca26"
            ],
            [
             1,
             "#f0f921"
            ]
           ],
           "sequentialminus": [
            [
             0,
             "#0d0887"
            ],
            [
             0.1111111111111111,
             "#46039f"
            ],
            [
             0.2222222222222222,
             "#7201a8"
            ],
            [
             0.3333333333333333,
             "#9c179e"
            ],
            [
             0.4444444444444444,
             "#bd3786"
            ],
            [
             0.5555555555555556,
             "#d8576b"
            ],
            [
             0.6666666666666666,
             "#ed7953"
            ],
            [
             0.7777777777777778,
             "#fb9f3a"
            ],
            [
             0.8888888888888888,
             "#fdca26"
            ],
            [
             1,
             "#f0f921"
            ]
           ]
          },
          "colorway": [
           "#636efa",
           "#EF553B",
           "#00cc96",
           "#ab63fa",
           "#FFA15A",
           "#19d3f3",
           "#FF6692",
           "#B6E880",
           "#FF97FF",
           "#FECB52"
          ],
          "font": {
           "color": "#2a3f5f"
          },
          "geo": {
           "bgcolor": "white",
           "lakecolor": "white",
           "landcolor": "#E5ECF6",
           "showlakes": true,
           "showland": true,
           "subunitcolor": "white"
          },
          "hoverlabel": {
           "align": "left"
          },
          "hovermode": "closest",
          "mapbox": {
           "style": "light"
          },
          "paper_bgcolor": "white",
          "plot_bgcolor": "#E5ECF6",
          "polar": {
           "angularaxis": {
            "gridcolor": "white",
            "linecolor": "white",
            "ticks": ""
           },
           "bgcolor": "#E5ECF6",
           "radialaxis": {
            "gridcolor": "white",
            "linecolor": "white",
            "ticks": ""
           }
          },
          "scene": {
           "xaxis": {
            "backgroundcolor": "#E5ECF6",
            "gridcolor": "white",
            "gridwidth": 2,
            "linecolor": "white",
            "showbackground": true,
            "ticks": "",
            "zerolinecolor": "white"
           },
           "yaxis": {
            "backgroundcolor": "#E5ECF6",
            "gridcolor": "white",
            "gridwidth": 2,
            "linecolor": "white",
            "showbackground": true,
            "ticks": "",
            "zerolinecolor": "white"
           },
           "zaxis": {
            "backgroundcolor": "#E5ECF6",
            "gridcolor": "white",
            "gridwidth": 2,
            "linecolor": "white",
            "showbackground": true,
            "ticks": "",
            "zerolinecolor": "white"
           }
          },
          "shapedefaults": {
           "line": {
            "color": "#2a3f5f"
           }
          },
          "ternary": {
           "aaxis": {
            "gridcolor": "white",
            "linecolor": "white",
            "ticks": ""
           },
           "baxis": {
            "gridcolor": "white",
            "linecolor": "white",
            "ticks": ""
           },
           "bgcolor": "#E5ECF6",
           "caxis": {
            "gridcolor": "white",
            "linecolor": "white",
            "ticks": ""
           }
          },
          "title": {
           "x": 0.05
          },
          "xaxis": {
           "automargin": true,
           "gridcolor": "white",
           "linecolor": "white",
           "ticks": "",
           "title": {
            "standoff": 15
           },
           "zerolinecolor": "white",
           "zerolinewidth": 2
          },
          "yaxis": {
           "automargin": true,
           "gridcolor": "white",
           "linecolor": "white",
           "ticks": "",
           "title": {
            "standoff": 15
           },
           "zerolinecolor": "white",
           "zerolinewidth": 2
          }
         }
        },
        "width": 900,
        "xaxis": {
         "anchor": "y",
         "domain": [
          0,
          0.45
         ],
         "dtick": 20,
         "range": [
          10,
          130
         ],
         "tick0": 10,
         "title": {
          "standoff": 0,
          "text": "defense"
         }
        },
        "xaxis2": {
         "anchor": "y2",
         "domain": [
          0.55,
          1
         ],
         "dtick": 0.2,
         "range": [
          0.3,
          1.6
         ],
         "tick0": 0.3,
         "title": {
          "standoff": 0,
          "text": "slope"
         }
        },
        "yaxis": {
         "anchor": "x",
         "domain": [
          0,
          1
         ],
         "dtick": 20,
         "range": [
          10,
          130
         ],
         "tick0": 10,
         "title": {
          "standoff": 0,
          "text": "attack"
         }
        },
        "yaxis2": {
         "anchor": "x2",
         "domain": [
          0,
          1
         ],
         "range": [
          0,
          2500
         ],
         "title": {
          "standoff": 0,
          "text": "MSE"
         }
        }
       }
      }
     },
     "metadata": {},
     "output_type": "display_data"
    }
   ],
   "source": [
    "plot_grid_search(x,y,w_1,mean_squared_error)"
   ]
  },
  {
   "cell_type": "code",
   "execution_count": 22,
   "id": "55bf8680-b86c-4ea5-854b-24dbe54d51df",
   "metadata": {
    "tags": []
   },
   "outputs": [],
   "source": [
    "# def gradient(x,y,w):\n",
    "    # return (2 * x * (w * x - y)).mean()"
   ]
  },
  {
   "cell_type": "code",
   "execution_count": 16,
   "id": "a0f6b550-51ca-4024-abeb-d4abfa435c4a",
   "metadata": {
    "tags": []
   },
   "outputs": [
    {
     "data": {
      "text/plain": [
       "-3761.88"
      ]
     },
     "execution_count": 16,
     "metadata": {},
     "output_type": "execute_result"
    }
   ],
   "source": [
    "gradient(x,y,w=0.6)"
   ]
  },
  {
   "cell_type": "code",
   "execution_count": 17,
   "id": "cb11aaff-1613-4a95-95db-b37cbde38877",
   "metadata": {
    "tags": []
   },
   "outputs": [
    {
     "data": {
      "application/vnd.plotly.v1+json": {
       "config": {
        "plotlyServerURL": "https://plot.ly"
       },
       "data": [
        {
         "line": {
          "color": "#1ac584",
          "width": 3
         },
         "mode": "lines",
         "name": "MSE",
         "type": "scatter",
         "x": [
          0.3,
          0.35,
          0.39999999999999997,
          0.44999999999999996,
          0.49999999999999994,
          0.5499999999999999,
          0.5999999999999999,
          0.6499999999999999,
          0.7,
          0.7499999999999999,
          0.7999999999999998,
          0.8499999999999999,
          0.8999999999999999,
          0.95,
          0.9999999999999998,
          1.0499999999999998,
          1.0999999999999999,
          1.15,
          1.1999999999999997,
          1.2499999999999998,
          1.2999999999999998,
          1.3499999999999999,
          1.3999999999999997,
          1.4499999999999997,
          1.4999999999999998,
          1.5499999999999998,
          1.5999999999999999,
          1.6499999999999997,
          1.6999999999999997,
          1.7499999999999998,
          1.7999999999999996,
          1.8499999999999996,
          1.8999999999999997,
          1.9499999999999997
         ],
         "y": [
          2441.4939999999997,
          2091.0235000000002,
          1770.0760000000002,
          1478.6515000000004,
          1216.75,
          984.3715000000005,
          781.5160000000004,
          608.1835000000003,
          464.37400000000014,
          350.08750000000015,
          265.32400000000024,
          210.08350000000013,
          184.36600000000004,
          188.1715,
          221.49999999999983,
          284.35149999999965,
          376.7259999999996,
          498.62349999999986,
          650.0439999999992,
          830.987499999999,
          1041.453999999999,
          1281.443499999999,
          1550.9559999999983,
          1849.9914999999983,
          2178.5499999999984,
          2536.6314999999986,
          2924.2359999999985,
          3341.363499999997,
          3788.013999999997,
          4264.187499999997,
          4769.8839999999955,
          5305.103499999996,
          5869.845999999996,
          6464.111499999997
         ]
        },
        {
         "line": {
          "color": "red",
          "width": 2
         },
         "mode": "lines",
         "name": "gradient",
         "type": "scatter",
         "x": [
          0.3,
          0.35,
          0.39999999999999997,
          0.44999999999999996,
          0.49999999999999994,
          0.5499999999999999,
          0.5999999999999999,
          0.6499999999999999,
          0.7,
          0.7499999999999999,
          0.7999999999999998,
          0.8499999999999999,
          0.8999999999999999,
          0.95,
          0.9999999999999998,
          1.0499999999999998,
          1.0999999999999999,
          1.15,
          1.1999999999999997,
          1.2499999999999998,
          1.2999999999999998,
          1.3499999999999999,
          1.3999999999999997,
          1.4499999999999997,
          1.4999999999999998,
          1.5499999999999998,
          1.5999999999999999,
          1.6499999999999997,
          1.6999999999999997,
          1.7499999999999998,
          1.7999999999999996,
          1.8499999999999996,
          1.8999999999999997,
          1.9499999999999997
         ],
         "y": [
          1910.0800000000004,
          1721.9860000000003,
          1533.8920000000003,
          1345.7980000000002,
          1157.7040000000004,
          969.6100000000004,
          781.5160000000006,
          593.4220000000005,
          405.32800000000026,
          217.2340000000005,
          29.140000000000782,
          -158.95399999999938,
          -347.04799999999966,
          -535.1419999999997,
          -723.2359999999991,
          -911.3299999999994,
          -1099.4239999999995,
          -1287.5179999999996,
          -1475.6119999999992,
          -1663.7059999999992,
          -1851.7999999999993,
          -2039.8939999999998,
          -2227.987999999999,
          -2416.081999999999,
          -2604.1759999999995,
          -2792.2699999999995,
          -2980.3639999999996,
          -3168.457999999999,
          -3356.5519999999983,
          -3544.6459999999993,
          -3732.7399999999993,
          -3920.8339999999985,
          -4108.927999999999,
          -4297.021999999998
         ]
        },
        {
         "line": {
          "color": "red"
         },
         "marker": {
          "line": {
           "color": "DarkSlateGrey",
           "width": 1
          },
          "size": 14
         },
         "mode": "markers",
         "name": "slope 0.6",
         "type": "scatter",
         "x": [
          0.6
         ],
         "y": [
          781.5160000000002
         ]
        }
       ],
       "layout": {
        "height": 450,
        "margin": {
         "t": 60
        },
        "template": {
         "data": {
          "bar": [
           {
            "error_x": {
             "color": "#2a3f5f"
            },
            "error_y": {
             "color": "#2a3f5f"
            },
            "marker": {
             "line": {
              "color": "#E5ECF6",
              "width": 0.5
             },
             "pattern": {
              "fillmode": "overlay",
              "size": 10,
              "solidity": 0.2
             }
            },
            "type": "bar"
           }
          ],
          "barpolar": [
           {
            "marker": {
             "line": {
              "color": "#E5ECF6",
              "width": 0.5
             },
             "pattern": {
              "fillmode": "overlay",
              "size": 10,
              "solidity": 0.2
             }
            },
            "type": "barpolar"
           }
          ],
          "carpet": [
           {
            "aaxis": {
             "endlinecolor": "#2a3f5f",
             "gridcolor": "white",
             "linecolor": "white",
             "minorgridcolor": "white",
             "startlinecolor": "#2a3f5f"
            },
            "baxis": {
             "endlinecolor": "#2a3f5f",
             "gridcolor": "white",
             "linecolor": "white",
             "minorgridcolor": "white",
             "startlinecolor": "#2a3f5f"
            },
            "type": "carpet"
           }
          ],
          "choropleth": [
           {
            "colorbar": {
             "outlinewidth": 0,
             "ticks": ""
            },
            "type": "choropleth"
           }
          ],
          "contour": [
           {
            "colorbar": {
             "outlinewidth": 0,
             "ticks": ""
            },
            "colorscale": [
             [
              0,
              "#0d0887"
             ],
             [
              0.1111111111111111,
              "#46039f"
             ],
             [
              0.2222222222222222,
              "#7201a8"
             ],
             [
              0.3333333333333333,
              "#9c179e"
             ],
             [
              0.4444444444444444,
              "#bd3786"
             ],
             [
              0.5555555555555556,
              "#d8576b"
             ],
             [
              0.6666666666666666,
              "#ed7953"
             ],
             [
              0.7777777777777778,
              "#fb9f3a"
             ],
             [
              0.8888888888888888,
              "#fdca26"
             ],
             [
              1,
              "#f0f921"
             ]
            ],
            "type": "contour"
           }
          ],
          "contourcarpet": [
           {
            "colorbar": {
             "outlinewidth": 0,
             "ticks": ""
            },
            "type": "contourcarpet"
           }
          ],
          "heatmap": [
           {
            "colorbar": {
             "outlinewidth": 0,
             "ticks": ""
            },
            "colorscale": [
             [
              0,
              "#0d0887"
             ],
             [
              0.1111111111111111,
              "#46039f"
             ],
             [
              0.2222222222222222,
              "#7201a8"
             ],
             [
              0.3333333333333333,
              "#9c179e"
             ],
             [
              0.4444444444444444,
              "#bd3786"
             ],
             [
              0.5555555555555556,
              "#d8576b"
             ],
             [
              0.6666666666666666,
              "#ed7953"
             ],
             [
              0.7777777777777778,
              "#fb9f3a"
             ],
             [
              0.8888888888888888,
              "#fdca26"
             ],
             [
              1,
              "#f0f921"
             ]
            ],
            "type": "heatmap"
           }
          ],
          "heatmapgl": [
           {
            "colorbar": {
             "outlinewidth": 0,
             "ticks": ""
            },
            "colorscale": [
             [
              0,
              "#0d0887"
             ],
             [
              0.1111111111111111,
              "#46039f"
             ],
             [
              0.2222222222222222,
              "#7201a8"
             ],
             [
              0.3333333333333333,
              "#9c179e"
             ],
             [
              0.4444444444444444,
              "#bd3786"
             ],
             [
              0.5555555555555556,
              "#d8576b"
             ],
             [
              0.6666666666666666,
              "#ed7953"
             ],
             [
              0.7777777777777778,
              "#fb9f3a"
             ],
             [
              0.8888888888888888,
              "#fdca26"
             ],
             [
              1,
              "#f0f921"
             ]
            ],
            "type": "heatmapgl"
           }
          ],
          "histogram": [
           {
            "marker": {
             "pattern": {
              "fillmode": "overlay",
              "size": 10,
              "solidity": 0.2
             }
            },
            "type": "histogram"
           }
          ],
          "histogram2d": [
           {
            "colorbar": {
             "outlinewidth": 0,
             "ticks": ""
            },
            "colorscale": [
             [
              0,
              "#0d0887"
             ],
             [
              0.1111111111111111,
              "#46039f"
             ],
             [
              0.2222222222222222,
              "#7201a8"
             ],
             [
              0.3333333333333333,
              "#9c179e"
             ],
             [
              0.4444444444444444,
              "#bd3786"
             ],
             [
              0.5555555555555556,
              "#d8576b"
             ],
             [
              0.6666666666666666,
              "#ed7953"
             ],
             [
              0.7777777777777778,
              "#fb9f3a"
             ],
             [
              0.8888888888888888,
              "#fdca26"
             ],
             [
              1,
              "#f0f921"
             ]
            ],
            "type": "histogram2d"
           }
          ],
          "histogram2dcontour": [
           {
            "colorbar": {
             "outlinewidth": 0,
             "ticks": ""
            },
            "colorscale": [
             [
              0,
              "#0d0887"
             ],
             [
              0.1111111111111111,
              "#46039f"
             ],
             [
              0.2222222222222222,
              "#7201a8"
             ],
             [
              0.3333333333333333,
              "#9c179e"
             ],
             [
              0.4444444444444444,
              "#bd3786"
             ],
             [
              0.5555555555555556,
              "#d8576b"
             ],
             [
              0.6666666666666666,
              "#ed7953"
             ],
             [
              0.7777777777777778,
              "#fb9f3a"
             ],
             [
              0.8888888888888888,
              "#fdca26"
             ],
             [
              1,
              "#f0f921"
             ]
            ],
            "type": "histogram2dcontour"
           }
          ],
          "mesh3d": [
           {
            "colorbar": {
             "outlinewidth": 0,
             "ticks": ""
            },
            "type": "mesh3d"
           }
          ],
          "parcoords": [
           {
            "line": {
             "colorbar": {
              "outlinewidth": 0,
              "ticks": ""
             }
            },
            "type": "parcoords"
           }
          ],
          "pie": [
           {
            "automargin": true,
            "type": "pie"
           }
          ],
          "scatter": [
           {
            "fillpattern": {
             "fillmode": "overlay",
             "size": 10,
             "solidity": 0.2
            },
            "type": "scatter"
           }
          ],
          "scatter3d": [
           {
            "line": {
             "colorbar": {
              "outlinewidth": 0,
              "ticks": ""
             }
            },
            "marker": {
             "colorbar": {
              "outlinewidth": 0,
              "ticks": ""
             }
            },
            "type": "scatter3d"
           }
          ],
          "scattercarpet": [
           {
            "marker": {
             "colorbar": {
              "outlinewidth": 0,
              "ticks": ""
             }
            },
            "type": "scattercarpet"
           }
          ],
          "scattergeo": [
           {
            "marker": {
             "colorbar": {
              "outlinewidth": 0,
              "ticks": ""
             }
            },
            "type": "scattergeo"
           }
          ],
          "scattergl": [
           {
            "marker": {
             "colorbar": {
              "outlinewidth": 0,
              "ticks": ""
             }
            },
            "type": "scattergl"
           }
          ],
          "scattermapbox": [
           {
            "marker": {
             "colorbar": {
              "outlinewidth": 0,
              "ticks": ""
             }
            },
            "type": "scattermapbox"
           }
          ],
          "scatterpolar": [
           {
            "marker": {
             "colorbar": {
              "outlinewidth": 0,
              "ticks": ""
             }
            },
            "type": "scatterpolar"
           }
          ],
          "scatterpolargl": [
           {
            "marker": {
             "colorbar": {
              "outlinewidth": 0,
              "ticks": ""
             }
            },
            "type": "scatterpolargl"
           }
          ],
          "scatterternary": [
           {
            "marker": {
             "colorbar": {
              "outlinewidth": 0,
              "ticks": ""
             }
            },
            "type": "scatterternary"
           }
          ],
          "surface": [
           {
            "colorbar": {
             "outlinewidth": 0,
             "ticks": ""
            },
            "colorscale": [
             [
              0,
              "#0d0887"
             ],
             [
              0.1111111111111111,
              "#46039f"
             ],
             [
              0.2222222222222222,
              "#7201a8"
             ],
             [
              0.3333333333333333,
              "#9c179e"
             ],
             [
              0.4444444444444444,
              "#bd3786"
             ],
             [
              0.5555555555555556,
              "#d8576b"
             ],
             [
              0.6666666666666666,
              "#ed7953"
             ],
             [
              0.7777777777777778,
              "#fb9f3a"
             ],
             [
              0.8888888888888888,
              "#fdca26"
             ],
             [
              1,
              "#f0f921"
             ]
            ],
            "type": "surface"
           }
          ],
          "table": [
           {
            "cells": {
             "fill": {
              "color": "#EBF0F8"
             },
             "line": {
              "color": "white"
             }
            },
            "header": {
             "fill": {
              "color": "#C8D4E3"
             },
             "line": {
              "color": "white"
             }
            },
            "type": "table"
           }
          ]
         },
         "layout": {
          "annotationdefaults": {
           "arrowcolor": "#2a3f5f",
           "arrowhead": 0,
           "arrowwidth": 1
          },
          "autotypenumbers": "strict",
          "coloraxis": {
           "colorbar": {
            "outlinewidth": 0,
            "ticks": ""
           }
          },
          "colorscale": {
           "diverging": [
            [
             0,
             "#8e0152"
            ],
            [
             0.1,
             "#c51b7d"
            ],
            [
             0.2,
             "#de77ae"
            ],
            [
             0.3,
             "#f1b6da"
            ],
            [
             0.4,
             "#fde0ef"
            ],
            [
             0.5,
             "#f7f7f7"
            ],
            [
             0.6,
             "#e6f5d0"
            ],
            [
             0.7,
             "#b8e186"
            ],
            [
             0.8,
             "#7fbc41"
            ],
            [
             0.9,
             "#4d9221"
            ],
            [
             1,
             "#276419"
            ]
           ],
           "sequential": [
            [
             0,
             "#0d0887"
            ],
            [
             0.1111111111111111,
             "#46039f"
            ],
            [
             0.2222222222222222,
             "#7201a8"
            ],
            [
             0.3333333333333333,
             "#9c179e"
            ],
            [
             0.4444444444444444,
             "#bd3786"
            ],
            [
             0.5555555555555556,
             "#d8576b"
            ],
            [
             0.6666666666666666,
             "#ed7953"
            ],
            [
             0.7777777777777778,
             "#fb9f3a"
            ],
            [
             0.8888888888888888,
             "#fdca26"
            ],
            [
             1,
             "#f0f921"
            ]
           ],
           "sequentialminus": [
            [
             0,
             "#0d0887"
            ],
            [
             0.1111111111111111,
             "#46039f"
            ],
            [
             0.2222222222222222,
             "#7201a8"
            ],
            [
             0.3333333333333333,
             "#9c179e"
            ],
            [
             0.4444444444444444,
             "#bd3786"
            ],
            [
             0.5555555555555556,
             "#d8576b"
            ],
            [
             0.6666666666666666,
             "#ed7953"
            ],
            [
             0.7777777777777778,
             "#fb9f3a"
            ],
            [
             0.8888888888888888,
             "#fdca26"
            ],
            [
             1,
             "#f0f921"
            ]
           ]
          },
          "colorway": [
           "#636efa",
           "#EF553B",
           "#00cc96",
           "#ab63fa",
           "#FFA15A",
           "#19d3f3",
           "#FF6692",
           "#B6E880",
           "#FF97FF",
           "#FECB52"
          ],
          "font": {
           "color": "#2a3f5f"
          },
          "geo": {
           "bgcolor": "white",
           "lakecolor": "white",
           "landcolor": "#E5ECF6",
           "showlakes": true,
           "showland": true,
           "subunitcolor": "white"
          },
          "hoverlabel": {
           "align": "left"
          },
          "hovermode": "closest",
          "mapbox": {
           "style": "light"
          },
          "paper_bgcolor": "white",
          "plot_bgcolor": "#E5ECF6",
          "polar": {
           "angularaxis": {
            "gridcolor": "white",
            "linecolor": "white",
            "ticks": ""
           },
           "bgcolor": "#E5ECF6",
           "radialaxis": {
            "gridcolor": "white",
            "linecolor": "white",
            "ticks": ""
           }
          },
          "scene": {
           "xaxis": {
            "backgroundcolor": "#E5ECF6",
            "gridcolor": "white",
            "gridwidth": 2,
            "linecolor": "white",
            "showbackground": true,
            "ticks": "",
            "zerolinecolor": "white"
           },
           "yaxis": {
            "backgroundcolor": "#E5ECF6",
            "gridcolor": "white",
            "gridwidth": 2,
            "linecolor": "white",
            "showbackground": true,
            "ticks": "",
            "zerolinecolor": "white"
           },
           "zaxis": {
            "backgroundcolor": "#E5ECF6",
            "gridcolor": "white",
            "gridwidth": 2,
            "linecolor": "white",
            "showbackground": true,
            "ticks": "",
            "zerolinecolor": "white"
           }
          },
          "shapedefaults": {
           "line": {
            "color": "#2a3f5f"
           }
          },
          "ternary": {
           "aaxis": {
            "gridcolor": "white",
            "linecolor": "white",
            "ticks": ""
           },
           "baxis": {
            "gridcolor": "white",
            "linecolor": "white",
            "ticks": ""
           },
           "bgcolor": "#E5ECF6",
           "caxis": {
            "gridcolor": "white",
            "linecolor": "white",
            "ticks": ""
           }
          },
          "title": {
           "x": 0.05
          },
          "xaxis": {
           "automargin": true,
           "gridcolor": "white",
           "linecolor": "white",
           "ticks": "",
           "title": {
            "standoff": 15
           },
           "zerolinecolor": "white",
           "zerolinewidth": 2
          },
          "yaxis": {
           "automargin": true,
           "gridcolor": "white",
           "linecolor": "white",
           "ticks": "",
           "title": {
            "standoff": 15
           },
           "zerolinecolor": "white",
           "zerolinewidth": 2
          }
         }
        },
        "title": {
         "text": "slope 0.6, gradient -3761.9",
         "x": 0.46,
         "y": 0.93
        },
        "width": 520,
        "xaxis": {
         "dtick": 0.2,
         "range": [
          0.4,
          1.6
         ],
         "tick0": 0.4,
         "title": {
          "text": "slope (w)"
         }
        },
        "yaxis": {
         "range": [
          0,
          2500
         ],
         "title": {
          "text": "MSE"
         }
        }
       }
      }
     },
     "metadata": {},
     "output_type": "display_data"
    }
   ],
   "source": [
    "plot_gradient_m(x,y,0.6,mse[\"w_1\"],mse[\"MSE\"],gradient)"
   ]
  },
  {
   "cell_type": "code",
   "execution_count": 18,
   "id": "1b7bf2a0-67b2-4942-8ba1-b737a7ad50f6",
   "metadata": {
    "tags": []
   },
   "outputs": [],
   "source": [
    "# we need input x\n",
    "#         labe y\n",
    "#         parameters w\n",
    "#         learning rate ita\n",
    "#         stop condition torr\n",
    "#                        max_itr\n",
    "def gradient_decent(x, y, w, ita, torr = 1.e-4, max_itr = 5000):\n",
    "    \"\"\"Gradient decent for optimizing single parameter linear regression problem without interception w_0\"\"\"\n",
    "    itr = 1 #initial itertion\n",
    "    dw = 2* torr\n",
    "    \n",
    "    while abs(dw) > torr and itr < max_itr:\n",
    "        grad = gradient(x, y, w) #compute current value of gradient\n",
    "        dw = ita * grad #change in parameter w\n",
    "        w -= dw #update w\n",
    "        if itr % 10 == 0:\n",
    "            print(f\"Iteration {itr}. w ={w:.4f}.\")\n",
    "        itr += 1\n",
    "    print(\"Job's done\")\n",
    "    print(f\"Iteration {itr}. w ={w:.4f}.\")\n",
    "    "
   ]
  },
  {
   "cell_type": "code",
   "execution_count": 19,
   "id": "890910f8-0d27-4ae2-874e-9c26f74fa101",
   "metadata": {
    "tags": []
   },
   "outputs": [
    {
     "name": "stdout",
     "output_type": "stream",
     "text": [
      "Iteration 10. w =0.8767.\n",
      "Iteration 20. w =0.9157.\n",
      "Job's done\n",
      "Iteration 30. w =0.9183.\n"
     ]
    }
   ],
   "source": [
    "gradient_decent(x,y,w=0.3,ita=0.00002)"
   ]
  },
  {
   "cell_type": "code",
   "execution_count": 20,
   "id": "104d7b7d-d1ac-4447-a2bc-64fb4ebd6931",
   "metadata": {
    "tags": []
   },
   "outputs": [
    {
     "data": {
      "application/vnd.plotly.v1+json": {
       "config": {
        "plotlyServerURL": "https://plot.ly"
       },
       "data": [
        {
         "marker": {
          "size": 10
         },
         "mode": "markers",
         "name": "Data",
         "type": "scatter",
         "x": [
          35,
          43,
          49,
          58,
          63,
          65,
          78,
          80,
          120,
          123
         ],
         "xaxis": "x",
         "y": [
          30,
          52,
          49,
          64,
          62,
          48,
          104,
          63,
          103,
          100
         ],
         "yaxis": "y"
        },
        {
         "line": {
          "color": "red",
          "width": 3
         },
         "mode": "lines",
         "name": "Fitted line",
         "type": "scatter",
         "x": [
          35,
          43,
          49,
          58,
          63,
          65,
          78,
          80,
          120,
          123
         ],
         "xaxis": "x",
         "y": [
          10.5,
          12.9,
          14.7,
          17.4,
          18.9,
          19.5,
          23.4,
          24,
          36,
          36.9
         ],
         "yaxis": "y"
        },
        {
         "line": {
          "color": "#1ac584",
          "width": 3
         },
         "mode": "lines",
         "name": "MSE",
         "type": "scatter",
         "x": [
          0.4,
          0.45,
          0.5,
          0.55,
          0.6,
          0.6499999999999999,
          0.7,
          0.75,
          0.7999999999999999,
          0.8499999999999999,
          0.8999999999999999,
          0.9499999999999998,
          0.9999999999999999,
          1.0499999999999998,
          1.0999999999999999,
          1.15,
          1.1999999999999997,
          1.25,
          1.2999999999999998,
          1.3499999999999996,
          1.4,
          1.4499999999999997,
          1.4999999999999996,
          1.5499999999999998,
          1.5999999999999996
         ],
         "xaxis": "x2",
         "y": [
          1770.0759999999998,
          1478.6515000000002,
          1216.75,
          984.3714999999996,
          781.5160000000002,
          608.1835000000003,
          464.37400000000014,
          350.0875,
          265.32400000000007,
          210.08350000000013,
          184.36600000000004,
          188.17149999999992,
          221.49999999999991,
          284.35149999999965,
          376.7259999999996,
          498.62349999999986,
          650.0439999999992,
          830.9875,
          1041.453999999999,
          1281.443499999998,
          1550.9559999999997,
          1849.9914999999983,
          2178.5499999999965,
          2536.6314999999986,
          2924.2359999999967
         ],
         "yaxis": "y2"
        },
        {
         "line": {
          "color": "salmon",
          "width": 4
         },
         "marker": {
          "line": {
           "color": "DarkSlateGrey",
           "width": 1
          },
          "size": 10
         },
         "mode": "markers+lines",
         "name": "Slope history",
         "type": "scatter",
         "x": [
          0.3
         ],
         "xaxis": "x2",
         "y": [
          2441.4939999999997
         ],
         "yaxis": "y2"
        },
        {
         "line": {
          "color": "red"
         },
         "marker": {
          "line": {
           "color": "DarkSlateGrey",
           "width": 1
          },
          "size": 18
         },
         "mode": "markers",
         "name": "MSE for line",
         "type": "scatter",
         "x": [
          0.3
         ],
         "xaxis": "x2",
         "y": [
          2441.4939999999997
         ],
         "yaxis": "y2"
        },
        {
         "mode": "text",
         "showlegend": false,
         "text": "<b>Slope 0.30<b>",
         "textfont": {
          "color": "red",
          "size": 16
         },
         "type": "scatter",
         "x": [
          30.3
         ],
         "xaxis": "x",
         "y": [
          120
         ],
         "yaxis": "y"
        }
       ],
       "frames": [
        {
         "data": [
          {
           "type": "scatter",
           "x": [
            35,
            43,
            49,
            58,
            63,
            65,
            78,
            80,
            120,
            123
           ],
           "y": [
            30,
            52,
            49,
            64,
            62,
            48,
            104,
            63,
            103,
            100
           ]
          },
          {
           "type": "scatter",
           "x": [
            35,
            43,
            49,
            58,
            63,
            65,
            78,
            80,
            120,
            123
           ],
           "y": [
            10.5,
            12.9,
            14.7,
            17.4,
            18.9,
            19.5,
            23.4,
            24,
            36,
            36.9
           ]
          },
          {
           "type": "scatter",
           "x": [
            0.4,
            0.45,
            0.5,
            0.55,
            0.6,
            0.6499999999999999,
            0.7,
            0.75,
            0.7999999999999999,
            0.8499999999999999,
            0.8999999999999999,
            0.9499999999999998,
            0.9999999999999999,
            1.0499999999999998,
            1.0999999999999999,
            1.15,
            1.1999999999999997,
            1.25,
            1.2999999999999998,
            1.3499999999999996,
            1.4,
            1.4499999999999997,
            1.4999999999999996,
            1.5499999999999998,
            1.5999999999999996
           ],
           "y": [
            1770.0759999999998,
            1478.6515000000002,
            1216.75,
            984.3714999999996,
            781.5160000000002,
            608.1835000000003,
            464.37400000000014,
            350.0875,
            265.32400000000007,
            210.08350000000013,
            184.36600000000004,
            188.17149999999992,
            221.49999999999991,
            284.35149999999965,
            376.7259999999996,
            498.62349999999986,
            650.0439999999992,
            830.9875,
            1041.453999999999,
            1281.443499999998,
            1550.9559999999997,
            1849.9914999999983,
            2178.5499999999965,
            2536.6314999999986,
            2924.2359999999967
           ]
          },
          {
           "mode": "markers",
           "type": "scatter",
           "x": [
            0.3
           ],
           "y": [
            2441.4939999999997
           ]
          },
          {
           "type": "scatter",
           "x": [
            0.3
           ],
           "y": [
            2441.4939999999997
           ]
          },
          {
           "text": "<b>Slope 0.30<b>",
           "type": "scatter"
          }
         ],
         "name": "0",
         "traces": [
          0,
          1,
          2,
          3,
          4,
          5
         ]
        },
        {
         "data": [
          {
           "type": "scatter",
           "x": [
            35,
            43,
            49,
            58,
            63,
            65,
            78,
            80,
            120,
            123
           ],
           "y": [
            30,
            52,
            49,
            64,
            62,
            48,
            104,
            63,
            103,
            100
           ]
          },
          {
           "type": "scatter",
           "x": [
            35,
            43,
            49,
            58,
            63,
            65,
            78,
            80,
            120,
            123
           ],
           "y": [
            23.28312,
            28.604976,
            32.596368000000005,
            38.583456000000005,
            41.909616,
            43.240080000000006,
            51.888096000000004,
            53.218560000000004,
            79.82784000000001,
            81.823536
           ]
          },
          {
           "type": "scatter",
           "x": [
            0.4,
            0.45,
            0.5,
            0.55,
            0.6,
            0.6499999999999999,
            0.7,
            0.75,
            0.7999999999999999,
            0.8499999999999999,
            0.8999999999999999,
            0.9499999999999998,
            0.9999999999999999,
            1.0499999999999998,
            1.0999999999999999,
            1.15,
            1.1999999999999997,
            1.25,
            1.2999999999999998,
            1.3499999999999996,
            1.4,
            1.4499999999999997,
            1.4999999999999996,
            1.5499999999999998,
            1.5999999999999996
           ],
           "y": [
            1770.0759999999998,
            1478.6515000000002,
            1216.75,
            984.3714999999996,
            781.5160000000002,
            608.1835000000003,
            464.37400000000014,
            350.0875,
            265.32400000000007,
            210.08350000000013,
            184.36600000000004,
            188.17149999999992,
            221.49999999999991,
            284.35149999999965,
            376.7259999999996,
            498.62349999999986,
            650.0439999999992,
            830.9875,
            1041.453999999999,
            1281.443499999998,
            1550.9559999999997,
            1849.9914999999983,
            2178.5499999999965,
            2536.6314999999986,
            2924.2359999999967
           ]
          },
          {
           "mode": "markers+lines",
           "type": "scatter",
           "x": [
            0.3,
            0.665232
           ],
           "y": [
            2441.4939999999997,
            561.2463793851903
           ]
          },
          {
           "type": "scatter",
           "x": [
            0.665232
           ],
           "y": [
            561.2463793851903
           ]
          },
          {
           "text": "<b>Slope 0.67<b>",
           "type": "scatter"
          }
         ],
         "name": "1",
         "traces": [
          0,
          1,
          2,
          3,
          4,
          5
         ]
        },
        {
         "data": [
          {
           "type": "scatter",
           "x": [
            35,
            43,
            49,
            58,
            63,
            65,
            78,
            80,
            120,
            123
           ],
           "y": [
            30,
            52,
            49,
            64,
            62,
            48,
            104,
            63,
            103,
            100
           ]
          },
          {
           "type": "scatter",
           "x": [
            35,
            43,
            49,
            58,
            63,
            65,
            78,
            80,
            120,
            123
           ],
           "y": [
            28.518318964800002,
            35.03679187104,
            39.92564655072,
            47.25892857024,
            51.332974136640004,
            52.9625923632,
            63.555110835840004,
            65.18472906240001,
            97.7770935936,
            100.22152093344
           ]
          },
          {
           "type": "scatter",
           "x": [
            0.4,
            0.45,
            0.5,
            0.55,
            0.6,
            0.6499999999999999,
            0.7,
            0.75,
            0.7999999999999999,
            0.8499999999999999,
            0.8999999999999999,
            0.9499999999999998,
            0.9999999999999999,
            1.0499999999999998,
            1.0999999999999999,
            1.15,
            1.1999999999999997,
            1.25,
            1.2999999999999998,
            1.3499999999999996,
            1.4,
            1.4499999999999997,
            1.4999999999999996,
            1.5499999999999998,
            1.5999999999999996
           ],
           "y": [
            1770.0759999999998,
            1478.6515000000002,
            1216.75,
            984.3714999999996,
            781.5160000000002,
            608.1835000000003,
            464.37400000000014,
            350.0875,
            265.32400000000007,
            210.08350000000013,
            184.36600000000004,
            188.17149999999992,
            221.49999999999991,
            284.35149999999965,
            376.7259999999996,
            498.62349999999986,
            650.0439999999992,
            830.9875,
            1041.453999999999,
            1281.443499999998,
            1550.9559999999997,
            1849.9914999999983,
            2178.5499999999965,
            2536.6314999999986,
            2924.2359999999967
           ]
          },
          {
           "mode": "markers+lines",
           "type": "scatter",
           "x": [
            0.3,
            0.665232,
            0.81480911328
           ],
           "y": [
            2441.4939999999997,
            561.2463793851903,
            245.8855859019402
           ]
          },
          {
           "type": "scatter",
           "x": [
            0.81480911328
           ],
           "y": [
            245.8855859019402
           ]
          },
          {
           "text": "<b>Slope 0.81<b>",
           "type": "scatter"
          }
         ],
         "name": "2",
         "traces": [
          0,
          1,
          2,
          3,
          4,
          5
         ]
        },
        {
         "data": [
          {
           "type": "scatter",
           "x": [
            35,
            43,
            49,
            58,
            63,
            65,
            78,
            80,
            120,
            123
           ],
           "y": [
            30,
            52,
            49,
            64,
            62,
            48,
            104,
            63,
            103,
            100
           ]
          },
          {
           "type": "scatter",
           "x": [
            35,
            43,
            49,
            58,
            63,
            65,
            78,
            80,
            120,
            123
           ],
           "y": [
            30.662342348844195,
            37.67087774286573,
            42.927279288381875,
            50.811881606656094,
            55.19221622791955,
            56.94435007642493,
            68.33322009170992,
            70.0853539402153,
            105.12803091032295,
            107.75623168308103
           ]
          },
          {
           "type": "scatter",
           "x": [
            0.4,
            0.45,
            0.5,
            0.55,
            0.6,
            0.6499999999999999,
            0.7,
            0.75,
            0.7999999999999999,
            0.8499999999999999,
            0.8999999999999999,
            0.9499999999999998,
            0.9999999999999999,
            1.0499999999999998,
            1.0999999999999999,
            1.15,
            1.1999999999999997,
            1.25,
            1.2999999999999998,
            1.3499999999999996,
            1.4,
            1.4499999999999997,
            1.4999999999999996,
            1.5499999999999998,
            1.5999999999999996
           ],
           "y": [
            1770.0759999999998,
            1478.6515000000002,
            1216.75,
            984.3714999999996,
            781.5160000000002,
            608.1835000000003,
            464.37400000000014,
            350.0875,
            265.32400000000007,
            210.08350000000013,
            184.36600000000004,
            188.17149999999992,
            221.49999999999991,
            284.35149999999965,
            376.7259999999996,
            498.62349999999986,
            650.0439999999992,
            830.9875,
            1041.453999999999,
            1281.443499999998,
            1550.9559999999997,
            1849.9914999999983,
            2178.5499999999965,
            2536.6314999999986,
            2924.2359999999967
           ]
          },
          {
           "mode": "markers+lines",
           "type": "scatter",
           "x": [
            0.3,
            0.665232,
            0.81480911328,
            0.8760669242526913
           ],
           "y": [
            2441.4939999999997,
            561.2463793851903,
            245.8855859019402,
            192.9923238783639
           ]
          },
          {
           "type": "scatter",
           "x": [
            0.8760669242526913
           ],
           "y": [
            192.9923238783639
           ]
          },
          {
           "text": "<b>Slope 0.88<b>",
           "type": "scatter"
          }
         ],
         "name": "3",
         "traces": [
          0,
          1,
          2,
          3,
          4,
          5
         ]
        },
        {
         "data": [
          {
           "type": "scatter",
           "x": [
            35,
            43,
            49,
            58,
            63,
            65,
            78,
            80,
            120,
            123
           ],
           "y": [
            30,
            52,
            49,
            64,
            62,
            48,
            104,
            63,
            103,
            100
           ]
          },
          {
           "type": "scatter",
           "x": [
            35,
            43,
            49,
            58,
            63,
            65,
            78,
            80,
            120,
            123
           ],
           "y": [
            31.540405685545654,
            38.74964127081323,
            44.15656795976392,
            52.26695799318994,
            56.77273023398217,
            58.575039130299075,
            70.29004695635888,
            72.09235585267578,
            108.13853377901367,
            110.84199712348901
           ]
          },
          {
           "type": "scatter",
           "x": [
            0.4,
            0.45,
            0.5,
            0.55,
            0.6,
            0.6499999999999999,
            0.7,
            0.75,
            0.7999999999999999,
            0.8499999999999999,
            0.8999999999999999,
            0.9499999999999998,
            0.9999999999999999,
            1.0499999999999998,
            1.0999999999999999,
            1.15,
            1.1999999999999997,
            1.25,
            1.2999999999999998,
            1.3499999999999996,
            1.4,
            1.4499999999999997,
            1.4999999999999996,
            1.5499999999999998,
            1.5999999999999996
           ],
           "y": [
            1770.0759999999998,
            1478.6515000000002,
            1216.75,
            984.3714999999996,
            781.5160000000002,
            608.1835000000003,
            464.37400000000014,
            350.0875,
            265.32400000000007,
            210.08350000000013,
            184.36600000000004,
            188.17149999999992,
            221.49999999999991,
            284.35149999999965,
            376.7259999999996,
            498.62349999999986,
            650.0439999999992,
            830.9875,
            1041.453999999999,
            1281.443499999998,
            1550.9559999999997,
            1849.9914999999983,
            2178.5499999999965,
            2536.6314999999986,
            2924.2359999999967
           ]
          },
          {
           "mode": "markers+lines",
           "type": "scatter",
           "x": [
            0.3,
            0.665232,
            0.81480911328,
            0.8760669242526913,
            0.9011544481584473
           ],
           "y": [
            2441.4939999999997,
            561.2463793851903,
            245.8855859019402,
            192.9923238783639,
            184.12090667842182
           ]
          },
          {
           "type": "scatter",
           "x": [
            0.9011544481584473
           ],
           "y": [
            184.12090667842182
           ]
          },
          {
           "text": "<b>Slope 0.90<b>",
           "type": "scatter"
          }
         ],
         "name": "4",
         "traces": [
          0,
          1,
          2,
          3,
          4,
          5
         ]
        },
        {
         "data": [
          {
           "type": "scatter",
           "x": [
            35,
            43,
            49,
            58,
            63,
            65,
            78,
            80,
            120,
            123
           ],
           "y": [
            30,
            52,
            49,
            64,
            62,
            48,
            104,
            63,
            103,
            100
           ]
          },
          {
           "type": "scatter",
           "x": [
            35,
            43,
            49,
            58,
            63,
            65,
            78,
            80,
            120,
            123
           ],
           "y": [
            31.900007744458367,
            39.19143808604885,
            44.66001084224172,
            52.86286997653101,
            57.42001394002506,
            59.242871525422686,
            71.09144583050721,
            72.91430341590484,
            109.37145512385726,
            112.10574150195369
           ]
          },
          {
           "type": "scatter",
           "x": [
            0.4,
            0.45,
            0.5,
            0.55,
            0.6,
            0.6499999999999999,
            0.7,
            0.75,
            0.7999999999999999,
            0.8499999999999999,
            0.8999999999999999,
            0.9499999999999998,
            0.9999999999999999,
            1.0499999999999998,
            1.0999999999999999,
            1.15,
            1.1999999999999997,
            1.25,
            1.2999999999999998,
            1.3499999999999996,
            1.4,
            1.4499999999999997,
            1.4999999999999996,
            1.5499999999999998,
            1.5999999999999996
           ],
           "y": [
            1770.0759999999998,
            1478.6515000000002,
            1216.75,
            984.3714999999996,
            781.5160000000002,
            608.1835000000003,
            464.37400000000014,
            350.0875,
            265.32400000000007,
            210.08350000000013,
            184.36600000000004,
            188.17149999999992,
            221.49999999999991,
            284.35149999999965,
            376.7259999999996,
            498.62349999999986,
            650.0439999999992,
            830.9875,
            1041.453999999999,
            1281.443499999998,
            1550.9559999999997,
            1849.9914999999983,
            2178.5499999999965,
            2536.6314999999986,
            2924.2359999999967
           ]
          },
          {
           "mode": "markers+lines",
           "type": "scatter",
           "x": [
            0.3,
            0.665232,
            0.81480911328,
            0.8760669242526913,
            0.9011544481584473,
            0.9114287926988105
           ],
           "y": [
            2441.4939999999997,
            561.2463793851903,
            245.8855859019402,
            192.9923238783639,
            184.12090667842182,
            182.63296586848753
           ]
          },
          {
           "type": "scatter",
           "x": [
            0.9114287926988105
           ],
           "y": [
            182.63296586848753
           ]
          },
          {
           "text": "<b>Slope 0.91<b>",
           "type": "scatter"
          }
         ],
         "name": "5",
         "traces": [
          0,
          1,
          2,
          3,
          4,
          5
         ]
        },
        {
         "data": [
          {
           "type": "scatter",
           "x": [
            35,
            43,
            49,
            58,
            63,
            65,
            78,
            80,
            120,
            123
           ],
           "y": [
            30,
            52,
            49,
            64,
            62,
            48,
            104,
            63,
            103,
            100
           ]
          },
          {
           "type": "scatter",
           "x": [
            35,
            43,
            49,
            58,
            63,
            65,
            78,
            80,
            120,
            123
           ],
           "y": [
            32.14655238166506,
            39.494335783188504,
            45.00517333433108,
            53.27142966104496,
            57.86379428699711,
            59.70074013737797,
            71.64088816485356,
            73.47783401523442,
            110.21675102285164,
            112.97216979842293
           ]
          },
          {
           "type": "scatter",
           "x": [
            0.4,
            0.45,
            0.5,
            0.55,
            0.6,
            0.6499999999999999,
            0.7,
            0.75,
            0.7999999999999999,
            0.8499999999999999,
            0.8999999999999999,
            0.9499999999999998,
            0.9999999999999999,
            1.0499999999999998,
            1.0999999999999999,
            1.15,
            1.1999999999999997,
            1.25,
            1.2999999999999998,
            1.3499999999999996,
            1.4,
            1.4499999999999997,
            1.4999999999999996,
            1.5499999999999998,
            1.5999999999999996
           ],
           "y": [
            1770.0759999999998,
            1478.6515000000002,
            1216.75,
            984.3714999999996,
            781.5160000000002,
            608.1835000000003,
            464.37400000000014,
            350.0875,
            265.32400000000007,
            210.08350000000013,
            184.36600000000004,
            188.17149999999992,
            221.49999999999991,
            284.35149999999965,
            376.7259999999996,
            498.62349999999986,
            650.0439999999992,
            830.9875,
            1041.453999999999,
            1281.443499999998,
            1550.9559999999997,
            1849.9914999999983,
            2178.5499999999965,
            2536.6314999999986,
            2924.2359999999967
           ]
          },
          {
           "mode": "markers+lines",
           "type": "scatter",
           "x": [
            0.3,
            0.665232,
            0.81480911328,
            0.8760669242526913,
            0.9011544481584473,
            0.9114287926988105,
            0.9156365477618709
           ],
           "y": [
            2441.4939999999997,
            561.2463793851903,
            245.8855859019402,
            192.9923238783639,
            184.12090667842182,
            182.63296586848753,
            182.38340395476274
           ]
          },
          {
           "type": "scatter",
           "x": [
            0.9156365477618709
           ],
           "y": [
            182.38340395476274
           ]
          },
          {
           "text": "<b>Slope 0.92<b>",
           "type": "scatter"
          }
         ],
         "name": "6",
         "traces": [
          0,
          1,
          2,
          3,
          4,
          5
         ]
        },
        {
         "data": [
          {
           "type": "scatter",
           "x": [
            35,
            43,
            49,
            58,
            63,
            65,
            78,
            80,
            120,
            123
           ],
           "y": [
            30,
            52,
            49,
            64,
            62,
            48,
            104,
            63,
            103,
            100
           ]
          },
          {
           "type": "scatter",
           "x": [
            35,
            43,
            49,
            58,
            63,
            65,
            78,
            80,
            120,
            123
           ],
           "y": [
            32.14655238166506,
            39.494335783188504,
            45.00517333433108,
            53.27142966104496,
            57.86379428699711,
            59.70074013737797,
            71.64088816485356,
            73.47783401523442,
            110.21675102285164,
            112.97216979842293
           ]
          },
          {
           "type": "scatter",
           "x": [
            0.4,
            0.45,
            0.5,
            0.55,
            0.6,
            0.6499999999999999,
            0.7,
            0.75,
            0.7999999999999999,
            0.8499999999999999,
            0.8999999999999999,
            0.9499999999999998,
            0.9999999999999999,
            1.0499999999999998,
            1.0999999999999999,
            1.15,
            1.1999999999999997,
            1.25,
            1.2999999999999998,
            1.3499999999999996,
            1.4,
            1.4499999999999997,
            1.4999999999999996,
            1.5499999999999998,
            1.5999999999999996
           ],
           "y": [
            1770.0759999999998,
            1478.6515000000002,
            1216.75,
            984.3714999999996,
            781.5160000000002,
            608.1835000000003,
            464.37400000000014,
            350.0875,
            265.32400000000007,
            210.08350000000013,
            184.36600000000004,
            188.17149999999992,
            221.49999999999991,
            284.35149999999965,
            376.7259999999996,
            498.62349999999986,
            650.0439999999992,
            830.9875,
            1041.453999999999,
            1281.443499999998,
            1550.9559999999997,
            1849.9914999999983,
            2178.5499999999965,
            2536.6314999999986,
            2924.2359999999967
           ]
          },
          {
           "mode": "markers+lines",
           "type": "scatter",
           "x": [
            0.3,
            0.665232,
            0.81480911328,
            0.8760669242526913,
            0.9011544481584473,
            0.9114287926988105,
            0.9156365477618709,
            0.9173597917703966
           ],
           "y": [
            2441.4939999999997,
            561.2463793851903,
            245.8855859019402,
            192.9923238783639,
            184.12090667842182,
            182.63296586848753,
            182.38340395476274,
            182.34154667901217
           ]
          },
          {
           "type": "scatter",
           "x": [
            0.9173597917703966
           ],
           "y": [
            182.34154667901217
           ]
          },
          {
           "text": "<b>Slope 0.92<b>",
           "type": "scatter"
          }
         ],
         "name": "7",
         "traces": [
          0,
          1,
          2,
          3,
          4,
          5
         ]
        },
        {
         "data": [
          {
           "type": "scatter",
           "x": [
            35,
            43,
            49,
            58,
            63,
            65,
            78,
            80,
            120,
            123
           ],
           "y": [
            30,
            52,
            49,
            64,
            62,
            48,
            104,
            63,
            103,
            100
           ]
          },
          {
           "type": "scatter",
           "x": [
            35,
            43,
            49,
            58,
            63,
            65,
            78,
            80,
            120,
            123
           ],
           "y": [
            32.14655238166506,
            39.494335783188504,
            45.00517333433108,
            53.27142966104496,
            57.86379428699711,
            59.70074013737797,
            71.64088816485356,
            73.47783401523442,
            110.21675102285164,
            112.97216979842293
           ]
          },
          {
           "type": "scatter",
           "x": [
            0.4,
            0.45,
            0.5,
            0.55,
            0.6,
            0.6499999999999999,
            0.7,
            0.75,
            0.7999999999999999,
            0.8499999999999999,
            0.8999999999999999,
            0.9499999999999998,
            0.9999999999999999,
            1.0499999999999998,
            1.0999999999999999,
            1.15,
            1.1999999999999997,
            1.25,
            1.2999999999999998,
            1.3499999999999996,
            1.4,
            1.4499999999999997,
            1.4999999999999996,
            1.5499999999999998,
            1.5999999999999996
           ],
           "y": [
            1770.0759999999998,
            1478.6515000000002,
            1216.75,
            984.3714999999996,
            781.5160000000002,
            608.1835000000003,
            464.37400000000014,
            350.0875,
            265.32400000000007,
            210.08350000000013,
            184.36600000000004,
            188.17149999999992,
            221.49999999999991,
            284.35149999999965,
            376.7259999999996,
            498.62349999999986,
            650.0439999999992,
            830.9875,
            1041.453999999999,
            1281.443499999998,
            1550.9559999999997,
            1849.9914999999983,
            2178.5499999999965,
            2536.6314999999986,
            2924.2359999999967
           ]
          },
          {
           "mode": "markers+lines",
           "type": "scatter",
           "x": [
            0.3,
            0.665232,
            0.81480911328,
            0.8760669242526913,
            0.9011544481584473,
            0.9114287926988105,
            0.9156365477618709,
            0.9173597917703966,
            0.9180655291216483
           ],
           "y": [
            2441.4939999999997,
            561.2463793851903,
            245.8855859019402,
            192.9923238783639,
            184.12090667842182,
            182.63296586848753,
            182.38340395476274,
            182.34154667901217,
            182.33452625066587
           ]
          },
          {
           "type": "scatter",
           "x": [
            0.9180655291216483
           ],
           "y": [
            182.33452625066587
           ]
          },
          {
           "text": "<b>Slope 0.92<b>",
           "type": "scatter"
          }
         ],
         "name": "8",
         "traces": [
          0,
          1,
          2,
          3,
          4,
          5
         ]
        },
        {
         "data": [
          {
           "type": "scatter",
           "x": [
            35,
            43,
            49,
            58,
            63,
            65,
            78,
            80,
            120,
            123
           ],
           "y": [
            30,
            52,
            49,
            64,
            62,
            48,
            104,
            63,
            103,
            100
           ]
          },
          {
           "type": "scatter",
           "x": [
            35,
            43,
            49,
            58,
            63,
            65,
            78,
            80,
            120,
            123
           ],
           "y": [
            32.14655238166506,
            39.494335783188504,
            45.00517333433108,
            53.27142966104496,
            57.86379428699711,
            59.70074013737797,
            71.64088816485356,
            73.47783401523442,
            110.21675102285164,
            112.97216979842293
           ]
          },
          {
           "type": "scatter",
           "x": [
            0.4,
            0.45,
            0.5,
            0.55,
            0.6,
            0.6499999999999999,
            0.7,
            0.75,
            0.7999999999999999,
            0.8499999999999999,
            0.8999999999999999,
            0.9499999999999998,
            0.9999999999999999,
            1.0499999999999998,
            1.0999999999999999,
            1.15,
            1.1999999999999997,
            1.25,
            1.2999999999999998,
            1.3499999999999996,
            1.4,
            1.4499999999999997,
            1.4999999999999996,
            1.5499999999999998,
            1.5999999999999996
           ],
           "y": [
            1770.0759999999998,
            1478.6515000000002,
            1216.75,
            984.3714999999996,
            781.5160000000002,
            608.1835000000003,
            464.37400000000014,
            350.0875,
            265.32400000000007,
            210.08350000000013,
            184.36600000000004,
            188.17149999999992,
            221.49999999999991,
            284.35149999999965,
            376.7259999999996,
            498.62349999999986,
            650.0439999999992,
            830.9875,
            1041.453999999999,
            1281.443499999998,
            1550.9559999999997,
            1849.9914999999983,
            2178.5499999999965,
            2536.6314999999986,
            2924.2359999999967
           ]
          },
          {
           "mode": "markers+lines",
           "type": "scatter",
           "x": [
            0.3,
            0.665232,
            0.81480911328,
            0.8760669242526913,
            0.9011544481584473,
            0.9114287926988105,
            0.9156365477618709,
            0.9173597917703966,
            0.9180655291216483,
            0.9183545567964798
           ],
           "y": [
            2441.4939999999997,
            561.2463793851903,
            245.8855859019402,
            192.9923238783639,
            184.12090667842182,
            182.63296586848753,
            182.38340395476274,
            182.34154667901217,
            182.33452625066587,
            182.33334876328098
           ]
          },
          {
           "type": "scatter",
           "x": [
            0.9183545567964798
           ],
           "y": [
            182.33334876328098
           ]
          },
          {
           "text": "<b>Slope 0.92<b>",
           "type": "scatter"
          }
         ],
         "name": "9",
         "traces": [
          0,
          1,
          2,
          3,
          4,
          5
         ]
        },
        {
         "data": [
          {
           "type": "scatter",
           "x": [
            35,
            43,
            49,
            58,
            63,
            65,
            78,
            80,
            120,
            123
           ],
           "y": [
            30,
            52,
            49,
            64,
            62,
            48,
            104,
            63,
            103,
            100
           ]
          },
          {
           "type": "scatter",
           "x": [
            35,
            43,
            49,
            58,
            63,
            65,
            78,
            80,
            120,
            123
           ],
           "y": [
            32.14655238166506,
            39.494335783188504,
            45.00517333433108,
            53.27142966104496,
            57.86379428699711,
            59.70074013737797,
            71.64088816485356,
            73.47783401523442,
            110.21675102285164,
            112.97216979842293
           ]
          },
          {
           "type": "scatter",
           "x": [
            0.4,
            0.45,
            0.5,
            0.55,
            0.6,
            0.6499999999999999,
            0.7,
            0.75,
            0.7999999999999999,
            0.8499999999999999,
            0.8999999999999999,
            0.9499999999999998,
            0.9999999999999999,
            1.0499999999999998,
            1.0999999999999999,
            1.15,
            1.1999999999999997,
            1.25,
            1.2999999999999998,
            1.3499999999999996,
            1.4,
            1.4499999999999997,
            1.4999999999999996,
            1.5499999999999998,
            1.5999999999999996
           ],
           "y": [
            1770.0759999999998,
            1478.6515000000002,
            1216.75,
            984.3714999999996,
            781.5160000000002,
            608.1835000000003,
            464.37400000000014,
            350.0875,
            265.32400000000007,
            210.08350000000013,
            184.36600000000004,
            188.17149999999992,
            221.49999999999991,
            284.35149999999965,
            376.7259999999996,
            498.62349999999986,
            650.0439999999992,
            830.9875,
            1041.453999999999,
            1281.443499999998,
            1550.9559999999997,
            1849.9914999999983,
            2178.5499999999965,
            2536.6314999999986,
            2924.2359999999967
           ]
          },
          {
           "mode": "markers+lines",
           "type": "scatter",
           "x": [
            0.3,
            0.665232,
            0.81480911328,
            0.8760669242526913,
            0.9011544481584473,
            0.9114287926988105,
            0.9156365477618709,
            0.9173597917703966,
            0.9180655291216483,
            0.9183545567964798,
            0.9184729251904303
           ],
           "y": [
            2441.4939999999997,
            561.2463793851903,
            245.8855859019402,
            192.9923238783639,
            184.12090667842182,
            182.63296586848753,
            182.38340395476274,
            182.34154667901217,
            182.33452625066587,
            182.33334876328098,
            182.33315127155058
           ]
          },
          {
           "type": "scatter",
           "x": [
            0.9184729251904303
           ],
           "y": [
            182.33315127155058
           ]
          },
          {
           "text": "<b>Slope 0.92<b>",
           "type": "scatter"
          }
         ],
         "name": "10",
         "traces": [
          0,
          1,
          2,
          3,
          4,
          5
         ]
        }
       ],
       "layout": {
        "annotations": [
         {
          "font": {
           "size": 16
          },
          "showarrow": false,
          "text": "Data & Fitted Line",
          "x": 0.225,
          "xanchor": "center",
          "xref": "paper",
          "y": 1,
          "yanchor": "bottom",
          "yref": "paper"
         },
         {
          "font": {
           "size": 16
          },
          "showarrow": false,
          "text": "Mean Squared Error",
          "x": 0.775,
          "xanchor": "center",
          "xref": "paper",
          "y": 1,
          "yanchor": "bottom",
          "yref": "paper"
         }
        ],
        "height": 475,
        "margin": {
         "t": 60
        },
        "sliders": [
         {
          "currentvalue": {
           "font": {
            "size": 16
           },
           "prefix": "Iteration: ",
           "visible": true
          },
          "pad": {
           "b": 10,
           "t": 30
          },
          "steps": [
           {
            "args": [
             [
              0
             ],
             {
              "frame": {
               "duration": 0,
               "easing": "linear",
               "redraw": false
              },
              "transition": {
               "duration": 0,
               "easing": "linear"
              }
             }
            ],
            "label": "0",
            "method": "animate"
           },
           {
            "args": [
             [
              1
             ],
             {
              "frame": {
               "duration": 0,
               "easing": "linear",
               "redraw": false
              },
              "transition": {
               "duration": 0,
               "easing": "linear"
              }
             }
            ],
            "label": "1",
            "method": "animate"
           },
           {
            "args": [
             [
              2
             ],
             {
              "frame": {
               "duration": 0,
               "easing": "linear",
               "redraw": false
              },
              "transition": {
               "duration": 0,
               "easing": "linear"
              }
             }
            ],
            "label": "2",
            "method": "animate"
           },
           {
            "args": [
             [
              3
             ],
             {
              "frame": {
               "duration": 0,
               "easing": "linear",
               "redraw": false
              },
              "transition": {
               "duration": 0,
               "easing": "linear"
              }
             }
            ],
            "label": "3",
            "method": "animate"
           },
           {
            "args": [
             [
              4
             ],
             {
              "frame": {
               "duration": 0,
               "easing": "linear",
               "redraw": false
              },
              "transition": {
               "duration": 0,
               "easing": "linear"
              }
             }
            ],
            "label": "4",
            "method": "animate"
           },
           {
            "args": [
             [
              5
             ],
             {
              "frame": {
               "duration": 0,
               "easing": "linear",
               "redraw": false
              },
              "transition": {
               "duration": 0,
               "easing": "linear"
              }
             }
            ],
            "label": "5",
            "method": "animate"
           },
           {
            "args": [
             [
              6
             ],
             {
              "frame": {
               "duration": 0,
               "easing": "linear",
               "redraw": false
              },
              "transition": {
               "duration": 0,
               "easing": "linear"
              }
             }
            ],
            "label": "6",
            "method": "animate"
           },
           {
            "args": [
             [
              7
             ],
             {
              "frame": {
               "duration": 0,
               "easing": "linear",
               "redraw": false
              },
              "transition": {
               "duration": 0,
               "easing": "linear"
              }
             }
            ],
            "label": "7",
            "method": "animate"
           },
           {
            "args": [
             [
              8
             ],
             {
              "frame": {
               "duration": 0,
               "easing": "linear",
               "redraw": false
              },
              "transition": {
               "duration": 0,
               "easing": "linear"
              }
             }
            ],
            "label": "8",
            "method": "animate"
           },
           {
            "args": [
             [
              9
             ],
             {
              "frame": {
               "duration": 0,
               "easing": "linear",
               "redraw": false
              },
              "transition": {
               "duration": 0,
               "easing": "linear"
              }
             }
            ],
            "label": "9",
            "method": "animate"
           },
           {
            "args": [
             [
              10
             ],
             {
              "frame": {
               "duration": 0,
               "easing": "linear",
               "redraw": false
              },
              "transition": {
               "duration": 0,
               "easing": "linear"
              }
             }
            ],
            "label": "10",
            "method": "animate"
           }
          ]
         }
        ],
        "template": {
         "data": {
          "bar": [
           {
            "error_x": {
             "color": "#2a3f5f"
            },
            "error_y": {
             "color": "#2a3f5f"
            },
            "marker": {
             "line": {
              "color": "#E5ECF6",
              "width": 0.5
             },
             "pattern": {
              "fillmode": "overlay",
              "size": 10,
              "solidity": 0.2
             }
            },
            "type": "bar"
           }
          ],
          "barpolar": [
           {
            "marker": {
             "line": {
              "color": "#E5ECF6",
              "width": 0.5
             },
             "pattern": {
              "fillmode": "overlay",
              "size": 10,
              "solidity": 0.2
             }
            },
            "type": "barpolar"
           }
          ],
          "carpet": [
           {
            "aaxis": {
             "endlinecolor": "#2a3f5f",
             "gridcolor": "white",
             "linecolor": "white",
             "minorgridcolor": "white",
             "startlinecolor": "#2a3f5f"
            },
            "baxis": {
             "endlinecolor": "#2a3f5f",
             "gridcolor": "white",
             "linecolor": "white",
             "minorgridcolor": "white",
             "startlinecolor": "#2a3f5f"
            },
            "type": "carpet"
           }
          ],
          "choropleth": [
           {
            "colorbar": {
             "outlinewidth": 0,
             "ticks": ""
            },
            "type": "choropleth"
           }
          ],
          "contour": [
           {
            "colorbar": {
             "outlinewidth": 0,
             "ticks": ""
            },
            "colorscale": [
             [
              0,
              "#0d0887"
             ],
             [
              0.1111111111111111,
              "#46039f"
             ],
             [
              0.2222222222222222,
              "#7201a8"
             ],
             [
              0.3333333333333333,
              "#9c179e"
             ],
             [
              0.4444444444444444,
              "#bd3786"
             ],
             [
              0.5555555555555556,
              "#d8576b"
             ],
             [
              0.6666666666666666,
              "#ed7953"
             ],
             [
              0.7777777777777778,
              "#fb9f3a"
             ],
             [
              0.8888888888888888,
              "#fdca26"
             ],
             [
              1,
              "#f0f921"
             ]
            ],
            "type": "contour"
           }
          ],
          "contourcarpet": [
           {
            "colorbar": {
             "outlinewidth": 0,
             "ticks": ""
            },
            "type": "contourcarpet"
           }
          ],
          "heatmap": [
           {
            "colorbar": {
             "outlinewidth": 0,
             "ticks": ""
            },
            "colorscale": [
             [
              0,
              "#0d0887"
             ],
             [
              0.1111111111111111,
              "#46039f"
             ],
             [
              0.2222222222222222,
              "#7201a8"
             ],
             [
              0.3333333333333333,
              "#9c179e"
             ],
             [
              0.4444444444444444,
              "#bd3786"
             ],
             [
              0.5555555555555556,
              "#d8576b"
             ],
             [
              0.6666666666666666,
              "#ed7953"
             ],
             [
              0.7777777777777778,
              "#fb9f3a"
             ],
             [
              0.8888888888888888,
              "#fdca26"
             ],
             [
              1,
              "#f0f921"
             ]
            ],
            "type": "heatmap"
           }
          ],
          "heatmapgl": [
           {
            "colorbar": {
             "outlinewidth": 0,
             "ticks": ""
            },
            "colorscale": [
             [
              0,
              "#0d0887"
             ],
             [
              0.1111111111111111,
              "#46039f"
             ],
             [
              0.2222222222222222,
              "#7201a8"
             ],
             [
              0.3333333333333333,
              "#9c179e"
             ],
             [
              0.4444444444444444,
              "#bd3786"
             ],
             [
              0.5555555555555556,
              "#d8576b"
             ],
             [
              0.6666666666666666,
              "#ed7953"
             ],
             [
              0.7777777777777778,
              "#fb9f3a"
             ],
             [
              0.8888888888888888,
              "#fdca26"
             ],
             [
              1,
              "#f0f921"
             ]
            ],
            "type": "heatmapgl"
           }
          ],
          "histogram": [
           {
            "marker": {
             "pattern": {
              "fillmode": "overlay",
              "size": 10,
              "solidity": 0.2
             }
            },
            "type": "histogram"
           }
          ],
          "histogram2d": [
           {
            "colorbar": {
             "outlinewidth": 0,
             "ticks": ""
            },
            "colorscale": [
             [
              0,
              "#0d0887"
             ],
             [
              0.1111111111111111,
              "#46039f"
             ],
             [
              0.2222222222222222,
              "#7201a8"
             ],
             [
              0.3333333333333333,
              "#9c179e"
             ],
             [
              0.4444444444444444,
              "#bd3786"
             ],
             [
              0.5555555555555556,
              "#d8576b"
             ],
             [
              0.6666666666666666,
              "#ed7953"
             ],
             [
              0.7777777777777778,
              "#fb9f3a"
             ],
             [
              0.8888888888888888,
              "#fdca26"
             ],
             [
              1,
              "#f0f921"
             ]
            ],
            "type": "histogram2d"
           }
          ],
          "histogram2dcontour": [
           {
            "colorbar": {
             "outlinewidth": 0,
             "ticks": ""
            },
            "colorscale": [
             [
              0,
              "#0d0887"
             ],
             [
              0.1111111111111111,
              "#46039f"
             ],
             [
              0.2222222222222222,
              "#7201a8"
             ],
             [
              0.3333333333333333,
              "#9c179e"
             ],
             [
              0.4444444444444444,
              "#bd3786"
             ],
             [
              0.5555555555555556,
              "#d8576b"
             ],
             [
              0.6666666666666666,
              "#ed7953"
             ],
             [
              0.7777777777777778,
              "#fb9f3a"
             ],
             [
              0.8888888888888888,
              "#fdca26"
             ],
             [
              1,
              "#f0f921"
             ]
            ],
            "type": "histogram2dcontour"
           }
          ],
          "mesh3d": [
           {
            "colorbar": {
             "outlinewidth": 0,
             "ticks": ""
            },
            "type": "mesh3d"
           }
          ],
          "parcoords": [
           {
            "line": {
             "colorbar": {
              "outlinewidth": 0,
              "ticks": ""
             }
            },
            "type": "parcoords"
           }
          ],
          "pie": [
           {
            "automargin": true,
            "type": "pie"
           }
          ],
          "scatter": [
           {
            "fillpattern": {
             "fillmode": "overlay",
             "size": 10,
             "solidity": 0.2
            },
            "type": "scatter"
           }
          ],
          "scatter3d": [
           {
            "line": {
             "colorbar": {
              "outlinewidth": 0,
              "ticks": ""
             }
            },
            "marker": {
             "colorbar": {
              "outlinewidth": 0,
              "ticks": ""
             }
            },
            "type": "scatter3d"
           }
          ],
          "scattercarpet": [
           {
            "marker": {
             "colorbar": {
              "outlinewidth": 0,
              "ticks": ""
             }
            },
            "type": "scattercarpet"
           }
          ],
          "scattergeo": [
           {
            "marker": {
             "colorbar": {
              "outlinewidth": 0,
              "ticks": ""
             }
            },
            "type": "scattergeo"
           }
          ],
          "scattergl": [
           {
            "marker": {
             "colorbar": {
              "outlinewidth": 0,
              "ticks": ""
             }
            },
            "type": "scattergl"
           }
          ],
          "scattermapbox": [
           {
            "marker": {
             "colorbar": {
              "outlinewidth": 0,
              "ticks": ""
             }
            },
            "type": "scattermapbox"
           }
          ],
          "scatterpolar": [
           {
            "marker": {
             "colorbar": {
              "outlinewidth": 0,
              "ticks": ""
             }
            },
            "type": "scatterpolar"
           }
          ],
          "scatterpolargl": [
           {
            "marker": {
             "colorbar": {
              "outlinewidth": 0,
              "ticks": ""
             }
            },
            "type": "scatterpolargl"
           }
          ],
          "scatterternary": [
           {
            "marker": {
             "colorbar": {
              "outlinewidth": 0,
              "ticks": ""
             }
            },
            "type": "scatterternary"
           }
          ],
          "surface": [
           {
            "colorbar": {
             "outlinewidth": 0,
             "ticks": ""
            },
            "colorscale": [
             [
              0,
              "#0d0887"
             ],
             [
              0.1111111111111111,
              "#46039f"
             ],
             [
              0.2222222222222222,
              "#7201a8"
             ],
             [
              0.3333333333333333,
              "#9c179e"
             ],
             [
              0.4444444444444444,
              "#bd3786"
             ],
             [
              0.5555555555555556,
              "#d8576b"
             ],
             [
              0.6666666666666666,
              "#ed7953"
             ],
             [
              0.7777777777777778,
              "#fb9f3a"
             ],
             [
              0.8888888888888888,
              "#fdca26"
             ],
             [
              1,
              "#f0f921"
             ]
            ],
            "type": "surface"
           }
          ],
          "table": [
           {
            "cells": {
             "fill": {
              "color": "#EBF0F8"
             },
             "line": {
              "color": "white"
             }
            },
            "header": {
             "fill": {
              "color": "#C8D4E3"
             },
             "line": {
              "color": "white"
             }
            },
            "type": "table"
           }
          ]
         },
         "layout": {
          "annotationdefaults": {
           "arrowcolor": "#2a3f5f",
           "arrowhead": 0,
           "arrowwidth": 1
          },
          "autotypenumbers": "strict",
          "coloraxis": {
           "colorbar": {
            "outlinewidth": 0,
            "ticks": ""
           }
          },
          "colorscale": {
           "diverging": [
            [
             0,
             "#8e0152"
            ],
            [
             0.1,
             "#c51b7d"
            ],
            [
             0.2,
             "#de77ae"
            ],
            [
             0.3,
             "#f1b6da"
            ],
            [
             0.4,
             "#fde0ef"
            ],
            [
             0.5,
             "#f7f7f7"
            ],
            [
             0.6,
             "#e6f5d0"
            ],
            [
             0.7,
             "#b8e186"
            ],
            [
             0.8,
             "#7fbc41"
            ],
            [
             0.9,
             "#4d9221"
            ],
            [
             1,
             "#276419"
            ]
           ],
           "sequential": [
            [
             0,
             "#0d0887"
            ],
            [
             0.1111111111111111,
             "#46039f"
            ],
            [
             0.2222222222222222,
             "#7201a8"
            ],
            [
             0.3333333333333333,
             "#9c179e"
            ],
            [
             0.4444444444444444,
             "#bd3786"
            ],
            [
             0.5555555555555556,
             "#d8576b"
            ],
            [
             0.6666666666666666,
             "#ed7953"
            ],
            [
             0.7777777777777778,
             "#fb9f3a"
            ],
            [
             0.8888888888888888,
             "#fdca26"
            ],
            [
             1,
             "#f0f921"
            ]
           ],
           "sequentialminus": [
            [
             0,
             "#0d0887"
            ],
            [
             0.1111111111111111,
             "#46039f"
            ],
            [
             0.2222222222222222,
             "#7201a8"
            ],
            [
             0.3333333333333333,
             "#9c179e"
            ],
            [
             0.4444444444444444,
             "#bd3786"
            ],
            [
             0.5555555555555556,
             "#d8576b"
            ],
            [
             0.6666666666666666,
             "#ed7953"
            ],
            [
             0.7777777777777778,
             "#fb9f3a"
            ],
            [
             0.8888888888888888,
             "#fdca26"
            ],
            [
             1,
             "#f0f921"
            ]
           ]
          },
          "colorway": [
           "#636efa",
           "#EF553B",
           "#00cc96",
           "#ab63fa",
           "#FFA15A",
           "#19d3f3",
           "#FF6692",
           "#B6E880",
           "#FF97FF",
           "#FECB52"
          ],
          "font": {
           "color": "#2a3f5f"
          },
          "geo": {
           "bgcolor": "white",
           "lakecolor": "white",
           "landcolor": "#E5ECF6",
           "showlakes": true,
           "showland": true,
           "subunitcolor": "white"
          },
          "hoverlabel": {
           "align": "left"
          },
          "hovermode": "closest",
          "mapbox": {
           "style": "light"
          },
          "paper_bgcolor": "white",
          "plot_bgcolor": "#E5ECF6",
          "polar": {
           "angularaxis": {
            "gridcolor": "white",
            "linecolor": "white",
            "ticks": ""
           },
           "bgcolor": "#E5ECF6",
           "radialaxis": {
            "gridcolor": "white",
            "linecolor": "white",
            "ticks": ""
           }
          },
          "scene": {
           "xaxis": {
            "backgroundcolor": "#E5ECF6",
            "gridcolor": "white",
            "gridwidth": 2,
            "linecolor": "white",
            "showbackground": true,
            "ticks": "",
            "zerolinecolor": "white"
           },
           "yaxis": {
            "backgroundcolor": "#E5ECF6",
            "gridcolor": "white",
            "gridwidth": 2,
            "linecolor": "white",
            "showbackground": true,
            "ticks": "",
            "zerolinecolor": "white"
           },
           "zaxis": {
            "backgroundcolor": "#E5ECF6",
            "gridcolor": "white",
            "gridwidth": 2,
            "linecolor": "white",
            "showbackground": true,
            "ticks": "",
            "zerolinecolor": "white"
           }
          },
          "shapedefaults": {
           "line": {
            "color": "#2a3f5f"
           }
          },
          "ternary": {
           "aaxis": {
            "gridcolor": "white",
            "linecolor": "white",
            "ticks": ""
           },
           "baxis": {
            "gridcolor": "white",
            "linecolor": "white",
            "ticks": ""
           },
           "bgcolor": "#E5ECF6",
           "caxis": {
            "gridcolor": "white",
            "linecolor": "white",
            "ticks": ""
           }
          },
          "title": {
           "x": 0.05
          },
          "xaxis": {
           "automargin": true,
           "gridcolor": "white",
           "linecolor": "white",
           "ticks": "",
           "title": {
            "standoff": 15
           },
           "zerolinecolor": "white",
           "zerolinewidth": 2
          },
          "yaxis": {
           "automargin": true,
           "gridcolor": "white",
           "linecolor": "white",
           "ticks": "",
           "title": {
            "standoff": 15
           },
           "zerolinecolor": "white",
           "zerolinewidth": 2
          }
         }
        },
        "width": 900,
        "xaxis": {
         "anchor": "y",
         "domain": [
          0,
          0.45
         ],
         "dtick": 20,
         "range": [
          10,
          130
         ],
         "tick0": 10,
         "title": {
          "standoff": 0,
          "text": "defense"
         }
        },
        "xaxis2": {
         "anchor": "y2",
         "domain": [
          0.55,
          1
         ],
         "dtick": 0.2,
         "range": [
          0.4,
          1.6
         ],
         "tick0": 0.4,
         "title": {
          "standoff": 0,
          "text": "slope (w)"
         }
        },
        "yaxis": {
         "anchor": "x",
         "domain": [
          0,
          1
         ],
         "dtick": 20,
         "range": [
          10,
          130
         ],
         "tick0": 10,
         "title": {
          "standoff": 0,
          "text": "attack"
         }
        },
        "yaxis2": {
         "anchor": "x2",
         "domain": [
          0,
          1
         ],
         "range": [
          0,
          2500
         ],
         "title": {
          "standoff": 0,
          "text": "MSE"
         }
        }
       }
      }
     },
     "metadata": {},
     "output_type": "display_data"
    }
   ],
   "source": [
    "plot_gradient_descent(x,y,0.3,0.00005)"
   ]
  },
  {
   "cell_type": "code",
   "execution_count": 21,
   "id": "5733a92b-bc8c-4055-a30f-c6b2c36191ad",
   "metadata": {},
   "outputs": [],
   "source": [
    "slopes = np.arange(0 , 2.05 , 0.05) # create a series for 0 to 2.05\n",
    "bias = np.arange(-30 , 30 , 2)"
   ]
  },
  {
   "cell_type": "code",
   "execution_count": 24,
   "id": "60ffa57d",
   "metadata": {},
   "outputs": [
    {
     "data": {
      "text/plain": [
       "array([  -83.6, -6370.8])"
      ]
     },
     "execution_count": 24,
     "metadata": {},
     "output_type": "execute_result"
    }
   ],
   "source": [
    "def gradient(x , y , w):\n",
    "    grad_w1 = (1 / len(x)) * 2 * sum(x * (w[1] * x - w[0] - y))\n",
    "    grad_w0 = (1 / len(x)) * 2 * sum((w[1] * x - w[0] - y))\n",
    "    return np.array([grad_w0 , grad_w1])\n",
    "\n",
    "gradient(x , y , [10 , .5])"
   ]
  }
 ],
 "metadata": {
  "kernelspec": {
   "display_name": "Python 3 (ipykernel)",
   "language": "python",
   "name": "python3"
  },
  "language_info": {
   "codemirror_mode": {
    "name": "ipython",
    "version": 3
   },
   "file_extension": ".py",
   "mimetype": "text/x-python",
   "name": "python",
   "nbconvert_exporter": "python",
   "pygments_lexer": "ipython3",
   "version": "3.12.2"
  }
 },
 "nbformat": 4,
 "nbformat_minor": 5
}
